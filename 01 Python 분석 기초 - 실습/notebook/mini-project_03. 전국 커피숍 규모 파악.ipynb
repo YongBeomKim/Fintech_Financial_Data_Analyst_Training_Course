{
 "cells": [
  {
   "cell_type": "markdown",
   "metadata": {},
   "source": [
    "### 전국 커피숍 규모 파악"
   ]
  },
  {
   "cell_type": "code",
   "execution_count": 1,
   "metadata": {},
   "outputs": [],
   "source": [
    "import pandas as pd\n",
    "import numpy as np\n",
    "import matplotlib.pyplot as plt\n",
    "import os\n",
    "%matplotlib inline"
   ]
  },
  {
   "cell_type": "markdown",
   "metadata": {},
   "source": [
    "#### 데이터 프레임을 읽어 옵니다:"
   ]
  },
  {
   "cell_type": "code",
   "execution_count": 2,
   "metadata": {},
   "outputs": [],
   "source": [
    "os.chdir(r\"C:\\Users\\Gram\\Desktop\\아시아경제 수업자료\\01 Python 분석 기초 - 실습\\data\")"
   ]
  },
  {
   "cell_type": "code",
   "execution_count": 3,
   "metadata": {},
   "outputs": [],
   "source": [
    "# df = pd.read_csv('data_studentlist_en.csv', header='infer',encoding='ISO-8859-1')\n",
    "df0 = pd.read_csv('data_coffee.csv', header='infer',encoding = 'latin1')"
   ]
  },
  {
   "cell_type": "code",
   "execution_count": 4,
   "metadata": {},
   "outputs": [
    {
     "data": {
      "text/plain": [
       "(46832, 23)"
      ]
     },
     "execution_count": 4,
     "metadata": {},
     "output_type": "execute_result"
    }
   ],
   "source": [
    "df0.shape"
   ]
  },
  {
   "cell_type": "markdown",
   "metadata": {},
   "source": [
    "#### 데이터 프레임의 구조를 한눈에 살펴 봅니다:"
   ]
  },
  {
   "cell_type": "code",
   "execution_count": 5,
   "metadata": {},
   "outputs": [
    {
     "name": "stdout",
     "output_type": "stream",
     "text": [
      "<class 'pandas.core.frame.DataFrame'>\n",
      "RangeIndex: 46832 entries, 0 to 46831\n",
      "Data columns (total 23 columns):\n",
      "number                  46832 non-null int64\n",
      "companyName             46832 non-null object\n",
      "adress                  46600 non-null object\n",
      "adressBystreet          39548 non-null object\n",
      "dateOflicensing         46832 non-null int64\n",
      "stateOfbusiness         46832 non-null object\n",
      "dateOfclosure           13245 non-null float64\n",
      "startdateOfcessation    0 non-null float64\n",
      "duedateOfcessation      0 non-null float64\n",
      "dateOfreOpen            0 non-null float64\n",
      "areaOfsite              0 non-null float64\n",
      "zip                     0 non-null float64\n",
      "waterwork               29610 non-null object\n",
      "numOfmenWorker          5918 non-null float64\n",
      "yearOfStart             46813 non-null float64\n",
      "multipleUse             46813 non-null object\n",
      "grade                   3775 non-null object\n",
      "sizeOfsite              46813 non-null float64\n",
      "numOfwomenWorker        7042 non-null float64\n",
      "vicintyOfsite           12894 non-null object\n",
      "sanitaryName            46813 non-null object\n",
      "businessCondition       46813 non-null object\n",
      "totalOfworker           5537 non-null float64\n",
      "dtypes: float64(11), int64(2), object(10)\n",
      "memory usage: 8.2+ MB\n"
     ]
    }
   ],
   "source": [
    "df0.info()"
   ]
  },
  {
   "cell_type": "markdown",
   "metadata": {},
   "source": [
    "#### 데이터 프레임의 컬럼 이름을 header에 저장합니다:"
   ]
  },
  {
   "cell_type": "code",
   "execution_count": 6,
   "metadata": {},
   "outputs": [
    {
     "data": {
      "text/plain": [
       "Index(['number', 'companyName', 'adress', 'adressBystreet', 'dateOflicensing',\n",
       "       'stateOfbusiness', 'dateOfclosure', 'startdateOfcessation',\n",
       "       'duedateOfcessation', 'dateOfreOpen', 'areaOfsite', 'zip', 'waterwork',\n",
       "       'numOfmenWorker', 'yearOfStart', 'multipleUse', 'grade', 'sizeOfsite',\n",
       "       'numOfwomenWorker', 'vicintyOfsite', 'sanitaryName',\n",
       "       'businessCondition', 'totalOfworker'],\n",
       "      dtype='object')"
      ]
     },
     "execution_count": 6,
     "metadata": {},
     "output_type": "execute_result"
    }
   ],
   "source": [
    "header = df0.columns\n",
    "header"
   ]
  },
  {
   "cell_type": "markdown",
   "metadata": {},
   "source": [
    "#### 결측치에 관해서 알아봅니다:"
   ]
  },
  {
   "cell_type": "code",
   "execution_count": 7,
   "metadata": {},
   "outputs": [
    {
     "data": {
      "text/plain": [
       "number                      0\n",
       "companyName                 0\n",
       "adress                    232\n",
       "adressBystreet           7284\n",
       "dateOflicensing             0\n",
       "stateOfbusiness             0\n",
       "dateOfclosure           33587\n",
       "startdateOfcessation    46832\n",
       "duedateOfcessation      46832\n",
       "dateOfreOpen            46832\n",
       "areaOfsite              46832\n",
       "zip                     46832\n",
       "waterwork               17222\n",
       "numOfmenWorker          40914\n",
       "yearOfStart                19\n",
       "multipleUse                19\n",
       "grade                   43057\n",
       "sizeOfsite                 19\n",
       "numOfwomenWorker        39790\n",
       "vicintyOfsite           33938\n",
       "sanitaryName               19\n",
       "businessCondition          19\n",
       "totalOfworker           41295\n",
       "dtype: int64"
      ]
     },
     "execution_count": 7,
     "metadata": {},
     "output_type": "execute_result"
    }
   ],
   "source": [
    "(df0.isnull()).sum(axis=0)"
   ]
  },
  {
   "cell_type": "code",
   "execution_count": 8,
   "metadata": {},
   "outputs": [
    {
     "data": {
      "text/plain": [
       "number                  0.000000\n",
       "companyName             0.000000\n",
       "adress                  0.004954\n",
       "adressBystreet          0.155535\n",
       "dateOflicensing         0.000000\n",
       "stateOfbusiness         0.000000\n",
       "dateOfclosure           0.717181\n",
       "startdateOfcessation    1.000000\n",
       "duedateOfcessation      1.000000\n",
       "dateOfreOpen            1.000000\n",
       "areaOfsite              1.000000\n",
       "zip                     1.000000\n",
       "waterwork               0.367740\n",
       "numOfmenWorker          0.873633\n",
       "yearOfStart             0.000406\n",
       "multipleUse             0.000406\n",
       "grade                   0.919393\n",
       "sizeOfsite              0.000406\n",
       "numOfwomenWorker        0.849633\n",
       "vicintyOfsite           0.724675\n",
       "sanitaryName            0.000406\n",
       "businessCondition       0.000406\n",
       "totalOfworker           0.881769\n",
       "dtype: float64"
      ]
     },
     "execution_count": 8,
     "metadata": {},
     "output_type": "execute_result"
    }
   ],
   "source": [
    "(df0.isnull()).mean(axis=0)"
   ]
  },
  {
   "cell_type": "markdown",
   "metadata": {},
   "source": [
    "#### 결측치가 있는 sizeOfSite의 행은 떨구어 냅니다:"
   ]
  },
  {
   "cell_type": "code",
   "execution_count": 9,
   "metadata": {},
   "outputs": [],
   "source": [
    "#x0 = np.array(df0.loc[:,'sizeOfsite'].dropna())\n",
    "x0 = df0.loc[:,'sizeOfsite'].dropna()"
   ]
  },
  {
   "cell_type": "code",
   "execution_count": 10,
   "metadata": {},
   "outputs": [
    {
     "data": {
      "text/plain": [
       "(46813,)"
      ]
     },
     "execution_count": 10,
     "metadata": {},
     "output_type": "execute_result"
    }
   ],
   "source": [
    "x0.shape"
   ]
  },
  {
   "cell_type": "markdown",
   "metadata": {},
   "source": [
    "#### Histogram을 그립니다:"
   ]
  },
  {
   "cell_type": "code",
   "execution_count": 11,
   "metadata": {},
   "outputs": [
    {
     "data": {
      "image/png": "[encoded data removed]",
      "text/plain": [
       "<Figure size 432x288 with 1 Axes>"
      ]
     },
     "metadata": {
      "needs_background": "light"
     },
     "output_type": "display_data"
    }
   ],
   "source": [
    "plt.hist(x0, bins=50, color='green', density=True)\n",
    "plt.show()"
   ]
  },
  {
   "cell_type": "markdown",
   "metadata": {},
   "source": [
    "#### 매장 규모가 500 이상인 outlier는 필터링 하고 다시 histogram을 그립니다:"
   ]
  },
  {
   "cell_type": "code",
   "execution_count": 12,
   "metadata": {},
   "outputs": [],
   "source": [
    "x=x0[x0 < 500]"
   ]
  },
  {
   "cell_type": "code",
   "execution_count": 13,
   "metadata": {},
   "outputs": [
    {
     "data": {
      "image/png": "[encoded data removed]",
      "text/plain": [
       "<Figure size 432x288 with 1 Axes>"
      ]
     },
     "metadata": {
      "needs_background": "light"
     },
     "output_type": "display_data"
    }
   ],
   "source": [
    "plt.hist(x,bins=50,color='blue', density=True)\n",
    "plt.show()"
   ]
  },
  {
   "cell_type": "code",
   "execution_count": null,
   "metadata": {},
   "outputs": [],
   "source": []
  }
 ],
 "metadata": {
  "kernelspec": {
   "display_name": "Python 3",
   "language": "python",
   "name": "python3"
  },
  "language_info": {
   "codemirror_mode": {
    "name": "ipython",
    "version": 3
   },
   "file_extension": ".py",
   "mimetype": "text/x-python",
   "name": "python",
   "nbconvert_exporter": "python",
   "pygments_lexer": "ipython3",
   "version": "3.7.4"
  }
 },
 "nbformat": 4,
 "nbformat_minor": 2
}
