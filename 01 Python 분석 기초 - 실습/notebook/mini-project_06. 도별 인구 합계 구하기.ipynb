{
 "cells": [
  {
   "cell_type": "markdown",
   "metadata": {},
   "source": [
    "### 도별 인구 합계 구하기"
   ]
  },
  {
   "cell_type": "code",
   "execution_count": 1,
   "metadata": {},
   "outputs": [],
   "source": [
    "import pandas as pd\n",
    "import numpy as np\n",
    "import os\n",
    "from matplotlib import font_manager, rc\n",
    "%matplotlib inline\n",
    "font_name = font_manager.FontProperties(fname=\"c:/Windows/Fonts/malgun.ttf\").get_name()\n",
    "rc('font', family=font_name)"
   ]
  },
  {
   "cell_type": "markdown",
   "metadata": {},
   "source": [
    "#### 데이터 프레임 읽어오기: 읽어올 때 빈 셀은 결측치로 인식"
   ]
  },
  {
   "cell_type": "code",
   "execution_count": 2,
   "metadata": {},
   "outputs": [],
   "source": [
    "os.chdir(r\"C:\\Users\\Gram\\Desktop\\아시아경제 수업자료\\01 Python 분석 기초 - 실습\\data\")"
   ]
  },
  {
   "cell_type": "code",
   "execution_count": 3,
   "metadata": {},
   "outputs": [],
   "source": [
    "df=pd.read_csv('data_population.csv', header='infer', encoding='ms949',na_values=[' '])  #결측치 NaN으로 인식하게끔"
   ]
  },
  {
   "cell_type": "code",
   "execution_count": 4,
   "metadata": {},
   "outputs": [
    {
     "data": {
      "text/html": [
       "<div>\n",
       "<style scoped>\n",
       "    .dataframe tbody tr th:only-of-type {\n",
       "        vertical-align: middle;\n",
       "    }\n",
       "\n",
       "    .dataframe tbody tr th {\n",
       "        vertical-align: top;\n",
       "    }\n",
       "\n",
       "    .dataframe thead th {\n",
       "        text-align: right;\n",
       "    }\n",
       "</style>\n",
       "<table border=\"1\" class=\"dataframe\">\n",
       "  <thead>\n",
       "    <tr style=\"text-align: right;\">\n",
       "      <th></th>\n",
       "      <th>Unnamed: 0</th>\n",
       "      <th>Province</th>\n",
       "      <th>City</th>\n",
       "      <th>Population</th>\n",
       "      <th>Households</th>\n",
       "      <th>PersInHou</th>\n",
       "      <th>Male</th>\n",
       "      <th>Female</th>\n",
       "      <th>GenderRatio</th>\n",
       "    </tr>\n",
       "  </thead>\n",
       "  <tbody>\n",
       "    <tr>\n",
       "      <td>0</td>\n",
       "      <td>1</td>\n",
       "      <td>서울특별시</td>\n",
       "      <td>NaN</td>\n",
       "      <td>10078850</td>\n",
       "      <td>4197478</td>\n",
       "      <td>2.40</td>\n",
       "      <td>4962774</td>\n",
       "      <td>5116076</td>\n",
       "      <td>0.97</td>\n",
       "    </tr>\n",
       "    <tr>\n",
       "      <td>1</td>\n",
       "      <td>2</td>\n",
       "      <td>서울특별시</td>\n",
       "      <td>종로구</td>\n",
       "      <td>155695</td>\n",
       "      <td>72882</td>\n",
       "      <td>2.14</td>\n",
       "      <td>76962</td>\n",
       "      <td>78733</td>\n",
       "      <td>0.98</td>\n",
       "    </tr>\n",
       "    <tr>\n",
       "      <td>2</td>\n",
       "      <td>3</td>\n",
       "      <td>서울특별시</td>\n",
       "      <td>중구</td>\n",
       "      <td>126817</td>\n",
       "      <td>59614</td>\n",
       "      <td>2.13</td>\n",
       "      <td>63292</td>\n",
       "      <td>63525</td>\n",
       "      <td>1.00</td>\n",
       "    </tr>\n",
       "  </tbody>\n",
       "</table>\n",
       "</div>"
      ],
      "text/plain": [
       "   Unnamed: 0 Province  City  Population  Households  PersInHou     Male  \\\n",
       "0           1    서울특별시   NaN    10078850     4197478       2.40  4962774   \n",
       "1           2    서울특별시  종로구       155695       72882       2.14    76962   \n",
       "2           3    서울특별시   중구       126817       59614       2.13    63292   \n",
       "\n",
       "    Female  GenderRatio  \n",
       "0  5116076         0.97  \n",
       "1    78733         0.98  \n",
       "2    63525         1.00  "
      ]
     },
     "execution_count": 4,
     "metadata": {},
     "output_type": "execute_result"
    }
   ],
   "source": [
    "df.head(3)       #서울특별시 city가 NaN으로 결측치"
   ]
  },
  {
   "cell_type": "markdown",
   "metadata": {},
   "source": [
    "#### 결측치 처리"
   ]
  },
  {
   "cell_type": "code",
   "execution_count": 5,
   "metadata": {},
   "outputs": [
    {
     "data": {
      "text/plain": [
       "Unnamed: 0     281\n",
       "Province       281\n",
       "City           263\n",
       "Population     281\n",
       "Households     281\n",
       "PersInHou      281\n",
       "Male           281\n",
       "Female         281\n",
       "GenderRatio    281\n",
       "dtype: int64"
      ]
     },
     "execution_count": 5,
     "metadata": {},
     "output_type": "execute_result"
    }
   ],
   "source": [
    "df.count()    #결측치아닌 정상값의 개수 먼저 확인   # df.count(axis=0)하면 열 방향으로 \n",
    "              #city에 결측치 NaN이 있어서 263으로 나옴"
   ]
  },
  {
   "cell_type": "code",
   "execution_count": 6,
   "metadata": {},
   "outputs": [],
   "source": [
    "df=df.dropna(axis=0)   # 결측치 포함된 행 제거.  #여기서 재대입하거나, lispace하면 항구적으로 남음"
   ]
  },
  {
   "cell_type": "code",
   "execution_count": 7,
   "metadata": {},
   "outputs": [
    {
     "data": {
      "text/plain": [
       "Unnamed: 0     263\n",
       "Province       263\n",
       "City           263\n",
       "Population     263\n",
       "Households     263\n",
       "PersInHou      263\n",
       "Male           263\n",
       "Female         263\n",
       "GenderRatio    263\n",
       "dtype: int64"
      ]
     },
     "execution_count": 7,
     "metadata": {},
     "output_type": "execute_result"
    }
   ],
   "source": [
    "df.count()     #결측치 처리후 정상값들 다시 확인\n",
    "               #city값도 다른값과 같아짐"
   ]
  },
  {
   "cell_type": "markdown",
   "metadata": {},
   "source": [
    "#### 1) groupby로 그룹 합계 구하기"
   ]
  },
  {
   "cell_type": "code",
   "execution_count": 8,
   "metadata": {},
   "outputs": [
    {
     "data": {
      "text/plain": [
       "Province\n",
       "강원도         1547166\n",
       "경기도        18723822\n",
       "경상남도        4428762\n",
       "경상북도        3215695\n",
       "광주광역시       1476974\n",
       "대구광역시       2491137\n",
       "대전광역시       1525656\n",
       "부산광역시       3517491\n",
       "서울특별시      10078850\n",
       "울산광역시       1169768\n",
       "인천광역시       2914271\n",
       "전라남도        1902638\n",
       "전라북도        2523806\n",
       "제주특별자치도      615250\n",
       "충청남도        2671383\n",
       "충청북도        2414568\n",
       "Name: Population, dtype: int64"
      ]
     },
     "execution_count": 8,
     "metadata": {},
     "output_type": "execute_result"
    }
   ],
   "source": [
    "df.groupby('Province')['Population'].sum()    #도별로 인구 합\n",
    "#서울이 10078850으로 서브토탈과 일치함"
   ]
  },
  {
   "cell_type": "markdown",
   "metadata": {},
   "source": [
    "#### 2) 피보팅으로 그룹 합계 구하기"
   ]
  },
  {
   "cell_type": "code",
   "execution_count": 9,
   "metadata": {},
   "outputs": [
    {
     "data": {
      "text/html": [
       "<div>\n",
       "<style scoped>\n",
       "    .dataframe tbody tr th:only-of-type {\n",
       "        vertical-align: middle;\n",
       "    }\n",
       "\n",
       "    .dataframe tbody tr th {\n",
       "        vertical-align: top;\n",
       "    }\n",
       "\n",
       "    .dataframe thead th {\n",
       "        text-align: right;\n",
       "    }\n",
       "</style>\n",
       "<table border=\"1\" class=\"dataframe\">\n",
       "  <thead>\n",
       "    <tr style=\"text-align: right;\">\n",
       "      <th></th>\n",
       "      <th>Population</th>\n",
       "    </tr>\n",
       "    <tr>\n",
       "      <th>Province</th>\n",
       "      <th></th>\n",
       "    </tr>\n",
       "  </thead>\n",
       "  <tbody>\n",
       "    <tr>\n",
       "      <td>강원도</td>\n",
       "      <td>1547166</td>\n",
       "    </tr>\n",
       "    <tr>\n",
       "      <td>경기도</td>\n",
       "      <td>18723822</td>\n",
       "    </tr>\n",
       "    <tr>\n",
       "      <td>경상남도</td>\n",
       "      <td>4428762</td>\n",
       "    </tr>\n",
       "    <tr>\n",
       "      <td>경상북도</td>\n",
       "      <td>3215695</td>\n",
       "    </tr>\n",
       "    <tr>\n",
       "      <td>광주광역시</td>\n",
       "      <td>1476974</td>\n",
       "    </tr>\n",
       "    <tr>\n",
       "      <td>대구광역시</td>\n",
       "      <td>2491137</td>\n",
       "    </tr>\n",
       "    <tr>\n",
       "      <td>대전광역시</td>\n",
       "      <td>1525656</td>\n",
       "    </tr>\n",
       "    <tr>\n",
       "      <td>부산광역시</td>\n",
       "      <td>3517491</td>\n",
       "    </tr>\n",
       "    <tr>\n",
       "      <td>서울특별시</td>\n",
       "      <td>10078850</td>\n",
       "    </tr>\n",
       "    <tr>\n",
       "      <td>울산광역시</td>\n",
       "      <td>1169768</td>\n",
       "    </tr>\n",
       "    <tr>\n",
       "      <td>인천광역시</td>\n",
       "      <td>2914271</td>\n",
       "    </tr>\n",
       "    <tr>\n",
       "      <td>전라남도</td>\n",
       "      <td>1902638</td>\n",
       "    </tr>\n",
       "    <tr>\n",
       "      <td>전라북도</td>\n",
       "      <td>2523806</td>\n",
       "    </tr>\n",
       "    <tr>\n",
       "      <td>제주특별자치도</td>\n",
       "      <td>615250</td>\n",
       "    </tr>\n",
       "    <tr>\n",
       "      <td>충청남도</td>\n",
       "      <td>2671383</td>\n",
       "    </tr>\n",
       "    <tr>\n",
       "      <td>충청북도</td>\n",
       "      <td>2414568</td>\n",
       "    </tr>\n",
       "  </tbody>\n",
       "</table>\n",
       "</div>"
      ],
      "text/plain": [
       "          Population\n",
       "Province            \n",
       "강원도          1547166\n",
       "경기도         18723822\n",
       "경상남도         4428762\n",
       "경상북도         3215695\n",
       "광주광역시        1476974\n",
       "대구광역시        2491137\n",
       "대전광역시        1525656\n",
       "부산광역시        3517491\n",
       "서울특별시       10078850\n",
       "울산광역시        1169768\n",
       "인천광역시        2914271\n",
       "전라남도         1902638\n",
       "전라북도         2523806\n",
       "제주특별자치도       615250\n",
       "충청남도         2671383\n",
       "충청북도         2414568"
      ]
     },
     "execution_count": 9,
     "metadata": {},
     "output_type": "execute_result"
    }
   ],
   "source": [
    "# 세로 방향으로.\n",
    "df.pivot_table(index = 'Province', values = 'Population', aggfunc=np.sum)"
   ]
  },
  {
   "cell_type": "code",
   "execution_count": 10,
   "metadata": {},
   "outputs": [
    {
     "data": {
      "text/html": [
       "<div>\n",
       "<style scoped>\n",
       "    .dataframe tbody tr th:only-of-type {\n",
       "        vertical-align: middle;\n",
       "    }\n",
       "\n",
       "    .dataframe tbody tr th {\n",
       "        vertical-align: top;\n",
       "    }\n",
       "\n",
       "    .dataframe thead th {\n",
       "        text-align: right;\n",
       "    }\n",
       "</style>\n",
       "<table border=\"1\" class=\"dataframe\">\n",
       "  <thead>\n",
       "    <tr style=\"text-align: right;\">\n",
       "      <th>Province</th>\n",
       "      <th>강원도</th>\n",
       "      <th>경기도</th>\n",
       "      <th>경상남도</th>\n",
       "      <th>경상북도</th>\n",
       "      <th>광주광역시</th>\n",
       "      <th>대구광역시</th>\n",
       "      <th>대전광역시</th>\n",
       "      <th>부산광역시</th>\n",
       "      <th>서울특별시</th>\n",
       "      <th>울산광역시</th>\n",
       "      <th>인천광역시</th>\n",
       "      <th>전라남도</th>\n",
       "      <th>전라북도</th>\n",
       "      <th>제주특별자치도</th>\n",
       "      <th>충청남도</th>\n",
       "      <th>충청북도</th>\n",
       "    </tr>\n",
       "  </thead>\n",
       "  <tbody>\n",
       "    <tr>\n",
       "      <td>Population</td>\n",
       "      <td>1547166</td>\n",
       "      <td>18723822</td>\n",
       "      <td>4428762</td>\n",
       "      <td>3215695</td>\n",
       "      <td>1476974</td>\n",
       "      <td>2491137</td>\n",
       "      <td>1525656</td>\n",
       "      <td>3517491</td>\n",
       "      <td>10078850</td>\n",
       "      <td>1169768</td>\n",
       "      <td>2914271</td>\n",
       "      <td>1902638</td>\n",
       "      <td>2523806</td>\n",
       "      <td>615250</td>\n",
       "      <td>2671383</td>\n",
       "      <td>2414568</td>\n",
       "    </tr>\n",
       "  </tbody>\n",
       "</table>\n",
       "</div>"
      ],
      "text/plain": [
       "Province        강원도       경기도     경상남도     경상북도    광주광역시    대구광역시    대전광역시  \\\n",
       "Population  1547166  18723822  4428762  3215695  1476974  2491137  1525656   \n",
       "\n",
       "Province      부산광역시     서울특별시    울산광역시    인천광역시     전라남도     전라북도  제주특별자치도  \\\n",
       "Population  3517491  10078850  1169768  2914271  1902638  2523806   615250   \n",
       "\n",
       "Province       충청남도     충청북도  \n",
       "Population  2671383  2414568  "
      ]
     },
     "execution_count": 10,
     "metadata": {},
     "output_type": "execute_result"
    }
   ],
   "source": [
    "# 가로 방향으로.\n",
    "df.pivot_table(columns = 'Province', values = 'Population', aggfunc=np.sum)"
   ]
  }
 ],
 "metadata": {
  "kernelspec": {
   "display_name": "Python 3",
   "language": "python",
   "name": "python3"
  },
  "language_info": {
   "codemirror_mode": {
    "name": "ipython",
    "version": 3
   },
   "file_extension": ".py",
   "mimetype": "text/x-python",
   "name": "python",
   "nbconvert_exporter": "python",
   "pygments_lexer": "ipython3",
   "version": "3.7.4"
  }
 },
 "nbformat": 4,
 "nbformat_minor": 2
}
