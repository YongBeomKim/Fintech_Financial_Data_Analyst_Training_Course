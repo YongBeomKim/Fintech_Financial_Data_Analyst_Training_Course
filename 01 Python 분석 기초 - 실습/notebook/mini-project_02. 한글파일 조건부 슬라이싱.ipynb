{
 "cells": [
  {
   "cell_type": "code",
   "execution_count": 1,
   "metadata": {},
   "outputs": [],
   "source": [
    "import pandas as pd\n",
    "import numpy as np\n",
    "import os\n",
    "import matplotlib.pyplot as plt\n",
    "from matplotlib import font_manager, rc\n",
    "%matplotlib inline\n",
    "font_name = font_manager.FontProperties(fname=\"c:/Windows/Fonts/malgun.ttf\").get_name()\n",
    "rc('font', family=font_name)"
   ]
  },
  {
   "cell_type": "markdown",
   "metadata": {},
   "source": [
    "#### 데이터 프레임을 읽어 옵니다:"
   ]
  },
  {
   "cell_type": "code",
   "execution_count": 2,
   "metadata": {},
   "outputs": [],
   "source": [
    "os.chdir(r\"C:\\Users\\Gram\\Desktop\\아시아경제 수업자료\\01 Python 분석 기초 - 실습\\data\")"
   ]
  },
  {
   "cell_type": "code",
   "execution_count": 3,
   "metadata": {},
   "outputs": [],
   "source": [
    "df = pd.read_csv('data_population.csv', header='infer',encoding = 'ms949')"
   ]
  },
  {
   "cell_type": "code",
   "execution_count": 4,
   "metadata": {},
   "outputs": [
    {
     "data": {
      "text/plain": [
       "(281, 9)"
      ]
     },
     "execution_count": 4,
     "metadata": {},
     "output_type": "execute_result"
    }
   ],
   "source": [
    "df.shape"
   ]
  },
  {
   "cell_type": "code",
   "execution_count": 5,
   "metadata": {},
   "outputs": [
    {
     "data": {
      "text/html": [
       "<div>\n",
       "<style scoped>\n",
       "    .dataframe tbody tr th:only-of-type {\n",
       "        vertical-align: middle;\n",
       "    }\n",
       "\n",
       "    .dataframe tbody tr th {\n",
       "        vertical-align: top;\n",
       "    }\n",
       "\n",
       "    .dataframe thead th {\n",
       "        text-align: right;\n",
       "    }\n",
       "</style>\n",
       "<table border=\"1\" class=\"dataframe\">\n",
       "  <thead>\n",
       "    <tr style=\"text-align: right;\">\n",
       "      <th></th>\n",
       "      <th>Unnamed: 0</th>\n",
       "      <th>Province</th>\n",
       "      <th>City</th>\n",
       "      <th>Population</th>\n",
       "      <th>Households</th>\n",
       "      <th>PersInHou</th>\n",
       "      <th>Male</th>\n",
       "      <th>Female</th>\n",
       "      <th>GenderRatio</th>\n",
       "    </tr>\n",
       "  </thead>\n",
       "  <tbody>\n",
       "    <tr>\n",
       "      <td>0</td>\n",
       "      <td>1</td>\n",
       "      <td>서울특별시</td>\n",
       "      <td></td>\n",
       "      <td>10078850</td>\n",
       "      <td>4197478</td>\n",
       "      <td>2.40</td>\n",
       "      <td>4962774</td>\n",
       "      <td>5116076</td>\n",
       "      <td>0.97</td>\n",
       "    </tr>\n",
       "    <tr>\n",
       "      <td>1</td>\n",
       "      <td>2</td>\n",
       "      <td>서울특별시</td>\n",
       "      <td>종로구</td>\n",
       "      <td>155695</td>\n",
       "      <td>72882</td>\n",
       "      <td>2.14</td>\n",
       "      <td>76962</td>\n",
       "      <td>78733</td>\n",
       "      <td>0.98</td>\n",
       "    </tr>\n",
       "    <tr>\n",
       "      <td>2</td>\n",
       "      <td>3</td>\n",
       "      <td>서울특별시</td>\n",
       "      <td>중구</td>\n",
       "      <td>126817</td>\n",
       "      <td>59614</td>\n",
       "      <td>2.13</td>\n",
       "      <td>63292</td>\n",
       "      <td>63525</td>\n",
       "      <td>1.00</td>\n",
       "    </tr>\n",
       "    <tr>\n",
       "      <td>3</td>\n",
       "      <td>4</td>\n",
       "      <td>서울특별시</td>\n",
       "      <td>용산구</td>\n",
       "      <td>235186</td>\n",
       "      <td>108138</td>\n",
       "      <td>2.17</td>\n",
       "      <td>114119</td>\n",
       "      <td>121067</td>\n",
       "      <td>0.94</td>\n",
       "    </tr>\n",
       "    <tr>\n",
       "      <td>4</td>\n",
       "      <td>5</td>\n",
       "      <td>서울특별시</td>\n",
       "      <td>성동구</td>\n",
       "      <td>298145</td>\n",
       "      <td>126915</td>\n",
       "      <td>2.35</td>\n",
       "      <td>148265</td>\n",
       "      <td>149880</td>\n",
       "      <td>0.99</td>\n",
       "    </tr>\n",
       "    <tr>\n",
       "      <td>5</td>\n",
       "      <td>6</td>\n",
       "      <td>서울특별시</td>\n",
       "      <td>광진구</td>\n",
       "      <td>362197</td>\n",
       "      <td>158769</td>\n",
       "      <td>2.28</td>\n",
       "      <td>177946</td>\n",
       "      <td>184251</td>\n",
       "      <td>0.97</td>\n",
       "    </tr>\n",
       "    <tr>\n",
       "      <td>6</td>\n",
       "      <td>7</td>\n",
       "      <td>서울특별시</td>\n",
       "      <td>동대문구</td>\n",
       "      <td>362604</td>\n",
       "      <td>160110</td>\n",
       "      <td>2.26</td>\n",
       "      <td>181825</td>\n",
       "      <td>180779</td>\n",
       "      <td>1.01</td>\n",
       "    </tr>\n",
       "    <tr>\n",
       "      <td>7</td>\n",
       "      <td>8</td>\n",
       "      <td>서울특별시</td>\n",
       "      <td>중랑구</td>\n",
       "      <td>417976</td>\n",
       "      <td>177077</td>\n",
       "      <td>2.36</td>\n",
       "      <td>208657</td>\n",
       "      <td>209319</td>\n",
       "      <td>1.00</td>\n",
       "    </tr>\n",
       "    <tr>\n",
       "      <td>8</td>\n",
       "      <td>9</td>\n",
       "      <td>서울특별시</td>\n",
       "      <td>성북구</td>\n",
       "      <td>464176</td>\n",
       "      <td>192670</td>\n",
       "      <td>2.41</td>\n",
       "      <td>227676</td>\n",
       "      <td>236500</td>\n",
       "      <td>0.96</td>\n",
       "    </tr>\n",
       "    <tr>\n",
       "      <td>9</td>\n",
       "      <td>10</td>\n",
       "      <td>서울특별시</td>\n",
       "      <td>강북구</td>\n",
       "      <td>333523</td>\n",
       "      <td>141325</td>\n",
       "      <td>2.36</td>\n",
       "      <td>164304</td>\n",
       "      <td>169219</td>\n",
       "      <td>0.97</td>\n",
       "    </tr>\n",
       "  </tbody>\n",
       "</table>\n",
       "</div>"
      ],
      "text/plain": [
       "   Unnamed: 0 Province   City  Population  Households  PersInHou     Male  \\\n",
       "0           1    서울특별시           10078850     4197478       2.40  4962774   \n",
       "1           2    서울특별시   종로구       155695       72882       2.14    76962   \n",
       "2           3    서울특별시    중구       126817       59614       2.13    63292   \n",
       "3           4    서울특별시   용산구       235186      108138       2.17   114119   \n",
       "4           5    서울특별시   성동구       298145      126915       2.35   148265   \n",
       "5           6    서울특별시   광진구       362197      158769       2.28   177946   \n",
       "6           7    서울특별시  동대문구       362604      160110       2.26   181825   \n",
       "7           8    서울특별시   중랑구       417976      177077       2.36   208657   \n",
       "8           9    서울특별시   성북구       464176      192670       2.41   227676   \n",
       "9          10    서울특별시   강북구       333523      141325       2.36   164304   \n",
       "\n",
       "    Female  GenderRatio  \n",
       "0  5116076         0.97  \n",
       "1    78733         0.98  \n",
       "2    63525         1.00  \n",
       "3   121067         0.94  \n",
       "4   149880         0.99  \n",
       "5   184251         0.97  \n",
       "6   180779         1.01  \n",
       "7   209319         1.00  \n",
       "8   236500         0.96  \n",
       "9   169219         0.97  "
      ]
     },
     "execution_count": 5,
     "metadata": {},
     "output_type": "execute_result"
    }
   ],
   "source": [
    "df.head(10)"
   ]
  },
  {
   "cell_type": "markdown",
   "metadata": {},
   "source": [
    "#### 다음 통계치를 구하시오:"
   ]
  },
  {
   "cell_type": "markdown",
   "metadata": {},
   "source": [
    "1). 경상남도의 인구를 집계 하시오:"
   ]
  },
  {
   "cell_type": "code",
   "execution_count": 6,
   "metadata": {},
   "outputs": [
    {
     "data": {
      "text/plain": [
       "7785302"
      ]
     },
     "execution_count": 6,
     "metadata": {},
     "output_type": "execute_result"
    }
   ],
   "source": [
    "df[df.Province=='경상남도'].Population.sum()"
   ]
  },
  {
   "cell_type": "markdown",
   "metadata": {},
   "source": [
    "2). 경상북도의 인구를 집계 하시오:"
   ]
  },
  {
   "cell_type": "code",
   "execution_count": 7,
   "metadata": {},
   "outputs": [
    {
     "data": {
      "text/plain": [
       "5913486"
      ]
     },
     "execution_count": 7,
     "metadata": {},
     "output_type": "execute_result"
    }
   ],
   "source": [
    "df[df.Province=='경상북도'].Population.sum()"
   ]
  },
  {
   "cell_type": "markdown",
   "metadata": {},
   "source": [
    "3). 경상남도와 경상북도의 인구를 동시에 집계 하시오:"
   ]
  },
  {
   "cell_type": "code",
   "execution_count": 8,
   "metadata": {},
   "outputs": [
    {
     "data": {
      "text/plain": [
       "13698788"
      ]
     },
     "execution_count": 8,
     "metadata": {},
     "output_type": "execute_result"
    }
   ],
   "source": [
    "df[(df.Province=='경상북도') | (df.Province=='경상남도')].Population.sum()   #and아닌 or"
   ]
  },
  {
   "cell_type": "markdown",
   "metadata": {},
   "source": [
    "4). 성비 기준으로 남자가 상대적으로 많은 도시 (GenderRatio >1)의 평균 인구를 구하시오:"
   ]
  },
  {
   "cell_type": "code",
   "execution_count": 9,
   "metadata": {},
   "outputs": [
    {
     "data": {
      "text/plain": [
       "419221.2076923077"
      ]
     },
     "execution_count": 9,
     "metadata": {},
     "output_type": "execute_result"
    }
   ],
   "source": [
    "df[(df.GenderRatio > 1)].Population.mean()"
   ]
  },
  {
   "cell_type": "markdown",
   "metadata": {},
   "source": [
    "5). 성비 기준으로 남자가 상대적으로 적은 도시 (GenderRatio <1)의 평균 인구를 구하시오:"
   ]
  },
  {
   "cell_type": "code",
   "execution_count": 10,
   "metadata": {},
   "outputs": [
    {
     "data": {
      "text/plain": [
       "394085.1074380165"
      ]
     },
     "execution_count": 10,
     "metadata": {},
     "output_type": "execute_result"
    }
   ],
   "source": [
    "df[(df.GenderRatio < 1)].Population.mean()"
   ]
  },
  {
   "cell_type": "markdown",
   "metadata": {},
   "source": [
    "6). 성비 기준으로 남자가 적고 **(GenderRatio < 1)** 가족인원수가 2인 이상 **(PersInHou >= 2)** 도시를 찾으시오:"
   ]
  },
  {
   "cell_type": "code",
   "execution_count": 11,
   "metadata": {},
   "outputs": [
    {
     "data": {
      "text/html": [
       "<div>\n",
       "<style scoped>\n",
       "    .dataframe tbody tr th:only-of-type {\n",
       "        vertical-align: middle;\n",
       "    }\n",
       "\n",
       "    .dataframe tbody tr th {\n",
       "        vertical-align: top;\n",
       "    }\n",
       "\n",
       "    .dataframe thead th {\n",
       "        text-align: right;\n",
       "    }\n",
       "</style>\n",
       "<table border=\"1\" class=\"dataframe\">\n",
       "  <thead>\n",
       "    <tr style=\"text-align: right;\">\n",
       "      <th></th>\n",
       "      <th>Unnamed: 0</th>\n",
       "      <th>Province</th>\n",
       "      <th>City</th>\n",
       "      <th>Population</th>\n",
       "      <th>Households</th>\n",
       "      <th>PersInHou</th>\n",
       "      <th>Male</th>\n",
       "      <th>Female</th>\n",
       "      <th>GenderRatio</th>\n",
       "    </tr>\n",
       "  </thead>\n",
       "  <tbody>\n",
       "    <tr>\n",
       "      <td>0</td>\n",
       "      <td>1</td>\n",
       "      <td>서울특별시</td>\n",
       "      <td></td>\n",
       "      <td>10078850</td>\n",
       "      <td>4197478</td>\n",
       "      <td>2.40</td>\n",
       "      <td>4962774</td>\n",
       "      <td>5116076</td>\n",
       "      <td>0.97</td>\n",
       "    </tr>\n",
       "    <tr>\n",
       "      <td>1</td>\n",
       "      <td>2</td>\n",
       "      <td>서울특별시</td>\n",
       "      <td>종로구</td>\n",
       "      <td>155695</td>\n",
       "      <td>72882</td>\n",
       "      <td>2.14</td>\n",
       "      <td>76962</td>\n",
       "      <td>78733</td>\n",
       "      <td>0.98</td>\n",
       "    </tr>\n",
       "    <tr>\n",
       "      <td>3</td>\n",
       "      <td>4</td>\n",
       "      <td>서울특별시</td>\n",
       "      <td>용산구</td>\n",
       "      <td>235186</td>\n",
       "      <td>108138</td>\n",
       "      <td>2.17</td>\n",
       "      <td>114119</td>\n",
       "      <td>121067</td>\n",
       "      <td>0.94</td>\n",
       "    </tr>\n",
       "    <tr>\n",
       "      <td>4</td>\n",
       "      <td>5</td>\n",
       "      <td>서울특별시</td>\n",
       "      <td>성동구</td>\n",
       "      <td>298145</td>\n",
       "      <td>126915</td>\n",
       "      <td>2.35</td>\n",
       "      <td>148265</td>\n",
       "      <td>149880</td>\n",
       "      <td>0.99</td>\n",
       "    </tr>\n",
       "    <tr>\n",
       "      <td>5</td>\n",
       "      <td>6</td>\n",
       "      <td>서울특별시</td>\n",
       "      <td>광진구</td>\n",
       "      <td>362197</td>\n",
       "      <td>158769</td>\n",
       "      <td>2.28</td>\n",
       "      <td>177946</td>\n",
       "      <td>184251</td>\n",
       "      <td>0.97</td>\n",
       "    </tr>\n",
       "    <tr>\n",
       "      <td>8</td>\n",
       "      <td>9</td>\n",
       "      <td>서울특별시</td>\n",
       "      <td>성북구</td>\n",
       "      <td>464176</td>\n",
       "      <td>192670</td>\n",
       "      <td>2.41</td>\n",
       "      <td>227676</td>\n",
       "      <td>236500</td>\n",
       "      <td>0.96</td>\n",
       "    </tr>\n",
       "    <tr>\n",
       "      <td>9</td>\n",
       "      <td>10</td>\n",
       "      <td>서울특별시</td>\n",
       "      <td>강북구</td>\n",
       "      <td>333523</td>\n",
       "      <td>141325</td>\n",
       "      <td>2.36</td>\n",
       "      <td>164304</td>\n",
       "      <td>169219</td>\n",
       "      <td>0.97</td>\n",
       "    </tr>\n",
       "    <tr>\n",
       "      <td>10</td>\n",
       "      <td>11</td>\n",
       "      <td>서울특별시</td>\n",
       "      <td>도봉구</td>\n",
       "      <td>353284</td>\n",
       "      <td>137260</td>\n",
       "      <td>2.57</td>\n",
       "      <td>174075</td>\n",
       "      <td>179209</td>\n",
       "      <td>0.97</td>\n",
       "    </tr>\n",
       "    <tr>\n",
       "      <td>11</td>\n",
       "      <td>12</td>\n",
       "      <td>서울특별시</td>\n",
       "      <td>노원구</td>\n",
       "      <td>579324</td>\n",
       "      <td>220403</td>\n",
       "      <td>2.63</td>\n",
       "      <td>282601</td>\n",
       "      <td>296723</td>\n",
       "      <td>0.95</td>\n",
       "    </tr>\n",
       "    <tr>\n",
       "      <td>12</td>\n",
       "      <td>13</td>\n",
       "      <td>서울특별시</td>\n",
       "      <td>은평구</td>\n",
       "      <td>499399</td>\n",
       "      <td>203159</td>\n",
       "      <td>2.46</td>\n",
       "      <td>244160</td>\n",
       "      <td>255239</td>\n",
       "      <td>0.96</td>\n",
       "    </tr>\n",
       "  </tbody>\n",
       "</table>\n",
       "</div>"
      ],
      "text/plain": [
       "    Unnamed: 0 Province  City  Population  Households  PersInHou     Male  \\\n",
       "0            1    서울특별시          10078850     4197478       2.40  4962774   \n",
       "1            2    서울특별시  종로구       155695       72882       2.14    76962   \n",
       "3            4    서울특별시  용산구       235186      108138       2.17   114119   \n",
       "4            5    서울특별시  성동구       298145      126915       2.35   148265   \n",
       "5            6    서울특별시  광진구       362197      158769       2.28   177946   \n",
       "8            9    서울특별시  성북구       464176      192670       2.41   227676   \n",
       "9           10    서울특별시  강북구       333523      141325       2.36   164304   \n",
       "10          11    서울특별시  도봉구       353284      137260       2.57   174075   \n",
       "11          12    서울특별시  노원구       579324      220403       2.63   282601   \n",
       "12          13    서울특별시  은평구       499399      203159       2.46   244160   \n",
       "\n",
       "     Female  GenderRatio  \n",
       "0   5116076         0.97  \n",
       "1     78733         0.98  \n",
       "3    121067         0.94  \n",
       "4    149880         0.99  \n",
       "5    184251         0.97  \n",
       "8    236500         0.96  \n",
       "9    169219         0.97  \n",
       "10   179209         0.97  \n",
       "11   296723         0.95  \n",
       "12   255239         0.96  "
      ]
     },
     "execution_count": 11,
     "metadata": {},
     "output_type": "execute_result"
    }
   ],
   "source": [
    "df[(df.GenderRatio < 1 ) & (df.PersInHou >= 2)].head(10)"
   ]
  },
  {
   "cell_type": "markdown",
   "metadata": {},
   "source": [
    "7). 가구수 (Households) 적은 순서대로 정렬하여 10개의 도시를 보여주어라:"
   ]
  },
  {
   "cell_type": "code",
   "execution_count": 12,
   "metadata": {},
   "outputs": [
    {
     "data": {
      "text/html": [
       "<div>\n",
       "<style scoped>\n",
       "    .dataframe tbody tr th:only-of-type {\n",
       "        vertical-align: middle;\n",
       "    }\n",
       "\n",
       "    .dataframe tbody tr th {\n",
       "        vertical-align: top;\n",
       "    }\n",
       "\n",
       "    .dataframe thead th {\n",
       "        text-align: right;\n",
       "    }\n",
       "</style>\n",
       "<table border=\"1\" class=\"dataframe\">\n",
       "  <thead>\n",
       "    <tr style=\"text-align: right;\">\n",
       "      <th></th>\n",
       "      <th>Unnamed: 0</th>\n",
       "      <th>Province</th>\n",
       "      <th>City</th>\n",
       "      <th>Population</th>\n",
       "      <th>Households</th>\n",
       "      <th>PersInHou</th>\n",
       "      <th>Male</th>\n",
       "      <th>Female</th>\n",
       "      <th>GenderRatio</th>\n",
       "    </tr>\n",
       "  </thead>\n",
       "  <tbody>\n",
       "    <tr>\n",
       "      <td>253</td>\n",
       "      <td>254</td>\n",
       "      <td>경상북도</td>\n",
       "      <td>울릉군</td>\n",
       "      <td>10304</td>\n",
       "      <td>5365</td>\n",
       "      <td>1.92</td>\n",
       "      <td>5518</td>\n",
       "      <td>4786</td>\n",
       "      <td>1.15</td>\n",
       "    </tr>\n",
       "    <tr>\n",
       "      <td>244</td>\n",
       "      <td>245</td>\n",
       "      <td>경상북도</td>\n",
       "      <td>영양군</td>\n",
       "      <td>17984</td>\n",
       "      <td>8769</td>\n",
       "      <td>2.05</td>\n",
       "      <td>8854</td>\n",
       "      <td>9130</td>\n",
       "      <td>0.97</td>\n",
       "    </tr>\n",
       "    <tr>\n",
       "      <td>200</td>\n",
       "      <td>201</td>\n",
       "      <td>전라북도</td>\n",
       "      <td>장수군</td>\n",
       "      <td>23308</td>\n",
       "      <td>10877</td>\n",
       "      <td>2.14</td>\n",
       "      <td>11557</td>\n",
       "      <td>11751</td>\n",
       "      <td>0.98</td>\n",
       "    </tr>\n",
       "    <tr>\n",
       "      <td>150</td>\n",
       "      <td>151</td>\n",
       "      <td>강원도</td>\n",
       "      <td>양구군</td>\n",
       "      <td>24283</td>\n",
       "      <td>11162</td>\n",
       "      <td>2.18</td>\n",
       "      <td>13069</td>\n",
       "      <td>11214</td>\n",
       "      <td>1.17</td>\n",
       "    </tr>\n",
       "    <tr>\n",
       "      <td>62</td>\n",
       "      <td>63</td>\n",
       "      <td>인천광역시</td>\n",
       "      <td>옹진군</td>\n",
       "      <td>20825</td>\n",
       "      <td>11172</td>\n",
       "      <td>1.86</td>\n",
       "      <td>11715</td>\n",
       "      <td>9110</td>\n",
       "      <td>1.29</td>\n",
       "    </tr>\n",
       "    <tr>\n",
       "      <td>199</td>\n",
       "      <td>200</td>\n",
       "      <td>전라북도</td>\n",
       "      <td>무주군</td>\n",
       "      <td>25181</td>\n",
       "      <td>11723</td>\n",
       "      <td>2.15</td>\n",
       "      <td>12451</td>\n",
       "      <td>12730</td>\n",
       "      <td>0.98</td>\n",
       "    </tr>\n",
       "    <tr>\n",
       "      <td>241</td>\n",
       "      <td>242</td>\n",
       "      <td>경상북도</td>\n",
       "      <td>군위군</td>\n",
       "      <td>24096</td>\n",
       "      <td>12091</td>\n",
       "      <td>1.99</td>\n",
       "      <td>12054</td>\n",
       "      <td>12042</td>\n",
       "      <td>1.00</td>\n",
       "    </tr>\n",
       "    <tr>\n",
       "      <td>213</td>\n",
       "      <td>214</td>\n",
       "      <td>전라남도</td>\n",
       "      <td>구례군</td>\n",
       "      <td>27115</td>\n",
       "      <td>12465</td>\n",
       "      <td>2.18</td>\n",
       "      <td>13181</td>\n",
       "      <td>13934</td>\n",
       "      <td>0.95</td>\n",
       "    </tr>\n",
       "    <tr>\n",
       "      <td>198</td>\n",
       "      <td>199</td>\n",
       "      <td>전라북도</td>\n",
       "      <td>진안군</td>\n",
       "      <td>26325</td>\n",
       "      <td>12531</td>\n",
       "      <td>2.10</td>\n",
       "      <td>13168</td>\n",
       "      <td>13157</td>\n",
       "      <td>1.00</td>\n",
       "    </tr>\n",
       "    <tr>\n",
       "      <td>243</td>\n",
       "      <td>244</td>\n",
       "      <td>경상북도</td>\n",
       "      <td>청송군</td>\n",
       "      <td>26353</td>\n",
       "      <td>13233</td>\n",
       "      <td>1.99</td>\n",
       "      <td>13063</td>\n",
       "      <td>13290</td>\n",
       "      <td>0.98</td>\n",
       "    </tr>\n",
       "  </tbody>\n",
       "</table>\n",
       "</div>"
      ],
      "text/plain": [
       "     Unnamed: 0 Province  City  Population  Households  PersInHou   Male  \\\n",
       "253         254     경상북도  울릉군        10304        5365       1.92   5518   \n",
       "244         245     경상북도  영양군        17984        8769       2.05   8854   \n",
       "200         201     전라북도  장수군        23308       10877       2.14  11557   \n",
       "150         151      강원도  양구군        24283       11162       2.18  13069   \n",
       "62           63    인천광역시  옹진군        20825       11172       1.86  11715   \n",
       "199         200     전라북도  무주군        25181       11723       2.15  12451   \n",
       "241         242     경상북도  군위군        24096       12091       1.99  12054   \n",
       "213         214     전라남도  구례군        27115       12465       2.18  13181   \n",
       "198         199     전라북도  진안군        26325       12531       2.10  13168   \n",
       "243         244     경상북도  청송군        26353       13233       1.99  13063   \n",
       "\n",
       "     Female  GenderRatio  \n",
       "253    4786         1.15  \n",
       "244    9130         0.97  \n",
       "200   11751         0.98  \n",
       "150   11214         1.17  \n",
       "62     9110         1.29  \n",
       "199   12730         0.98  \n",
       "241   12042         1.00  \n",
       "213   13934         0.95  \n",
       "198   13157         1.00  \n",
       "243   13290         0.98  "
      ]
     },
     "execution_count": 12,
     "metadata": {},
     "output_type": "execute_result"
    }
   ],
   "source": [
    "df.sort_values(by='Households', ascending=True).head(10)    #households 기준으로 오름차순"
   ]
  },
  {
   "cell_type": "code",
   "execution_count": null,
   "metadata": {},
   "outputs": [],
   "source": []
  }
 ],
 "metadata": {
  "kernelspec": {
   "display_name": "Python 3",
   "language": "python",
   "name": "python3"
  },
  "language_info": {
   "codemirror_mode": {
    "name": "ipython",
    "version": 3
   },
   "file_extension": ".py",
   "mimetype": "text/x-python",
   "name": "python",
   "nbconvert_exporter": "python",
   "pygments_lexer": "ipython3",
   "version": "3.7.4"
  }
 },
 "nbformat": 4,
 "nbformat_minor": 2
}
