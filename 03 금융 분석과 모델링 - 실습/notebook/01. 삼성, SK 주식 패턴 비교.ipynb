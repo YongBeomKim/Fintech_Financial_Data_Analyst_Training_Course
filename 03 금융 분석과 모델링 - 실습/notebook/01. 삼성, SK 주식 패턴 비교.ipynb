{
 "cells": [
  {
   "cell_type": "code",
   "execution_count": 1,
   "metadata": {},
   "outputs": [],
   "source": [
    "# 단 한번 설치한다.\n",
    "#!pip install pandas-datareader"
   ]
  },
  {
   "cell_type": "code",
   "execution_count": 2,
   "metadata": {},
   "outputs": [],
   "source": [
    "import pandas as pd\n",
    "import numpy as np\n",
    "import matplotlib.pyplot as plt\n",
    "import datetime\n",
    "from pandas_datareader import data as dt\n",
    "import warnings\n",
    "warnings.filterwarnings(\"ignore\")   # 성가신 warning을 꺼준다.\n",
    "%matplotlib inline"
   ]
  },
  {
   "cell_type": "markdown",
   "metadata": {},
   "source": [
    "### 1) 한국 증권 거래소(KRX)에서 종목관련 정보를 가져와 본다"
   ]
  },
  {
   "cell_type": "code",
   "execution_count": 3,
   "metadata": {},
   "outputs": [
    {
     "data": {
      "text/html": [
       "<div>\n",
       "<style scoped>\n",
       "    .dataframe tbody tr th:only-of-type {\n",
       "        vertical-align: middle;\n",
       "    }\n",
       "\n",
       "    .dataframe tbody tr th {\n",
       "        vertical-align: top;\n",
       "    }\n",
       "\n",
       "    .dataframe thead th {\n",
       "        text-align: right;\n",
       "    }\n",
       "</style>\n",
       "<table border=\"1\" class=\"dataframe\">\n",
       "  <thead>\n",
       "    <tr style=\"text-align: right;\">\n",
       "      <th></th>\n",
       "      <th>회사명</th>\n",
       "      <th>종목코드</th>\n",
       "      <th>업종</th>\n",
       "      <th>주요제품</th>\n",
       "      <th>상장일</th>\n",
       "      <th>결산월</th>\n",
       "      <th>대표자명</th>\n",
       "      <th>홈페이지</th>\n",
       "      <th>지역</th>\n",
       "    </tr>\n",
       "  </thead>\n",
       "  <tbody>\n",
       "    <tr>\n",
       "      <td>0</td>\n",
       "      <td>DSR</td>\n",
       "      <td>155660</td>\n",
       "      <td>1차 비철금속 제조업</td>\n",
       "      <td>합섬섬유로프</td>\n",
       "      <td>2013-05-15</td>\n",
       "      <td>12월</td>\n",
       "      <td>홍석빈</td>\n",
       "      <td>http://www.dsr.com</td>\n",
       "      <td>부산광역시</td>\n",
       "    </tr>\n",
       "    <tr>\n",
       "      <td>1</td>\n",
       "      <td>GS글로벌</td>\n",
       "      <td>1250</td>\n",
       "      <td>상품 종합 도매업</td>\n",
       "      <td>수출입업(시멘트,철강금속,전기전자,섬유,기계화학),상품중개,광업,채석업/하수처리 서...</td>\n",
       "      <td>1976-06-26</td>\n",
       "      <td>12월</td>\n",
       "      <td>김태형</td>\n",
       "      <td>http://www.gsgcorp.com</td>\n",
       "      <td>서울특별시</td>\n",
       "    </tr>\n",
       "    <tr>\n",
       "      <td>2</td>\n",
       "      <td>HSD엔진</td>\n",
       "      <td>82740</td>\n",
       "      <td>일반 목적용 기계 제조업</td>\n",
       "      <td>대형선박용엔진,내연발전엔진</td>\n",
       "      <td>2011-01-04</td>\n",
       "      <td>12월</td>\n",
       "      <td>고영열</td>\n",
       "      <td>http://www.doosanengine.com</td>\n",
       "      <td>경상남도</td>\n",
       "    </tr>\n",
       "    <tr>\n",
       "      <td>3</td>\n",
       "      <td>LG이노텍</td>\n",
       "      <td>11070</td>\n",
       "      <td>전자부품 제조업</td>\n",
       "      <td>기타 전자부품 제조업</td>\n",
       "      <td>2008-07-24</td>\n",
       "      <td>12월</td>\n",
       "      <td>정철동</td>\n",
       "      <td>http://www.lginnotek.co.kr</td>\n",
       "      <td>서울특별시</td>\n",
       "    </tr>\n",
       "    <tr>\n",
       "      <td>4</td>\n",
       "      <td>OCI</td>\n",
       "      <td>10060</td>\n",
       "      <td>기초 화학물질 제조업</td>\n",
       "      <td>타르제품,카본블랙,무수프탈산,농약원제,석탄화학제품,정밀화학제품,플라스틱창호재 제조,판매</td>\n",
       "      <td>1985-07-09</td>\n",
       "      <td>12월</td>\n",
       "      <td>백우석, 이우현, 김택중(3인, 각자 대표이사)</td>\n",
       "      <td>http://www.oci.co.kr</td>\n",
       "      <td>서울특별시</td>\n",
       "    </tr>\n",
       "  </tbody>\n",
       "</table>\n",
       "</div>"
      ],
      "text/plain": [
       "     회사명    종목코드             업종  \\\n",
       "0    DSR  155660    1차 비철금속 제조업   \n",
       "1  GS글로벌    1250      상품 종합 도매업   \n",
       "2  HSD엔진   82740  일반 목적용 기계 제조업   \n",
       "3  LG이노텍   11070       전자부품 제조업   \n",
       "4    OCI   10060    기초 화학물질 제조업   \n",
       "\n",
       "                                                주요제품         상장일  결산월  \\\n",
       "0                                             합섬섬유로프  2013-05-15  12월   \n",
       "1  수출입업(시멘트,철강금속,전기전자,섬유,기계화학),상품중개,광업,채석업/하수처리 서...  1976-06-26  12월   \n",
       "2                                     대형선박용엔진,내연발전엔진  2011-01-04  12월   \n",
       "3                                        기타 전자부품 제조업  2008-07-24  12월   \n",
       "4   타르제품,카본블랙,무수프탈산,농약원제,석탄화학제품,정밀화학제품,플라스틱창호재 제조,판매  1985-07-09  12월   \n",
       "\n",
       "                         대표자명                         홈페이지     지역  \n",
       "0                         홍석빈           http://www.dsr.com  부산광역시  \n",
       "1                         김태형       http://www.gsgcorp.com  서울특별시  \n",
       "2                         고영열  http://www.doosanengine.com   경상남도  \n",
       "3                         정철동   http://www.lginnotek.co.kr  서울특별시  \n",
       "4  백우석, 이우현, 김택중(3인, 각자 대표이사)         http://www.oci.co.kr  서울특별시  "
      ]
     },
     "execution_count": 3,
     "metadata": {},
     "output_type": "execute_result"
    }
   ],
   "source": [
    "df_krx = pd.read_html('http://kind.krx.co.kr/corpgeneral/corpList.do?method=download&searchType=13', header=0)[0]\n",
    "df_krx.head(5)    #한국증권거래소 krx"
   ]
  },
  {
   "cell_type": "code",
   "execution_count": 4,
   "metadata": {},
   "outputs": [
    {
     "data": {
      "text/plain": [
       "(2352, 9)"
      ]
     },
     "execution_count": 4,
     "metadata": {},
     "output_type": "execute_result"
    }
   ],
   "source": [
    "df_krx.shape"
   ]
  },
  {
   "cell_type": "code",
   "execution_count": 5,
   "metadata": {},
   "outputs": [],
   "source": [
    "# 한국 증권 거래소 FULL 코드로 변환해 주는 함수.   # 종목코드가 수치면 안됨(수치형자료)->문자로 바꿔줘야 함\n",
    "def transform_krx(x):                              #~.ks가 되도록 문자열로 변경(종목코드와 회사명 가져와서 변경)\n",
    "    x_str = str(x)                                 # 6자리 맞추고 .ks로 끝나도록 함수 만듬(코드는 자리수가 다양해서 6자리로 맞춘것)\n",
    "    n_padding = 6 - len(x_str)\n",
    "    if n_padding > 0:                               \n",
    "        x_str = '0'*n_padding + x_str\n",
    "    return x_str + \".KS\""
   ]
  },
  {
   "cell_type": "code",
   "execution_count": 6,
   "metadata": {},
   "outputs": [
    {
     "data": {
      "text/html": [
       "<div>\n",
       "<style scoped>\n",
       "    .dataframe tbody tr th:only-of-type {\n",
       "        vertical-align: middle;\n",
       "    }\n",
       "\n",
       "    .dataframe tbody tr th {\n",
       "        vertical-align: top;\n",
       "    }\n",
       "\n",
       "    .dataframe thead th {\n",
       "        text-align: right;\n",
       "    }\n",
       "</style>\n",
       "<table border=\"1\" class=\"dataframe\">\n",
       "  <thead>\n",
       "    <tr style=\"text-align: right;\">\n",
       "      <th></th>\n",
       "      <th>종목코드</th>\n",
       "      <th>회사명</th>\n",
       "    </tr>\n",
       "  </thead>\n",
       "  <tbody>\n",
       "    <tr>\n",
       "      <td>0</td>\n",
       "      <td>155660.KS</td>\n",
       "      <td>DSR</td>\n",
       "    </tr>\n",
       "    <tr>\n",
       "      <td>1</td>\n",
       "      <td>001250.KS</td>\n",
       "      <td>GS글로벌</td>\n",
       "    </tr>\n",
       "    <tr>\n",
       "      <td>2</td>\n",
       "      <td>082740.KS</td>\n",
       "      <td>HSD엔진</td>\n",
       "    </tr>\n",
       "    <tr>\n",
       "      <td>3</td>\n",
       "      <td>011070.KS</td>\n",
       "      <td>LG이노텍</td>\n",
       "    </tr>\n",
       "    <tr>\n",
       "      <td>4</td>\n",
       "      <td>010060.KS</td>\n",
       "      <td>OCI</td>\n",
       "    </tr>\n",
       "  </tbody>\n",
       "</table>\n",
       "</div>"
      ],
      "text/plain": [
       "        종목코드    회사명\n",
       "0  155660.KS    DSR\n",
       "1  001250.KS  GS글로벌\n",
       "2  082740.KS  HSD엔진\n",
       "3  011070.KS  LG이노텍\n",
       "4  010060.KS    OCI"
      ]
     },
     "execution_count": 6,
     "metadata": {},
     "output_type": "execute_result"
    }
   ],
   "source": [
    "# 종목 코드와 이름만 가져온다.\n",
    "stocks = df_krx[['종목코드','회사명']]\n",
    "stocks['종목코드'] = df_krx['종목코드'].apply(lambda x: transform_krx(x))\n",
    "stocks.head(5)"
   ]
  },
  {
   "cell_type": "code",
   "execution_count": 7,
   "metadata": {},
   "outputs": [
    {
     "data": {
      "text/html": [
       "<div>\n",
       "<style scoped>\n",
       "    .dataframe tbody tr th:only-of-type {\n",
       "        vertical-align: middle;\n",
       "    }\n",
       "\n",
       "    .dataframe tbody tr th {\n",
       "        vertical-align: top;\n",
       "    }\n",
       "\n",
       "    .dataframe thead th {\n",
       "        text-align: right;\n",
       "    }\n",
       "</style>\n",
       "<table border=\"1\" class=\"dataframe\">\n",
       "  <thead>\n",
       "    <tr style=\"text-align: right;\">\n",
       "      <th></th>\n",
       "      <th>종목코드</th>\n",
       "      <th>회사명</th>\n",
       "    </tr>\n",
       "  </thead>\n",
       "  <tbody>\n",
       "    <tr>\n",
       "      <td>1581</td>\n",
       "      <td>060310.KS</td>\n",
       "      <td>3S</td>\n",
       "    </tr>\n",
       "    <tr>\n",
       "      <td>899</td>\n",
       "      <td>095570.KS</td>\n",
       "      <td>AJ네트웍스</td>\n",
       "    </tr>\n",
       "    <tr>\n",
       "      <td>1774</td>\n",
       "      <td>006840.KS</td>\n",
       "      <td>AK홀딩스</td>\n",
       "    </tr>\n",
       "    <tr>\n",
       "      <td>392</td>\n",
       "      <td>054620.KS</td>\n",
       "      <td>APS홀딩스</td>\n",
       "    </tr>\n",
       "    <tr>\n",
       "      <td>2174</td>\n",
       "      <td>265520.KS</td>\n",
       "      <td>AP시스템</td>\n",
       "    </tr>\n",
       "  </tbody>\n",
       "</table>\n",
       "</div>"
      ],
      "text/plain": [
       "           종목코드     회사명\n",
       "1581  060310.KS      3S\n",
       "899   095570.KS  AJ네트웍스\n",
       "1774  006840.KS   AK홀딩스\n",
       "392   054620.KS  APS홀딩스\n",
       "2174  265520.KS   AP시스템"
      ]
     },
     "execution_count": 7,
     "metadata": {},
     "output_type": "execute_result"
    }
   ],
   "source": [
    "# 회사명으로 소팅하여 출력.\n",
    "stocks.sort_values(by='회사명').head(5)"
   ]
  },
  {
   "cell_type": "code",
   "execution_count": 8,
   "metadata": {},
   "outputs": [
    {
     "data": {
      "text/html": [
       "<div>\n",
       "<style scoped>\n",
       "    .dataframe tbody tr th:only-of-type {\n",
       "        vertical-align: middle;\n",
       "    }\n",
       "\n",
       "    .dataframe tbody tr th {\n",
       "        vertical-align: top;\n",
       "    }\n",
       "\n",
       "    .dataframe thead th {\n",
       "        text-align: right;\n",
       "    }\n",
       "</style>\n",
       "<table border=\"1\" class=\"dataframe\">\n",
       "  <thead>\n",
       "    <tr style=\"text-align: right;\">\n",
       "      <th></th>\n",
       "      <th>종목코드</th>\n",
       "      <th>회사명</th>\n",
       "    </tr>\n",
       "  </thead>\n",
       "  <tbody>\n",
       "    <tr>\n",
       "      <td>933</td>\n",
       "      <td>000020.KS</td>\n",
       "      <td>동화약품</td>\n",
       "    </tr>\n",
       "    <tr>\n",
       "      <td>1489</td>\n",
       "      <td>000040.KS</td>\n",
       "      <td>KR모터스</td>\n",
       "    </tr>\n",
       "    <tr>\n",
       "      <td>1495</td>\n",
       "      <td>000050.KS</td>\n",
       "      <td>경방</td>\n",
       "    </tr>\n",
       "    <tr>\n",
       "      <td>1520</td>\n",
       "      <td>000060.KS</td>\n",
       "      <td>메리츠화재</td>\n",
       "    </tr>\n",
       "    <tr>\n",
       "      <td>37</td>\n",
       "      <td>000070.KS</td>\n",
       "      <td>삼양홀딩스</td>\n",
       "    </tr>\n",
       "  </tbody>\n",
       "</table>\n",
       "</div>"
      ],
      "text/plain": [
       "           종목코드    회사명\n",
       "933   000020.KS   동화약품\n",
       "1489  000040.KS  KR모터스\n",
       "1495  000050.KS     경방\n",
       "1520  000060.KS  메리츠화재\n",
       "37    000070.KS  삼양홀딩스"
      ]
     },
     "execution_count": 8,
     "metadata": {},
     "output_type": "execute_result"
    }
   ],
   "source": [
    "# 종목코드로 소팅하여 출력.\n",
    "stocks.sort_values(by='종목코드').head(5)"
   ]
  },
  {
   "cell_type": "markdown",
   "metadata": {},
   "source": [
    "### 2) 삼성전자 데이터를 읽어온다"
   ]
  },
  {
   "cell_type": "code",
   "execution_count": 9,
   "metadata": {},
   "outputs": [
    {
     "data": {
      "text/plain": [
       "'005930.KS'"
      ]
     },
     "execution_count": 9,
     "metadata": {},
     "output_type": "execute_result"
    }
   ],
   "source": [
    "# 삼성전자.\n",
    "my_code = stocks['종목코드'][stocks.회사명 == '삼성전자'].values[0]  #005930.ks 한국증권거래소의 삼성전자 종목코드임\n",
    "my_code"
   ]
  },
  {
   "cell_type": "code",
   "execution_count": 10,
   "metadata": {},
   "outputs": [],
   "source": [
    "# Yahoo 금융에서 데이터를 읽어온다.                                 \n",
    "my_df1 = dt.DataReader(my_code,'yahoo','2019-01-01','2019-12-31')   \n",
    "                                                                    "
   ]
  },
  {
   "cell_type": "code",
   "execution_count": 11,
   "metadata": {},
   "outputs": [
    {
     "data": {
      "text/html": [
       "<div>\n",
       "<style scoped>\n",
       "    .dataframe tbody tr th:only-of-type {\n",
       "        vertical-align: middle;\n",
       "    }\n",
       "\n",
       "    .dataframe tbody tr th {\n",
       "        vertical-align: top;\n",
       "    }\n",
       "\n",
       "    .dataframe thead th {\n",
       "        text-align: right;\n",
       "    }\n",
       "</style>\n",
       "<table border=\"1\" class=\"dataframe\">\n",
       "  <thead>\n",
       "    <tr style=\"text-align: right;\">\n",
       "      <th></th>\n",
       "      <th>High</th>\n",
       "      <th>Low</th>\n",
       "      <th>Open</th>\n",
       "      <th>Close</th>\n",
       "      <th>Volume</th>\n",
       "      <th>Adj Close</th>\n",
       "    </tr>\n",
       "    <tr>\n",
       "      <th>Date</th>\n",
       "      <th></th>\n",
       "      <th></th>\n",
       "      <th></th>\n",
       "      <th></th>\n",
       "      <th></th>\n",
       "      <th></th>\n",
       "    </tr>\n",
       "  </thead>\n",
       "  <tbody>\n",
       "    <tr>\n",
       "      <td>2019-01-02</td>\n",
       "      <td>39400.0</td>\n",
       "      <td>38550.0</td>\n",
       "      <td>39400.0</td>\n",
       "      <td>38750.0</td>\n",
       "      <td>7847664.0</td>\n",
       "      <td>38750.0</td>\n",
       "    </tr>\n",
       "    <tr>\n",
       "      <td>2019-01-03</td>\n",
       "      <td>38550.0</td>\n",
       "      <td>37450.0</td>\n",
       "      <td>38300.0</td>\n",
       "      <td>37600.0</td>\n",
       "      <td>12471493.0</td>\n",
       "      <td>37600.0</td>\n",
       "    </tr>\n",
       "    <tr>\n",
       "      <td>2019-01-04</td>\n",
       "      <td>37600.0</td>\n",
       "      <td>36850.0</td>\n",
       "      <td>37450.0</td>\n",
       "      <td>37450.0</td>\n",
       "      <td>14108958.0</td>\n",
       "      <td>37450.0</td>\n",
       "    </tr>\n",
       "    <tr>\n",
       "      <td>2019-01-07</td>\n",
       "      <td>38900.0</td>\n",
       "      <td>37800.0</td>\n",
       "      <td>38000.0</td>\n",
       "      <td>38750.0</td>\n",
       "      <td>12748997.0</td>\n",
       "      <td>38750.0</td>\n",
       "    </tr>\n",
       "    <tr>\n",
       "      <td>2019-01-08</td>\n",
       "      <td>39200.0</td>\n",
       "      <td>37950.0</td>\n",
       "      <td>38000.0</td>\n",
       "      <td>38100.0</td>\n",
       "      <td>12756554.0</td>\n",
       "      <td>38100.0</td>\n",
       "    </tr>\n",
       "  </tbody>\n",
       "</table>\n",
       "</div>"
      ],
      "text/plain": [
       "               High      Low     Open    Close      Volume  Adj Close\n",
       "Date                                                                 \n",
       "2019-01-02  39400.0  38550.0  39400.0  38750.0   7847664.0    38750.0\n",
       "2019-01-03  38550.0  37450.0  38300.0  37600.0  12471493.0    37600.0\n",
       "2019-01-04  37600.0  36850.0  37450.0  37450.0  14108958.0    37450.0\n",
       "2019-01-07  38900.0  37800.0  38000.0  38750.0  12748997.0    38750.0\n",
       "2019-01-08  39200.0  37950.0  38000.0  38100.0  12756554.0    38100.0"
      ]
     },
     "execution_count": 11,
     "metadata": {},
     "output_type": "execute_result"
    }
   ],
   "source": [
    "# 인덱스가 datetime 객체이다.     #1/1은 없고, 1/2시작                #칼럼은 6개\n",
    "my_df1.head(5)                                                        #날짜가 인덱스로 들어감\n",
    "                                                                      #open시장(오픈시 가격), adj close(수정된 종가)"
   ]
  },
  {
   "cell_type": "code",
   "execution_count": 12,
   "metadata": {
    "scrolled": true
   },
   "outputs": [
    {
     "data": {
      "text/plain": [
       "High           39400.0\n",
       "Low            38550.0\n",
       "Open           39400.0\n",
       "Close          38750.0\n",
       "Volume       7847664.0\n",
       "Adj Close      38750.0\n",
       "Name: 2019-01-02 00:00:00, dtype: float64"
      ]
     },
     "execution_count": 12,
     "metadata": {},
     "output_type": "execute_result"
    }
   ],
   "source": [
    "# 날짜로 인덱싱(2019.1.2에 해당하는 값을 가져옴)\n",
    "my_df1.loc[datetime.date(2019,1,2)]        #인덱스이름이 0,1,2가 아닌 날짜임  \n",
    "                                           #날짜객체를 인덱스이름으로 넣어서 인덱싱을 해야함\n",
    "                                           #.loc해서 날짜객체넣으면 날짜에 해당하는 행을 가져옴"
   ]
  },
  {
   "cell_type": "code",
   "execution_count": 13,
   "metadata": {},
   "outputs": [
    {
     "data": {
      "text/plain": [
       "High            39200.0\n",
       "Low             37950.0\n",
       "Open            38000.0\n",
       "Close           38100.0\n",
       "Volume       12756554.0\n",
       "Adj Close       38100.0\n",
       "Name: 2019-01-08 00:00:00, dtype: float64"
      ]
     },
     "execution_count": 13,
     "metadata": {},
     "output_type": "execute_result"
    }
   ],
   "source": [
    "# 날짜로 인덱싱(2019.1.8에 해당하는 값을 가져옴)\n",
    "my_df1.loc[datetime.date(2019,1,8)]"
   ]
  },
  {
   "cell_type": "code",
   "execution_count": 14,
   "metadata": {},
   "outputs": [
    {
     "data": {
      "text/html": [
       "<div>\n",
       "<style scoped>\n",
       "    .dataframe tbody tr th:only-of-type {\n",
       "        vertical-align: middle;\n",
       "    }\n",
       "\n",
       "    .dataframe tbody tr th {\n",
       "        vertical-align: top;\n",
       "    }\n",
       "\n",
       "    .dataframe thead th {\n",
       "        text-align: right;\n",
       "    }\n",
       "</style>\n",
       "<table border=\"1\" class=\"dataframe\">\n",
       "  <thead>\n",
       "    <tr style=\"text-align: right;\">\n",
       "      <th></th>\n",
       "      <th>High</th>\n",
       "      <th>Low</th>\n",
       "      <th>Open</th>\n",
       "      <th>Close</th>\n",
       "      <th>Volume</th>\n",
       "      <th>Adj Close</th>\n",
       "    </tr>\n",
       "    <tr>\n",
       "      <th>Date</th>\n",
       "      <th></th>\n",
       "      <th></th>\n",
       "      <th></th>\n",
       "      <th></th>\n",
       "      <th></th>\n",
       "      <th></th>\n",
       "    </tr>\n",
       "  </thead>\n",
       "  <tbody>\n",
       "    <tr>\n",
       "      <td>2019-01-02</td>\n",
       "      <td>39400.0</td>\n",
       "      <td>38550.0</td>\n",
       "      <td>39400.0</td>\n",
       "      <td>38750.0</td>\n",
       "      <td>7847664.0</td>\n",
       "      <td>38750.0</td>\n",
       "    </tr>\n",
       "    <tr>\n",
       "      <td>2019-01-03</td>\n",
       "      <td>38550.0</td>\n",
       "      <td>37450.0</td>\n",
       "      <td>38300.0</td>\n",
       "      <td>37600.0</td>\n",
       "      <td>12471493.0</td>\n",
       "      <td>37600.0</td>\n",
       "    </tr>\n",
       "    <tr>\n",
       "      <td>2019-01-04</td>\n",
       "      <td>37600.0</td>\n",
       "      <td>36850.0</td>\n",
       "      <td>37450.0</td>\n",
       "      <td>37450.0</td>\n",
       "      <td>14108958.0</td>\n",
       "      <td>37450.0</td>\n",
       "    </tr>\n",
       "    <tr>\n",
       "      <td>2019-01-07</td>\n",
       "      <td>38900.0</td>\n",
       "      <td>37800.0</td>\n",
       "      <td>38000.0</td>\n",
       "      <td>38750.0</td>\n",
       "      <td>12748997.0</td>\n",
       "      <td>38750.0</td>\n",
       "    </tr>\n",
       "    <tr>\n",
       "      <td>2019-01-08</td>\n",
       "      <td>39200.0</td>\n",
       "      <td>37950.0</td>\n",
       "      <td>38000.0</td>\n",
       "      <td>38100.0</td>\n",
       "      <td>12756554.0</td>\n",
       "      <td>38100.0</td>\n",
       "    </tr>\n",
       "  </tbody>\n",
       "</table>\n",
       "</div>"
      ],
      "text/plain": [
       "               High      Low     Open    Close      Volume  Adj Close\n",
       "Date                                                                 \n",
       "2019-01-02  39400.0  38550.0  39400.0  38750.0   7847664.0    38750.0\n",
       "2019-01-03  38550.0  37450.0  38300.0  37600.0  12471493.0    37600.0\n",
       "2019-01-04  37600.0  36850.0  37450.0  37450.0  14108958.0    37450.0\n",
       "2019-01-07  38900.0  37800.0  38000.0  38750.0  12748997.0    38750.0\n",
       "2019-01-08  39200.0  37950.0  38000.0  38100.0  12756554.0    38100.0"
      ]
     },
     "execution_count": 14,
     "metadata": {},
     "output_type": "execute_result"
    }
   ],
   "source": [
    "# 날짜로 슬라이싱(2019.1.2~2019.1.8에 해당하는 값)\n",
    "my_df1.loc[datetime.date(2019,1,2):datetime.date(2019,1,8)]   #칼럼을 넣어서 범위를 정해줌"
   ]
  },
  {
   "cell_type": "markdown",
   "metadata": {},
   "source": [
    "### 3) 시각화한다"
   ]
  },
  {
   "cell_type": "code",
   "execution_count": 15,
   "metadata": {},
   "outputs": [
    {
     "data": {
      "image/png": "[encoded data removed]",
      "text/plain": [
       "<Figure size 432x288 with 1 Axes>"
      ]
     },
     "metadata": {
      "needs_background": "light"
     },
     "output_type": "display_data"
    }
   ],
   "source": [
    "# 실제 값(수정 종가)로  \n",
    "# \"수정주가\"를 Naver에서 검색해 본다!\n",
    "x = my_df1.index\n",
    "y = my_df1['Adj Close']\n",
    "plt.plot(x,y,c='blue')\n",
    "plt.show()"
   ]
  },
  {
   "cell_type": "code",
   "execution_count": 16,
   "metadata": {},
   "outputs": [
    {
     "data": {
      "image/png": "[encoded data removed]",
      "text/plain": [
       "<Figure size 432x288 with 1 Axes>"
      ]
     },
     "metadata": {
      "needs_background": "light"
     },
     "output_type": "display_data"
    }
   ],
   "source": [
    "# 지수화 하여 시각화.\n",
    "# 2019-1-2일 가격을 100이라 변환.\n",
    "x = my_df1.index\n",
    "y = my_df1['Adj Close']/my_df1.loc[datetime.date(2019,1,2)]['Adj Close']*100   #1/2을 100이라고 잡고 몇프로가 올랐는지 볼 수 있음\n",
    "                                                                               #세로축은 지수화된 주식가격\n",
    "plt.plot(x,y,c='blue')\n",
    "plt.show()"
   ]
  },
  {
   "cell_type": "markdown",
   "metadata": {},
   "source": [
    "### 4) SK하이닉스 데이터를 읽어와 삼성전자와 비교한다"
   ]
  },
  {
   "cell_type": "code",
   "execution_count": 17,
   "metadata": {},
   "outputs": [
    {
     "data": {
      "text/plain": [
       "'000660.KS'"
      ]
     },
     "execution_count": 17,
     "metadata": {},
     "output_type": "execute_result"
    }
   ],
   "source": [
    "# SK하이닉스\n",
    "my_code = stocks['종목코드'][stocks.회사명 == 'SK하이닉스'].values[0]\n",
    "my_code"
   ]
  },
  {
   "cell_type": "code",
   "execution_count": 18,
   "metadata": {},
   "outputs": [],
   "source": [
    "# Yahoo 금융에서 데이터를 읽어온다.\n",
    "my_df2 = dt.DataReader(my_code,'yahoo','2019-01-01','2019-12-31')"
   ]
  },
  {
   "cell_type": "code",
   "execution_count": 19,
   "metadata": {},
   "outputs": [
    {
     "data": {
      "image/png": "[encoded data removed]",
      "text/plain": [
       "<Figure size 432x288 with 1 Axes>"
      ]
     },
     "metadata": {
      "needs_background": "light"
     },
     "output_type": "display_data"
    }
   ],
   "source": [
    "# 지수화 하여 두 개의 시계열을 서로 비교해 본다.\n",
    "# 2019-1-2일 가격을 100이라 변환.\n",
    "x1 = my_df1.index\n",
    "y1 = my_df1['Adj Close']/my_df1.loc[datetime.date(2019,1,2)]['Adj Close']*100    #df1은 삼성 df2는 sk 합쳐서 확인해봄\n",
    "x2 = my_df2.index                                                                #직선으로 쭉 나오는부분은 데이터누락\n",
    "                                                                                 #1/2을 100으로 잡음, 실제값은 둘이 매우 다름 \n",
    "y2 = my_df2['Adj Close']/my_df2.loc[datetime.date(2019,1,2)]['Adj Close']*100    #하지만 지수화 해서 같은 선상에서 시작(100에서 시작)\n",
    "plt.plot(x1,y1,c='blue',label='Samsung',linestyle='-')                           \n",
    "plt.plot(x2,y2,c='red',label='SK Hynix',linestyle='-')\n",
    "plt.legend(loc='Upper Left')\n",
    "plt.xlabel('Time')\n",
    "plt.ylabel('Stock Price')\n",
    "plt.show()"
   ]
  },
  {
   "cell_type": "markdown",
   "metadata": {},
   "source": [
    "- 특정시점으로 몇프로 올랐는지 지수화해서 봐야한다\n",
    "- 인덱스할 때는 날짜변환을 해줘야 날짜에 해당하는 값을 가져온다"
   ]
  },
  {
   "cell_type": "code",
   "execution_count": null,
   "metadata": {},
   "outputs": [],
   "source": []
  }
 ],
 "metadata": {
  "kernelspec": {
   "display_name": "Python 3",
   "language": "python",
   "name": "python3"
  },
  "language_info": {
   "codemirror_mode": {
    "name": "ipython",
    "version": 3
   },
   "file_extension": ".py",
   "mimetype": "text/x-python",
   "name": "python",
   "nbconvert_exporter": "python",
   "pygments_lexer": "ipython3",
   "version": "3.7.4"
  }
 },
 "nbformat": 4,
 "nbformat_minor": 2
}
