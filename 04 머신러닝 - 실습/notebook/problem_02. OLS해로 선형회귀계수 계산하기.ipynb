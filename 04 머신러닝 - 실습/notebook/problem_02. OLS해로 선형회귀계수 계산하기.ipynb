{
 "cells": [
  {
   "cell_type": "markdown",
   "metadata": {},
   "source": [
    "## \"OLS solution\"으로 선형회귀계수 계산하기"
   ]
  },
  {
   "cell_type": "code",
   "execution_count": 1,
   "metadata": {},
   "outputs": [],
   "source": [
    "import numpy as np\n",
    "import pandas as pd"
   ]
  },
  {
   "cell_type": "markdown",
   "metadata": {},
   "source": [
    "study = x변수,설명변수(공부시간)<br>\n",
    "score = y변수,응답변수(성적)"
   ]
  },
  {
   "cell_type": "code",
   "execution_count": 2,
   "metadata": {},
   "outputs": [],
   "source": [
    "study = np.array([ 3, 4.5, 6, 1.2, 2, 6.9, 6.7, 5.5]).reshape(-1,1)\n",
    "score = np.array([ 88, 85, 90, 80, 81, 92, 95, 90]).reshape(-1,1)"
   ]
  },
  {
   "cell_type": "markdown",
   "metadata": {},
   "source": [
    "### 1) 아래에 표시된 출력과 일치하도록 'linerRegression'클래스를 정의하라"
   ]
  },
  {
   "cell_type": "code",
   "execution_count": 3,
   "metadata": {},
   "outputs": [],
   "source": [
    "class linearRegression:   #선형회귀 클래스 만듬\n",
    "    def __init__(self):   #생성자함수\n",
    "        return\n",
    "        \n",
    "    def train(self, input_X, input_Y):   #train 메서드 만듬 (첫번째인자,두번째인자,세번째인자)\n",
    "        n = input_X.shape[0]    #관측치개수                            \n",
    "        k = input_X.shape[1]    #변수개수           \n",
    "        ones_column = np.ones((n,1)) #첫번째 칼럼 1로 채움 (절편있는경우 절편에 곱해주는 1)          \n",
    "        X = np.concatenate((ones_column,input_X),axis=1)  \n",
    "        Y = input_Y.copy()  #y는 그냥 들어온거 사용\n",
    "\n",
    "        # Regression Coefficients by OLS.                \n",
    "        self.beta = np.dot(np.linalg.inv(np.dot(X.T,X)),np.dot(X.T,Y))    #클래스에서 멤버속성은 self.beta (객체가 품는 속성)\n",
    "        #np.dot(X.T,X): x의 트랜스포스 = np.transpose(x)한 뒤 np.dot(곱)\n",
    "        #np.linalg.inv하면 역행렬\n",
    "        #역행렬 구한 것을 가지고 다시 np.dot\n",
    "        \n",
    "        #x의 트랜스포스랑 y의 트랜스포스 곱함-이것의 역행렬구한것을 dot\n",
    "        #곱셈이라 뭘 먼저하느냐 상관없음\n",
    "        \n",
    "        \n",
    "        \n",
    "        # 잔차계산\n",
    "        self.residuals = Y - np.dot(X,self.beta)\n",
    "        \n",
    "        # R^2.\n",
    "        SSE = np.dot((self.residuals).T, self.residuals)\n",
    "        SST = np.dot((Y - Y.mean()).T, (Y-Y.mean()))\n",
    "        self.rsquared = 1.0 - SSE[0][0]/SST[0][0]\n",
    "        \n",
    "        # Summary.\n",
    "        self.summary=pd.DataFrame(self.beta,columns = ['Coefficient']) #self.summary는 데이터프레임\n",
    "        데이터이름 coef\n",
    "        \n",
    "        features = ['Intercept']\n",
    "        for i in range(1,k+1):\n",
    "            features += ['X' + str(i)] #features 리스트는 intercept, x1, x2로 나아감\n",
    "        self.summary.index = features  #인덱스이름은 features\n",
    "        return  \n",
    "    \n",
    "    def output(self):   #output 메서드 만듬\n",
    "        print(self.summary)  #저장해둔 거 출력\n",
    "        print(\"-\"*30)        #-를 30번 반복\n",
    "        print(\"R^2 : %f\" % self.rsquared)"
   ]
  },
  {
   "cell_type": "markdown",
   "metadata": {},
   "source": [
    "### 2) 샘플 실행"
   ]
  },
  {
   "cell_type": "code",
   "execution_count": 4,
   "metadata": {},
   "outputs": [
    {
     "name": "stdout",
     "output_type": "stream",
     "text": [
      "           Coefficient\n",
      "Intercept    77.684670\n",
      "X1            2.221303\n",
      "------------------------------\n",
      "R^2 : 0.845842\n"
     ]
    }
   ],
   "source": [
    "LR = linearRegression()                    # 선형회귀 객체 생성\n",
    "LR.train(study, score)                     # 학습\n",
    "LR.output()                                # 결과보기\n",
    "\n",
    "#공부 안하면 77점 나옴\n",
    "#1시간 더 공부할수록 2.22씩 오름"
   ]
  },
  {
   "cell_type": "code",
   "execution_count": null,
   "metadata": {},
   "outputs": [],
   "source": []
  }
 ],
 "metadata": {
  "kernelspec": {
   "display_name": "Python 3",
   "language": "python",
   "name": "python3"
  },
  "language_info": {
   "codemirror_mode": {
    "name": "ipython",
    "version": 3
   },
   "file_extension": ".py",
   "mimetype": "text/x-python",
   "name": "python",
   "nbconvert_exporter": "python",
   "pygments_lexer": "ipython3",
   "version": "3.7.4"
  }
 },
 "nbformat": 4,
 "nbformat_minor": 2
}
