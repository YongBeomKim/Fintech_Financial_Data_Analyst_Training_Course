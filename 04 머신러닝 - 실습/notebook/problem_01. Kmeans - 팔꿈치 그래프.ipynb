{
 "cells": [
  {
   "cell_type": "markdown",
   "metadata": {},
   "source": [
    "## K평균 군집화를 위한 최적의 군집 수 구하기"
   ]
  },
  {
   "cell_type": "code",
   "execution_count": 1,
   "metadata": {},
   "outputs": [],
   "source": [
    "import numpy as np\n",
    "import pandas as pd\n",
    "import matplotlib.pyplot as plt\n",
    "from sklearn.datasets import make_blobs   #blobs해서 덩어리\n",
    "from sklearn.cluster import KMeans\n",
    "%matplotlib inline"
   ]
  },
  {
   "cell_type": "code",
   "execution_count": 2,
   "metadata": {},
   "outputs": [
    {
     "data": {
      "text/plain": [
       "(150, 8)"
      ]
     },
     "execution_count": 2,
     "metadata": {},
     "output_type": "execute_result"
    }
   ],
   "source": [
    "#8차원 좌표에 3개의 클러스터 만들것(8차원이라 시각화는 불가능)\n",
    "X, label = make_blobs(n_samples=150, n_features=8, centers=3, cluster_std = 2, random_state=123) #샘플 150, 8차원에 3개의 클러스터\n",
    "X.shape"
   ]
  },
  {
   "cell_type": "markdown",
   "metadata": {},
   "source": [
    "### 1) \"total internal sum of squares\"를 계산하는 함수를 정의하라\n",
    "#### HINT: 강의자료의 수식을 이용"
   ]
  },
  {
   "cell_type": "markdown",
   "metadata": {},
   "source": [
    "함수에 들어가는 인자값 3개<br>\n",
    "- X         :   데이터\n",
    "- centers   :   센터로이드 위치 인자값\n",
    "- clusters  :   클러스터 레이블 값을 담아놓는 인자값(kmeans로 계산한거넣음) <br><br>"
   ]
  },
  {
   "cell_type": "code",
   "execution_count": 3,
   "metadata": {},
   "outputs": [],
   "source": [
    "def total_internal_ss(X, centers, clusters):   #centers안에는 8개칼럼 3개의 행의 데이터프레임, \n",
    "                                               #clusters는 하나의 열이며 레이블이 붙어있음(0번 클러스터)\n",
    "    N_clusters = centers.shape[0]\n",
    "    N_columns = centers.shape[1]\n",
    "    N_rows = X.shape[0]\n",
    "    closest_centers = np.zeros((N_rows, N_columns))  \n",
    "    for n in range(N_clusters):\n",
    "        indices = (clusters == n)\n",
    "        for j in range(N_columns):\n",
    "            closest_centers[indices,j] = centers[n,j]             \n",
    "    return np.sum((X-closest_centers)**2.0)  "
   ]
  },
  {
   "cell_type": "markdown",
   "metadata": {},
   "source": [
    "### 2) \"total internal sum of squares\" 대 \"군집의 개수\"를 시각화하고 변곡점을 찾아라"
   ]
  },
  {
   "cell_type": "markdown",
   "metadata": {},
   "source": [
    "- 3개로 군집화 했는데 3개가 적당하다는 결론을 얻을 수 있는가?\n",
    "        \n",
    "- 개개좌표로 센트로이드 제곱하고 더해서 모든 클러스터에 동일하게 적용\n",
    "        \n",
    "- 산점도가 팔꿈치 모양대로 나오느냐 (3에서 변곡점이 생기냐) 이걸 확인하라는 문제"
   ]
  },
  {
   "cell_type": "code",
   "execution_count": 4,
   "metadata": {},
   "outputs": [],
   "source": [
    "n_cluster = np.array(range(2,10))                   # Array that contains the number of clusters.\n",
    "total_ss = np.array([])                             # Array that will contain the total internal sum of squares.\n",
    "for n in n_cluster:\n",
    "    kmeans = KMeans(n_clusters=n)\n",
    "    clusters = kmeans.fit(X).labels_\n",
    "    centers = kmeans.cluster_centers_\n",
    "    total_ss = np.append(total_ss, total_internal_ss(X,centers,clusters))"
   ]
  },
  {
   "cell_type": "code",
   "execution_count": 5,
   "metadata": {},
   "outputs": [
    {
     "data": {
      "image/png": "[encoded data removed]",
      "text/plain": [
       "<Figure size 432x288 with 1 Axes>"
      ]
     },
     "metadata": {
      "needs_background": "light"
     },
     "output_type": "display_data"
    }
   ],
   "source": [
    "plt.plot(n_cluster,total_ss,color='blue',marker='o',linestyle='dashed',linewidth=1,markersize=5)\n",
    "plt.show()"
   ]
  },
  {
   "cell_type": "code",
   "execution_count": null,
   "metadata": {},
   "outputs": [],
   "source": []
  }
 ],
 "metadata": {
  "kernelspec": {
   "display_name": "Python 3",
   "language": "python",
   "name": "python3"
  },
  "language_info": {
   "codemirror_mode": {
    "name": "ipython",
    "version": 3
   },
   "file_extension": ".py",
   "mimetype": "text/x-python",
   "name": "python",
   "nbconvert_exporter": "python",
   "pygments_lexer": "ipython3",
   "version": "3.7.4"
  }
 },
 "nbformat": 4,
 "nbformat_minor": 2
}
