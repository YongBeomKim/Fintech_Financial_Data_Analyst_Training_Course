{
 "cells": [
  {
   "cell_type": "markdown",
   "metadata": {},
   "source": [
    "## 1. Linear regression prediction and confidence interval:\n",
    "### 내가 예측한 y값이 95%확률로 실제 y값을 포함할 구간 "
   ]
  },
  {
   "cell_type": "code",
   "execution_count": 1,
   "metadata": {},
   "outputs": [],
   "source": [
    "import numpy as np\n",
    "import pandas as pd\n",
    "import matplotlib.pyplot as plt\n",
    "import scipy.stats as st\n",
    "from sklearn.linear_model import LinearRegression\n",
    "from sklearn import metrics  #metrics가져오면 평가지표 가져올 수 있음\n",
    "%matplotlib inline"
   ]
  },
  {
   "cell_type": "markdown",
   "metadata": {},
   "source": [
    "### 1.1. Load the 'Boston' dataset from Scikit-Learn:\n",
    "<br>\n",
    "study = an array that contains the hours of study. This is the explanatory variable. x변수 (공부시간)<br>\n",
    "score = an array that contains the test scores. This is the response variable. y변수 (성적)"
   ]
  },
  {
   "cell_type": "code",
   "execution_count": 2,
   "metadata": {},
   "outputs": [],
   "source": [
    "study = np.array([ 3, 4.5, 6, 1.2, 2, 6.9, 6.7, 5.5])  #x(공부시간)\n",
    "score = np.array([ 88, 85, 90, 80, 81, 92, 95, 90])    #y(성적)\n",
    "n = study.size"
   ]
  },
  {
   "cell_type": "markdown",
   "metadata": {},
   "source": [
    "### 1.2 Training:"
   ]
  },
  {
   "cell_type": "code",
   "execution_count": 3,
   "metadata": {},
   "outputs": [],
   "source": [
    "#선형회귀 객체를 만듬\n",
    "lm = LinearRegression()  "
   ]
  },
  {
   "cell_type": "code",
   "execution_count": 4,
   "metadata": {
    "scrolled": true
   },
   "outputs": [
    {
     "data": {
      "text/plain": [
       "LinearRegression(copy_X=True, fit_intercept=True, n_jobs=None, normalize=False)"
      ]
     },
     "execution_count": 4,
     "metadata": {},
     "output_type": "execute_result"
    }
   ],
   "source": [
    "#학습\n",
    "lm.fit(study.reshape(-1,1), score.reshape(-1,1))  \n",
    "#위에서 만든 x,y넘피배열은 숫자가 들수날쑥이라 열과 행의 개수 맞게 reshape(-1)해줌(shape가 맞지 않아서)"
   ]
  },
  {
   "cell_type": "code",
   "execution_count": 5,
   "metadata": {},
   "outputs": [
    {
     "name": "stdout",
     "output_type": "stream",
     "text": [
      "77.68466977583873\n",
      "2.2213028433879947\n"
     ]
    }
   ],
   "source": [
    "#파라미터 가져오기\n",
    "b0 = lm.intercept_[0]  #베타 0은 리스트라 첫번째 원소 가져와야함\n",
    "b1 = lm.coef_[0][0]    #베타 1은 00을 가져와야 함\n",
    "print(b0)\n",
    "print(b1)\n",
    "\n",
    "#77.68은 공부 아예 안해도 얻을 수 있는 성적\n",
    "#2.22 공부 1시간 더할수록 오르는 점수"
   ]
  },
  {
   "cell_type": "code",
   "execution_count": 6,
   "metadata": {},
   "outputs": [
    {
     "data": {
      "text/plain": [
       "1.93"
      ]
     },
     "execution_count": 6,
     "metadata": {},
     "output_type": "execute_result"
    }
   ],
   "source": [
    "#RMSE 계산(제곱된 오차의 평균의 루트)\n",
    "predScore = lm.predict(study.reshape(-1,1))  \n",
    "#위에서 사용한 x그대로 사용(학습할 때 x그대로 사용했기에)\n",
    "#tranin,test구분 안했으므로 in-sample (추세선 구할 때는 분리안함)\n",
    "\n",
    "mse = metrics.mean_squared_error(score, predScore) #metrics모듈에서 MSE함수 가져다가 계산(실제 y,예측된 y)\n",
    "rmse=np.sqrt(mse)  #RMSE 계산\n",
    "np.round(rmse,2)  "
   ]
  },
  {
   "cell_type": "markdown",
   "metadata": {},
   "source": [
    "### 1.3. Confidence interval and visualization: 신뢰구간 및 시각화"
   ]
  },
  {
   "cell_type": "code",
   "execution_count": 7,
   "metadata": {},
   "outputs": [],
   "source": [
    "# 표준오차 계산하는 함수 정의\n",
    "# p121 수식 참고\n",
    "def StdError(x_star, x_vec, mse, n): #표준오차 구하는 수식\n",
    "    x_mean = np.mean(x_vec)\n",
    "    return (np.sqrt(mse*(1/n+(x_star-x_mean)**2/np.sum((x_vec-x_mean)**2))))  #mse가져와 제곱"
   ]
  },
  {
   "cell_type": "code",
   "execution_count": 8,
   "metadata": {},
   "outputs": [],
   "source": [
    "# y_hat : 예측된 y\n",
    "# y_low : 신뢰구간의 하한(95%), y_up : 신뢰구간의 상한(95%)\n",
    "\n",
    "x_star = np.linspace(1,9,10)   #linsapce로 시작과 끝점 정하고, 10점으로 쪼갬\n",
    "y_hat = b0 + b1*x_star         #베타0(절편), 베타1(기울기)\n",
    "#위의 두 식을 서로 곱하고 더함\n",
    "\n",
    "y_low = y_hat - st.t.ppf(0.975,n-2)*StdError(x_star,study,mse,n) \n",
    "y_up = y_hat + st.t.ppf(0.975,n-2)*StdError(x_star,study,mse,n)\n",
    "#st.t.ppt 통계모듈 가져와 97분위수, 자유도는 n-2로 y_hat +-해서 상한과 하한 계산\n",
    "    \n",
    "#99% 신뢰구간을 만들고싶다면 분위수에 0.995 넣음"
   ]
  },
  {
   "cell_type": "code",
   "execution_count": 9,
   "metadata": {},
   "outputs": [
    {
     "data": {
      "image/png": "[encoded data removed]",
      "text/plain": [
       "<Figure size 432x288 with 1 Axes>"
      ]
     },
     "metadata": {
      "needs_background": "light"
     },
     "output_type": "display_data"
    }
   ],
   "source": [
    "#시각화\n",
    "plt.scatter(study, score, c='red')\n",
    "plt.plot(x_star,y_low,c = 'blue',linestyle='--',linewidth=1)\n",
    "plt.plot(x_star,y_hat,c = 'green',linewidth = 1.5, alpha=0.5)\n",
    "plt.plot(x_star,y_up,c = 'blue',linestyle='--',linewidth=1)\n",
    "plt.xlabel('Study')\n",
    "plt.ylabel('Score')\n",
    "plt.show()\n",
    "\n",
    "#절편만 움직이는게 아니라 기울기도 움직여서 허리가 잘록한 모양임"
   ]
  },
  {
   "cell_type": "code",
   "execution_count": null,
   "metadata": {},
   "outputs": [],
   "source": []
  }
 ],
 "metadata": {
  "kernelspec": {
   "display_name": "Python 3",
   "language": "python",
   "name": "python3"
  },
  "language_info": {
   "codemirror_mode": {
    "name": "ipython",
    "version": 3
   },
   "file_extension": ".py",
   "mimetype": "text/x-python",
   "name": "python",
   "nbconvert_exporter": "python",
   "pygments_lexer": "ipython3",
   "version": "3.7.4"
  }
 },
 "nbformat": 4,
 "nbformat_minor": 2
}
