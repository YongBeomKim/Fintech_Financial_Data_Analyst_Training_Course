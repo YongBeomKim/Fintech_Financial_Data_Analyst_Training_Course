{
 "cells": [
  {
   "cell_type": "markdown",
   "metadata": {},
   "source": [
    "## 1. Regularized regressions:"
   ]
  },
  {
   "cell_type": "code",
   "execution_count": 1,
   "metadata": {},
   "outputs": [],
   "source": [
    "import numpy as np\n",
    "import pandas as pd\n",
    "import os\n",
    "import matplotlib.pyplot as plt\n",
    "from sklearn.metrics import mean_squared_error\n",
    "from sklearn.model_selection import train_test_split\n",
    "from sklearn.linear_model import Ridge, Lasso  "
   ]
  },
  {
   "cell_type": "markdown",
   "metadata": {},
   "source": [
    "### 1.1. Read in data:\n",
    "1974 MotoTrend US Magazine에서 발표한 데이터 가져온다"
   ]
  },
  {
   "cell_type": "code",
   "execution_count": 2,
   "metadata": {},
   "outputs": [],
   "source": [
    "os.chdir(r'C:\\Users\\Gram\\Desktop\\myPyCode\\04 머신러닝 - 실습\\data')                  "
   ]
  },
  {
   "cell_type": "code",
   "execution_count": 3,
   "metadata": {},
   "outputs": [],
   "source": [
    "df = pd.read_csv('data_mtcars.csv', header='infer')"
   ]
  },
  {
   "cell_type": "code",
   "execution_count": 4,
   "metadata": {},
   "outputs": [
    {
     "data": {
      "text/plain": [
       "(32, 12)"
      ]
     },
     "execution_count": 4,
     "metadata": {},
     "output_type": "execute_result"
    }
   ],
   "source": [
    "df.shape  #32개 차종, 11개 스펙"
   ]
  },
  {
   "cell_type": "code",
   "execution_count": 5,
   "metadata": {},
   "outputs": [
    {
     "data": {
      "text/html": [
       "<div>\n",
       "<style scoped>\n",
       "    .dataframe tbody tr th:only-of-type {\n",
       "        vertical-align: middle;\n",
       "    }\n",
       "\n",
       "    .dataframe tbody tr th {\n",
       "        vertical-align: top;\n",
       "    }\n",
       "\n",
       "    .dataframe thead th {\n",
       "        text-align: right;\n",
       "    }\n",
       "</style>\n",
       "<table border=\"1\" class=\"dataframe\">\n",
       "  <thead>\n",
       "    <tr style=\"text-align: right;\">\n",
       "      <th></th>\n",
       "      <th>model</th>\n",
       "      <th>mpg</th>\n",
       "      <th>cyl</th>\n",
       "      <th>disp</th>\n",
       "      <th>hp</th>\n",
       "      <th>drat</th>\n",
       "      <th>wt</th>\n",
       "      <th>qsec</th>\n",
       "      <th>vs</th>\n",
       "      <th>am</th>\n",
       "      <th>gear</th>\n",
       "      <th>carb</th>\n",
       "    </tr>\n",
       "  </thead>\n",
       "  <tbody>\n",
       "    <tr>\n",
       "      <td>0</td>\n",
       "      <td>Mazda RX4</td>\n",
       "      <td>21.0</td>\n",
       "      <td>6</td>\n",
       "      <td>160.0</td>\n",
       "      <td>110</td>\n",
       "      <td>3.90</td>\n",
       "      <td>2.620</td>\n",
       "      <td>16.46</td>\n",
       "      <td>0</td>\n",
       "      <td>1</td>\n",
       "      <td>4</td>\n",
       "      <td>4</td>\n",
       "    </tr>\n",
       "    <tr>\n",
       "      <td>1</td>\n",
       "      <td>Mazda RX4 Wag</td>\n",
       "      <td>21.0</td>\n",
       "      <td>6</td>\n",
       "      <td>160.0</td>\n",
       "      <td>110</td>\n",
       "      <td>3.90</td>\n",
       "      <td>2.875</td>\n",
       "      <td>17.02</td>\n",
       "      <td>0</td>\n",
       "      <td>1</td>\n",
       "      <td>4</td>\n",
       "      <td>4</td>\n",
       "    </tr>\n",
       "    <tr>\n",
       "      <td>2</td>\n",
       "      <td>Datsun 710</td>\n",
       "      <td>22.8</td>\n",
       "      <td>4</td>\n",
       "      <td>108.0</td>\n",
       "      <td>93</td>\n",
       "      <td>3.85</td>\n",
       "      <td>2.320</td>\n",
       "      <td>18.61</td>\n",
       "      <td>1</td>\n",
       "      <td>1</td>\n",
       "      <td>4</td>\n",
       "      <td>1</td>\n",
       "    </tr>\n",
       "    <tr>\n",
       "      <td>3</td>\n",
       "      <td>Hornet 4 Drive</td>\n",
       "      <td>21.4</td>\n",
       "      <td>6</td>\n",
       "      <td>258.0</td>\n",
       "      <td>110</td>\n",
       "      <td>3.08</td>\n",
       "      <td>3.215</td>\n",
       "      <td>19.44</td>\n",
       "      <td>1</td>\n",
       "      <td>0</td>\n",
       "      <td>3</td>\n",
       "      <td>1</td>\n",
       "    </tr>\n",
       "    <tr>\n",
       "      <td>4</td>\n",
       "      <td>Hornet Sportabout</td>\n",
       "      <td>18.7</td>\n",
       "      <td>8</td>\n",
       "      <td>360.0</td>\n",
       "      <td>175</td>\n",
       "      <td>3.15</td>\n",
       "      <td>3.440</td>\n",
       "      <td>17.02</td>\n",
       "      <td>0</td>\n",
       "      <td>0</td>\n",
       "      <td>3</td>\n",
       "      <td>2</td>\n",
       "    </tr>\n",
       "  </tbody>\n",
       "</table>\n",
       "</div>"
      ],
      "text/plain": [
       "               model   mpg  cyl   disp   hp  drat     wt   qsec  vs  am  gear  \\\n",
       "0          Mazda RX4  21.0    6  160.0  110  3.90  2.620  16.46   0   1     4   \n",
       "1      Mazda RX4 Wag  21.0    6  160.0  110  3.90  2.875  17.02   0   1     4   \n",
       "2         Datsun 710  22.8    4  108.0   93  3.85  2.320  18.61   1   1     4   \n",
       "3     Hornet 4 Drive  21.4    6  258.0  110  3.08  3.215  19.44   1   0     3   \n",
       "4  Hornet Sportabout  18.7    8  360.0  175  3.15  3.440  17.02   0   0     3   \n",
       "\n",
       "   carb  \n",
       "0     4  \n",
       "1     4  \n",
       "2     1  \n",
       "3     1  \n",
       "4     2  "
      ]
     },
     "execution_count": 5,
     "metadata": {},
     "output_type": "execute_result"
    }
   ],
   "source": [
    "df.head(5)  "
   ]
  },
  {
   "cell_type": "code",
   "execution_count": 6,
   "metadata": {},
   "outputs": [],
   "source": [
    "# Separate into X and Y.\n",
    "X=df.drop(columns=['model','mpg'])  #model, mpg제거함\n",
    "Y=df.mpg   "
   ]
  },
  {
   "cell_type": "code",
   "execution_count": 7,
   "metadata": {},
   "outputs": [],
   "source": [
    "# 데이터 셋 쪼갬\n",
    "X_train, X_test, Y_train, Y_test = train_test_split(X, Y, test_size=0.3, random_state=123)"
   ]
  },
  {
   "cell_type": "markdown",
   "metadata": {},
   "source": [
    "### 1.2. Ridge regression: 릿지회귀"
   ]
  },
  {
   "cell_type": "code",
   "execution_count": 16,
   "metadata": {},
   "outputs": [],
   "source": [
    "lambdaRange = range(1,100)  #람다를 1~100까지 가져옴"
   ]
  },
  {
   "cell_type": "code",
   "execution_count": 9,
   "metadata": {},
   "outputs": [
    {
     "name": "stdout",
     "output_type": "stream",
     "text": [
      "Lambda =  1  and  R^2 =  0.779\n",
      "Lambda =  2  and  R^2 =  0.813\n",
      "Lambda =  3  and  R^2 =  0.822\n",
      "Lambda =  4  and  R^2 =  0.825\n",
      "Lambda =  5  and  R^2 =  0.825\n"
     ]
    },
    {
     "data": {
      "text/plain": [
       "Ridge(alpha=5, copy_X=True, fit_intercept=True, max_iter=None, normalize=False,\n",
       "      random_state=None, solver='auto', tol=0.001)"
      ]
     },
     "execution_count": 9,
     "metadata": {},
     "output_type": "execute_result"
    }
   ],
   "source": [
    "#릿지회귀로 학습해 베스트람다에 해당하는 결정계수 보기\n",
    "bestRsq = 0.0          #R^2\n",
    "bestLambda = 0.0       #람다                    \n",
    "\n",
    "for aLambda in lambdaRange:  #베스트람다 찾기 위한 for문\n",
    "    ridge = Ridge(aLambda)   #range(1,100)에 해당하는 람다로 릿지회귀객체 만듬\n",
    "    ridge.fit(X_train,Y_train)          #학습\n",
    "    rsq = ridge.score(X_test,Y_test)    #test로 R^2 계산\n",
    "    \n",
    "    if (rsq > bestRsq):        #결정계수 좋으면 해당 람다를 베스트람다로 대체, 결정계수 출력, 그게 아니면 넘어감                             \n",
    "        bestRsq = rsq    \n",
    "        bestLambda = aLambda\n",
    "        print(\"Lambda = \", bestLambda, \" and  R^2 = \", np.round(rsq,3))\n",
    "\n",
    "ridge = Ridge(bestLambda)        #베스트람다로 최종실행                             \n",
    "ridge.fit(X,Y)     \n",
    "\n",
    "#1,2,3,4,5 까지는 좋아지다가 그 이후로는 쪼여진것\n",
    "#5까지가 좋은 람다임을 알수 있음"
   ]
  },
  {
   "cell_type": "code",
   "execution_count": 10,
   "metadata": {},
   "outputs": [
    {
     "data": {
      "text/plain": [
       "28.58776326642279"
      ]
     },
     "execution_count": 10,
     "metadata": {},
     "output_type": "execute_result"
    }
   ],
   "source": [
    "# Show the intercept.\n",
    "ridge.intercept_     #선형회귀와 같은 의미인데 억제가 됨"
   ]
  },
  {
   "cell_type": "code",
   "execution_count": 11,
   "metadata": {},
   "outputs": [
    {
     "data": {
      "text/plain": [
       "array([-0.51185256, -0.00768344, -0.01533332,  0.61667067, -1.39209019,\n",
       "       -0.00709397,  0.11850925,  0.94390866,  0.71148287, -0.7038523 ])"
      ]
     },
     "execution_count": 11,
     "metadata": {},
     "output_type": "execute_result"
    }
   ],
   "source": [
    "# Show other parameters.\n",
    "ridge.coef_   \n",
    "\n",
    "#릿지에서는 선형회귀해석을 할 수 없음 => 이 수치들은 이제 해석할 필요 없다"
   ]
  },
  {
   "cell_type": "markdown",
   "metadata": {},
   "source": [
    "**NOTE: 릿지회귀에서 람다가 커져도 정확히 0이 되는 수치는 없다**"
   ]
  },
  {
   "cell_type": "markdown",
   "metadata": {},
   "source": [
    "### 1.3. Lasso regression: 래소회귀"
   ]
  },
  {
   "cell_type": "code",
   "execution_count": 12,
   "metadata": {},
   "outputs": [],
   "source": [
    "lambdaRange = range(1,100)"
   ]
  },
  {
   "cell_type": "code",
   "execution_count": 13,
   "metadata": {},
   "outputs": [
    {
     "name": "stdout",
     "output_type": "stream",
     "text": [
      "Lambda =  1  and  R^2 =  0.735\n",
      "Lambda =  2  and  R^2 =  0.743\n",
      "Lambda =  3  and  R^2 =  0.744\n",
      "Lambda =  4  and  R^2 =  0.744\n",
      "Lambda =  5  and  R^2 =  0.744\n",
      "Lambda =  6  and  R^2 =  0.745\n",
      "Lambda =  7  and  R^2 =  0.745\n",
      "Lambda =  8  and  R^2 =  0.745\n",
      "Lambda =  9  and  R^2 =  0.746\n",
      "Lambda =  10  and  R^2 =  0.746\n",
      "Lambda =  11  and  R^2 =  0.746\n",
      "Lambda =  12  and  R^2 =  0.747\n",
      "Lambda =  13  and  R^2 =  0.747\n",
      "Lambda =  14  and  R^2 =  0.747\n",
      "Lambda =  15  and  R^2 =  0.747\n",
      "Lambda =  16  and  R^2 =  0.747\n",
      "Lambda =  17  and  R^2 =  0.748\n",
      "Lambda =  18  and  R^2 =  0.748\n",
      "Lambda =  19  and  R^2 =  0.748\n",
      "Lambda =  20  and  R^2 =  0.748\n",
      "Lambda =  21  and  R^2 =  0.749\n",
      "Lambda =  22  and  R^2 =  0.749\n",
      "Lambda =  23  and  R^2 =  0.749\n",
      "Lambda =  24  and  R^2 =  0.749\n",
      "Lambda =  25  and  R^2 =  0.749\n",
      "Lambda =  26  and  R^2 =  0.749\n",
      "Lambda =  27  and  R^2 =  0.749\n",
      "Lambda =  28  and  R^2 =  0.75\n",
      "Lambda =  29  and  R^2 =  0.75\n",
      "Lambda =  30  and  R^2 =  0.75\n",
      "Lambda =  31  and  R^2 =  0.75\n",
      "Lambda =  32  and  R^2 =  0.75\n",
      "Lambda =  33  and  R^2 =  0.75\n",
      "Lambda =  34  and  R^2 =  0.75\n",
      "Lambda =  35  and  R^2 =  0.75\n",
      "Lambda =  36  and  R^2 =  0.75\n",
      "Lambda =  37  and  R^2 =  0.75\n",
      "Lambda =  38  and  R^2 =  0.75\n",
      "Lambda =  39  and  R^2 =  0.75\n",
      "Lambda =  40  and  R^2 =  0.75\n",
      "Lambda =  41  and  R^2 =  0.75\n"
     ]
    },
    {
     "data": {
      "text/plain": [
       "Lasso(alpha=41, copy_X=True, fit_intercept=True, max_iter=1000, normalize=False,\n",
       "      positive=False, precompute=False, random_state=None, selection='cyclic',\n",
       "      tol=0.0001, warm_start=False)"
      ]
     },
     "execution_count": 13,
     "metadata": {},
     "output_type": "execute_result"
    }
   ],
   "source": [
    "bestRsq = 0.0                 #R^2                               \n",
    "bestLambda = 0.0              #람다                             \n",
    "\n",
    "for aLambda in lambdaRange:       #베스트람다 찾기 위한 for문\n",
    "    lasso = Lasso(aLambda  )      #range(1,100)에 해당하는 람다로 래소회귀객체 만듬\n",
    "    lasso.fit(X_train,Y_train)           #학습                        \n",
    "    rsq = lasso.score(X_test,Y_test)     #test로 R^2 계산\n",
    "       \n",
    "    if (rsq > bestRsq):         #결정계수 좋으면 해당 람다를 베스트람다로 대체, 결정계수 출력, 그게 아니면 넘어감.\n",
    "        bestRsq = rsq\n",
    "        bestLambda = aLambda\n",
    "        print(\"Lambda = \", bestLambda, \" and  R^2 = \", np.round(rsq,3))\n",
    "        \n",
    "lasso = Lasso(bestLambda)  #베스트람다로 최종실행                                      \n",
    "lasso.fit(X,Y) \n",
    "\n",
    "#결정계수가 최고인 람다를 가져옴\n",
    "#결정계수가 릿지보다 못함"
   ]
  },
  {
   "cell_type": "code",
   "execution_count": 14,
   "metadata": {},
   "outputs": [
    {
     "data": {
      "text/plain": [
       "29.481705776221872"
      ]
     },
     "execution_count": 14,
     "metadata": {},
     "output_type": "execute_result"
    }
   ],
   "source": [
    "# Show the intercept.\n",
    "lasso.intercept_"
   ]
  },
  {
   "cell_type": "code",
   "execution_count": 15,
   "metadata": {},
   "outputs": [
    {
     "data": {
      "text/plain": [
       "array([-0.       , -0.0335117, -0.0113111,  0.       , -0.       ,\n",
       "        0.       ,  0.       ,  0.       ,  0.       , -0.       ])"
      ]
     },
     "execution_count": 15,
     "metadata": {},
     "output_type": "execute_result"
    }
   ],
   "source": [
    "# Show other parameters.\n",
    "lasso.coef_\n",
    "\n",
    "#두개만 나오고 나머지는 정확하게 0 나옴"
   ]
  },
  {
   "cell_type": "markdown",
   "metadata": {},
   "source": [
    "**NOTE: 래소회귀에서 람다가 커지면 정확히 0이 되는 수치가 있다.** "
   ]
  },
  {
   "cell_type": "markdown",
   "metadata": {},
   "source": [
    "래소는 릿지와 다르게 정확하게 0으로 만들어준다는 차이있음 단, 2개 변수만 살아남아 해석 못함<br>\n",
    "\n",
    "따라서 릿지가 더 선호됨<br>\n",
    "래소는 변수가 사라져 모형이 너무 단순해짐<br>\n",
    "\n",
    "릿지회귀와 래소회귀는 과도기적 알고리즘이다.<br>\n",
    "이 2개는 해석통찰력이 없음<br>\n",
    "따라서, 머신러닝 배우기는 싫고 선형회귀에서 변질된거 사용하고플 때 사용<br>\n",
    "\n",
    "최근에 릿지와 래소는 고전방법으로 사용이 줄음<br>"
   ]
  },
  {
   "cell_type": "code",
   "execution_count": null,
   "metadata": {},
   "outputs": [],
   "source": []
  }
 ],
 "metadata": {
  "kernelspec": {
   "display_name": "Python 3",
   "language": "python",
   "name": "python3"
  },
  "language_info": {
   "codemirror_mode": {
    "name": "ipython",
    "version": 3
   },
   "file_extension": ".py",
   "mimetype": "text/x-python",
   "name": "python",
   "nbconvert_exporter": "python",
   "pygments_lexer": "ipython3",
   "version": "3.7.4"
  }
 },
 "nbformat": 4,
 "nbformat_minor": 2
}
