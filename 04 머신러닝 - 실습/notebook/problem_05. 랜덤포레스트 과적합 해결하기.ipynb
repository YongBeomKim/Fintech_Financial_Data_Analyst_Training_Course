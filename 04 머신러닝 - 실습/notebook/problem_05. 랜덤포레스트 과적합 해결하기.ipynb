{
 "cells": [
  {
   "cell_type": "markdown",
   "metadata": {},
   "source": [
    "## \"Data Augmentation\": 데이터 확장으로 과적합 해결"
   ]
  },
  {
   "cell_type": "markdown",
   "metadata": {},
   "source": [
    "- Code the helper functions.\n",
    "- Optimize and test a predictive model of your choice.\n",
    "- Carry out data aumentation in order to improve the predictive accuracy when the given training data is small.\n"
   ]
  },
  {
   "cell_type": "code",
   "execution_count": 1,
   "metadata": {},
   "outputs": [],
   "source": [
    "import numpy as np\n",
    "import pandas as pd\n",
    "import os\n",
    "import warnings\n",
    "import matplotlib.pyplot as plt\n",
    "from sklearn.model_selection import GridSearchCV\n",
    "from sklearn.neighbors import KNeighborsClassifier\n",
    "from sklearn.tree import DecisionTreeClassifier\n",
    "from sklearn.ensemble import RandomForestClassifier,AdaBoostClassifier, GradientBoostingClassifier\n",
    "from xgboost import XGBClassifier\n",
    "from sklearn import metrics, preprocessing\n",
    "from scipy.ndimage.interpolation import rotate\n",
    "warnings.filterwarnings(action='ignore')                  # Turn off the warnings.\n",
    "%matplotlib inline"
   ]
  },
  {
   "cell_type": "markdown",
   "metadata": {},
   "source": [
    "### Read in data\n",
    "The explanation on the original data can be found [here](http://yann.lecun.com/exdb/mnist/).\n",
    "\n",
    "- The data we will be using is a small subset of the original data with only 100 observations.\n",
    "- Each observation is the \"flattened\" version of a image.\n",
    "- The first column corresponds to the label (Y).\n",
    "- The image size is 28x28."
   ]
  },
  {
   "cell_type": "code",
   "execution_count": 5,
   "metadata": {},
   "outputs": [],
   "source": [
    "# Read the training and testing data separately.\n",
    "os.chdir(r\"C:\\Users\\Gram\\Desktop\\myPyCode\\04 머신러닝 - 실습\\data\")\n",
    "data_train = pd.read_csv('data_mnist_train_100.csv', header=None,encoding='latin1')  #100개를 트레이닝 목적으로 가져옴\n",
    "data_test = pd.read_csv('data_mnist_test_100.csv', header=None,encoding='latin1')\n",
    "\n",
    "# Scale and split the data set into X and Y.   #MinMaxScaler(해주 는게 좋음)\n",
    "X_train = np.array((data_train.iloc[:,1:]/255.0)*0.99+0.01) #0~255를 0.01!0.99 사이에 있도록 해줌\n",
    "X_test = np.array((data_test.iloc[:,1:]/255.0)*0.99+0.01)\n",
    "Y_train = np.array(data_train.iloc[:,0]) #Y는 레이블변수라 scale 하면 안됨\n",
    "Y_test = np.array(data_test.iloc[:,0])"
   ]
  },
  {
   "cell_type": "markdown",
   "metadata": {},
   "source": [
    "### 1) 주어진 각 관측값을 시각화하는 도우미 함수 'show_data ()'를 코딩\n",
    "#### HINT: use matplotlib.pyplot.imshow() and scipy.ndimage.interpolation().<br>"
   ]
  },
  {
   "cell_type": "code",
   "execution_count": 6,
   "metadata": {},
   "outputs": [],
   "source": [
    "def show_data(X, Y, n, angle=0):\n",
    "    image_matrix = X[n,:].reshape((28,28)) #X: 28*28의 2차원데이터로 reshape  #n: 행 넘버\n",
    "    image_matrix = rotate(image_matrix, angle, cval=0.01, reshape=False)  #rotate에는 각도넣음\n",
    "    imax = image_matrix.max() \n",
    "    imin = image_matrix.min()\n",
    "    image_matrix = ((image_matrix-imin)/(imax-imin))*0.99+0.01  #scale 다시해줌\n",
    "    plt.imshow(image_matrix, cmap='Greys',interpolation='None') #cmap 흑백배경\n",
    "    print(Y[n]) #레이블까지 보여주도록 함"
   ]
  },
  {
   "cell_type": "code",
   "execution_count": 7,
   "metadata": {},
   "outputs": [
    {
     "name": "stdout",
     "output_type": "stream",
     "text": [
      "3\n"
     ]
    },
    {
     "data": {
      "image/png": "[encoded data removed]",
      "text/plain": [
       "<Figure size 432x288 with 1 Axes>"
      ]
     },
     "metadata": {
      "needs_background": "light"
     },
     "output_type": "display_data"
    }
   ],
   "source": [
    "# Example 1.\n",
    "show_data(X_train, Y_train,10,+10) #x: x데이터, y: 레이블데이터(3,1~),n: 행 넘버, +10: 10도의 각도로 회점"
   ]
  },
  {
   "cell_type": "code",
   "execution_count": 8,
   "metadata": {},
   "outputs": [
    {
     "name": "stdout",
     "output_type": "stream",
     "text": [
      "3\n"
     ]
    },
    {
     "data": {
      "image/png": "[encoded data removed]",
      "text/plain": [
       "<Figure size 432x288 with 1 Axes>"
      ]
     },
     "metadata": {
      "needs_background": "light"
     },
     "output_type": "display_data"
    }
   ],
   "source": [
    "# Example 2.\n",
    "show_data(X_train, Y_train,10,-30)  #왼쪽으로 30도 회전"
   ]
  },
  {
   "cell_type": "code",
   "execution_count": 9,
   "metadata": {},
   "outputs": [
    {
     "name": "stdout",
     "output_type": "stream",
     "text": [
      "1\n"
     ]
    },
    {
     "data": {
      "image/png": "[encoded data removed]",
      "text/plain": [
       "<Figure size 432x288 with 1 Axes>"
      ]
     },
     "metadata": {
      "needs_background": "light"
     },
     "output_type": "display_data"
    }
   ],
   "source": [
    "# Example 3.\n",
    "show_data(X_train, Y_train,77,0)"
   ]
  },
  {
   "cell_type": "markdown",
   "metadata": {},
   "source": [
    "이렇게 시각화해주는 함수 만듬"
   ]
  },
  {
   "cell_type": "markdown",
   "metadata": {},
   "source": [
    "### 2) 알고리즘 선택해 예측 분석 실시\n",
    "\n",
    "- Optimize the hyperparameter(s).\n",
    "- Calculate the accuracy.\n",
    "- Is the accuracy high enough?<br>"
   ]
  },
  {
   "cell_type": "markdown",
   "metadata": {},
   "source": [
    "하이퍼 파라미터 계산해 최적화해서 정확도 계산해보기<br>\n",
    "\n",
    "결과를 보면 정확도가 낮게 나오는데 이걸 어떻게 향상시킬까?<br>\n",
    "\n",
    "정확도가 낮게 나온 이유는 오버피팅 때문<br>\n",
    "\n",
    "변수의 개수를 줄이기보다는 데이터 개수를 늘려서 오버피팅 상황을 완화해보자<br>\n",
    "\n",
    "학습을 시킬 때 원본과 회전한 데이터 모두 1로 인식하게 해야함<br>\n",
    "이미지이기 때문에 각도를 늘리면 됨<br>\n",
    "\n",
    "즉, 이미지이기 때문에 회전만으로 다양하게 학습시킬 수 있음<br>\n",
    "\n",
    "100개 데이터를 다양한 각도를 실행해서 500개 각도로 학습시켜라<br>\n",
    "\n",
    "데이터가 적다는 것은 행이 적은 것임"
   ]
  },
  {
   "cell_type": "code",
   "execution_count": 10,
   "metadata": {},
   "outputs": [],
   "source": [
    "estimator_grid = np.arange(30, 101, 10)  #30~101개의 그루 사용\n",
    "depth_grid = np.arange(20, 51, 2)        #깊이\n",
    "parameters = {'n_estimators': estimator_grid, 'max_depth': depth_grid}  #딕셔너리로 만듬\n",
    "gridCV = GridSearchCV(RandomForestClassifier(), param_grid=parameters, cv=10) \n",
    "gridCV.fit(X_train, Y_train)\n",
    "best_n_estim = gridCV.best_params_['n_estimators']\n",
    "best_depth = gridCV.best_params_['max_depth']"
   ]
  },
  {
   "cell_type": "code",
   "execution_count": 11,
   "metadata": {},
   "outputs": [
    {
     "name": "stdout",
     "output_type": "stream",
     "text": [
      "Random Forest best n estimator : 90\n",
      "Random Forest best depth : 34\n"
     ]
    }
   ],
   "source": [
    "print(\"Random Forest best n estimator : \" + str(best_n_estim))\n",
    "print(\"Random Forest best depth : \" + str(best_depth))\n",
    "\n",
    "#최적화된 나무의 개수\n",
    "#만약에 30~50까지 했을 때 60에 최적화가 속해있으면 결과가 제대로 안나올 수도 있음"
   ]
  },
  {
   "cell_type": "code",
   "execution_count": 12,
   "metadata": {},
   "outputs": [
    {
     "name": "stdout",
     "output_type": "stream",
     "text": [
      "Random Forest best accuracy : 0.71\n"
     ]
    }
   ],
   "source": [
    "RF_best = RandomForestClassifier(max_depth=best_depth,n_estimators=best_n_estim,random_state=3)\n",
    "RF_best.fit(X_train, Y_train);\n",
    "Y_pred = RF_best.predict(X_test)\n",
    "print( \"Random Forest best accuracy : \" + str(np.round(metrics.accuracy_score(Y_test,Y_pred),3)))\n",
    "\n",
    "#100개데이터에 관측치는 700개니 오버피팅되어 정확도 낮게 나옴"
   ]
  },
  {
   "cell_type": "markdown",
   "metadata": {},
   "source": [
    "### 3) 주어진 각 관측값을 각도로 회전시키는 도우미 함수 'rotate_data ()'를 코딩\n",
    "#### HINT: use scipy.ndimage.interpolation()."
   ]
  },
  {
   "cell_type": "code",
   "execution_count": 13,
   "metadata": {},
   "outputs": [],
   "source": [
    "def rotate_data(X, angle=0):\n",
    "    image_matrix = X.reshape((28,28))\n",
    "    image_matrix = rotate(image_matrix, angle, cval=0.01, reshape=False)\n",
    "    imax = image_matrix.max()\n",
    "    imin = image_matrix.min()\n",
    "    image_matrix = ((image_matrix-imin)/(imax-imin))*0.99+0.01\n",
    "    return image_matrix.reshape((1,-1))\n",
    "\n",
    "#여기서는 imshow사용하지 않음"
   ]
  },
  {
   "cell_type": "markdown",
   "metadata": {},
   "source": [
    "### 4) Augment the training dataset: 데이터 확장\n",
    "- Increase the size of the training dataset by introducing slight rotations (clockwise and counterclockwise).\n",
    "- Use the 'rotate_data()' function defined in the previous step.\n",
    "- No need to augment the testing dataset.\n",
    "- Target approximately five fold aumentation.\n",
    "\n",
    "트레이닝 데이터 셋의 크기를 키워 \n",
    "로테이션 함수로 예측을 다시해서 예측성능이 향상됬는지 확인"
   ]
  },
  {
   "cell_type": "code",
   "execution_count": 14,
   "metadata": {},
   "outputs": [],
   "source": [
    "N_rows = X_train.shape[0]   #행의 수\n",
    "N_cols = X_train.shape[1]   #열의 수\n",
    "X_train_aug = np.empty((0,N_cols))\n",
    "Y_train_aug = np.array([])  #비어있는 배열 준비\n",
    "for angle in [-10,-5,0,5,10]:     #-10도 ~ 10도로 재설정해봄\n",
    "    for n in range(N_rows):\n",
    "        a_row = X_train[n,:]  #하나의 행을 x로 가져오고 \n",
    "        a_y = Y_train[n]      #Y로 가져오고 \n",
    "        X_train_aug = np.concatenate((X_train_aug,rotate_data(a_row,angle)),axis=0) #각도대로 돌려서 이전것과 세로방향으로 이어붙임\n",
    "        Y_train_aug = np.append(Y_train_aug, a_y)"
   ]
  },
  {
   "cell_type": "markdown",
   "metadata": {},
   "source": [
    "### 5) 확장된 훈련 데이터셋으로 예측 분석 재실시\n",
    "\n",
    "- Use the same algorithm as in the step 2).\n",
    "- Calculate the accuracy.\n",
    "- Has the accuracy gone up?"
   ]
  },
  {
   "cell_type": "code",
   "execution_count": 15,
   "metadata": {},
   "outputs": [
    {
     "name": "stdout",
     "output_type": "stream",
     "text": [
      "Random Forest accuracy with the aumented training data : 0.74\n"
     ]
    }
   ],
   "source": [
    "#확장된 데이터로 재계산\n",
    "RF_best = RandomForestClassifier(max_depth=best_depth,n_estimators=best_n_estim,random_state=123)\n",
    "RF_best.fit(X_train_aug, Y_train_aug);\n",
    "Y_pred = RF_best.predict(X_test)\n",
    "print( \"Random Forest accuracy with the aumented training data : \" + str(np.round(metrics.accuracy_score(Y_test,Y_pred),3)))"
   ]
  },
  {
   "cell_type": "code",
   "execution_count": null,
   "metadata": {},
   "outputs": [],
   "source": []
  }
 ],
 "metadata": {
  "kernelspec": {
   "display_name": "Python 3",
   "language": "python",
   "name": "python3"
  },
  "language_info": {
   "codemirror_mode": {
    "name": "ipython",
    "version": 3
   },
   "file_extension": ".py",
   "mimetype": "text/x-python",
   "name": "python",
   "nbconvert_exporter": "python",
   "pygments_lexer": "ipython3",
   "version": "3.7.4"
  }
 },
 "nbformat": 4,
 "nbformat_minor": 2
}
