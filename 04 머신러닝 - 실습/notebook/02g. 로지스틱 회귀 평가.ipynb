{
 "cells": [
  {
   "cell_type": "markdown",
   "metadata": {},
   "source": [
    "## 1. Classification with logistic regression: 로지스틱 회귀분석을 사용한 분류"
   ]
  },
  {
   "cell_type": "code",
   "execution_count": 1,
   "metadata": {},
   "outputs": [],
   "source": [
    "import numpy as np\n",
    "import pandas as pd\n",
    "import matplotlib.pyplot as plt\n",
    "import seaborn as sns\n",
    "from sklearn.datasets import load_breast_cancer\n",
    "from sklearn.model_selection import train_test_split\n",
    "from sklearn.linear_model import LogisticRegression\n",
    "from sklearn import metrics\n",
    "%matplotlib inline"
   ]
  },
  {
   "cell_type": "markdown",
   "metadata": {},
   "source": [
    "### 1.1. Read in data and explore:"
   ]
  },
  {
   "cell_type": "code",
   "execution_count": 2,
   "metadata": {},
   "outputs": [],
   "source": [
    "# Load data.\n",
    "data = load_breast_cancer()  #유방암 데이터"
   ]
  },
  {
   "cell_type": "code",
   "execution_count": 3,
   "metadata": {},
   "outputs": [
    {
     "name": "stdout",
     "output_type": "stream",
     "text": [
      ".. _breast_cancer_dataset:\n",
      "\n",
      "Breast cancer wisconsin (diagnostic) dataset\n",
      "--------------------------------------------\n",
      "\n",
      "**Data Set Characteristics:**\n",
      "\n",
      "    :Number of Instances: 569\n",
      "\n",
      "    :Number of Attributes: 30 numeric, predictive attributes and the class\n",
      "\n",
      "    :Attribute Information:\n",
      "        - radius (mean of distances from center to points on the perimeter)\n",
      "        - texture (standard deviation of gray-scale values)\n",
      "        - perimeter\n",
      "        - area\n",
      "        - smoothness (local variation in radius lengths)\n",
      "        - compactness (perimeter^2 / area - 1.0)\n",
      "        - concavity (severity of concave portions of the contour)\n",
      "        - concave points (number of concave portions of the contour)\n",
      "        - symmetry \n",
      "        - fractal dimension (\"coastline approximation\" - 1)\n",
      "\n",
      "        The mean, standard error, and \"worst\" or largest (mean of the three\n",
      "        largest values) of these features were computed for each image,\n",
      "        resulting in 30 features.  For instance, field 3 is Mean Radius, field\n",
      "        13 is Radius SE, field 23 is Worst Radius.\n",
      "\n",
      "        - class:\n",
      "                - WDBC-Malignant\n",
      "                - WDBC-Benign\n",
      "\n",
      "    :Summary Statistics:\n",
      "\n",
      "    ===================================== ====== ======\n",
      "                                           Min    Max\n",
      "    ===================================== ====== ======\n",
      "    radius (mean):                        6.981  28.11\n",
      "    texture (mean):                       9.71   39.28\n",
      "    perimeter (mean):                     43.79  188.5\n",
      "    area (mean):                          143.5  2501.0\n",
      "    smoothness (mean):                    0.053  0.163\n",
      "    compactness (mean):                   0.019  0.345\n",
      "    concavity (mean):                     0.0    0.427\n",
      "    concave points (mean):                0.0    0.201\n",
      "    symmetry (mean):                      0.106  0.304\n",
      "    fractal dimension (mean):             0.05   0.097\n",
      "    radius (standard error):              0.112  2.873\n",
      "    texture (standard error):             0.36   4.885\n",
      "    perimeter (standard error):           0.757  21.98\n",
      "    area (standard error):                6.802  542.2\n",
      "    smoothness (standard error):          0.002  0.031\n",
      "    compactness (standard error):         0.002  0.135\n",
      "    concavity (standard error):           0.0    0.396\n",
      "    concave points (standard error):      0.0    0.053\n",
      "    symmetry (standard error):            0.008  0.079\n",
      "    fractal dimension (standard error):   0.001  0.03\n",
      "    radius (worst):                       7.93   36.04\n",
      "    texture (worst):                      12.02  49.54\n",
      "    perimeter (worst):                    50.41  251.2\n",
      "    area (worst):                         185.2  4254.0\n",
      "    smoothness (worst):                   0.071  0.223\n",
      "    compactness (worst):                  0.027  1.058\n",
      "    concavity (worst):                    0.0    1.252\n",
      "    concave points (worst):               0.0    0.291\n",
      "    symmetry (worst):                     0.156  0.664\n",
      "    fractal dimension (worst):            0.055  0.208\n",
      "    ===================================== ====== ======\n",
      "\n",
      "    :Missing Attribute Values: None\n",
      "\n",
      "    :Class Distribution: 212 - Malignant, 357 - Benign\n",
      "\n",
      "    :Creator:  Dr. William H. Wolberg, W. Nick Street, Olvi L. Mangasarian\n",
      "\n",
      "    :Donor: Nick Street\n",
      "\n",
      "    :Date: November, 1995\n",
      "\n",
      "This is a copy of UCI ML Breast Cancer Wisconsin (Diagnostic) datasets.\n",
      "https://goo.gl/U2Uwz2\n",
      "\n",
      "Features are computed from a digitized image of a fine needle\n",
      "aspirate (FNA) of a breast mass.  They describe\n",
      "characteristics of the cell nuclei present in the image.\n",
      "\n",
      "Separating plane described above was obtained using\n",
      "Multisurface Method-Tree (MSM-T) [K. P. Bennett, \"Decision Tree\n",
      "Construction Via Linear Programming.\" Proceedings of the 4th\n",
      "Midwest Artificial Intelligence and Cognitive Science Society,\n",
      "pp. 97-101, 1992], a classification method which uses linear\n",
      "programming to construct a decision tree.  Relevant features\n",
      "were selected using an exhaustive search in the space of 1-4\n",
      "features and 1-3 separating planes.\n",
      "\n",
      "The actual linear program used to obtain the separating plane\n",
      "in the 3-dimensional space is that described in:\n",
      "[K. P. Bennett and O. L. Mangasarian: \"Robust Linear\n",
      "Programming Discrimination of Two Linearly Inseparable Sets\",\n",
      "Optimization Methods and Software 1, 1992, 23-34].\n",
      "\n",
      "This database is also available through the UW CS ftp server:\n",
      "\n",
      "ftp ftp.cs.wisc.edu\n",
      "cd math-prog/cpo-dataset/machine-learn/WDBC/\n",
      "\n",
      ".. topic:: References\n",
      "\n",
      "   - W.N. Street, W.H. Wolberg and O.L. Mangasarian. Nuclear feature extraction \n",
      "     for breast tumor diagnosis. IS&T/SPIE 1993 International Symposium on \n",
      "     Electronic Imaging: Science and Technology, volume 1905, pages 861-870,\n",
      "     San Jose, CA, 1993.\n",
      "   - O.L. Mangasarian, W.N. Street and W.H. Wolberg. Breast cancer diagnosis and \n",
      "     prognosis via linear programming. Operations Research, 43(4), pages 570-577, \n",
      "     July-August 1995.\n",
      "   - W.H. Wolberg, W.N. Street, and O.L. Mangasarian. Machine learning techniques\n",
      "     to diagnose breast cancer from fine-needle aspirates. Cancer Letters 77 (1994) \n",
      "     163-171.\n"
     ]
    }
   ],
   "source": [
    "# Display the description.\n",
    "print(data.DESCR)           #569케이스"
   ]
  },
  {
   "cell_type": "code",
   "execution_count": 4,
   "metadata": {},
   "outputs": [
    {
     "name": "stdout",
     "output_type": "stream",
     "text": [
      "['mean radius' 'mean texture' 'mean perimeter' 'mean area'\n",
      " 'mean smoothness' 'mean compactness' 'mean concavity'\n",
      " 'mean concave points' 'mean symmetry' 'mean fractal dimension'\n",
      " 'radius error' 'texture error' 'perimeter error' 'area error'\n",
      " 'smoothness error' 'compactness error' 'concavity error'\n",
      " 'concave points error' 'symmetry error' 'fractal dimension error'\n",
      " 'worst radius' 'worst texture' 'worst perimeter' 'worst area'\n",
      " 'worst smoothness' 'worst compactness' 'worst concavity'\n",
      " 'worst concave points' 'worst symmetry' 'worst fractal dimension']\n"
     ]
    }
   ],
   "source": [
    "#설명변수\n",
    "X = data['data']\n",
    "print(data['feature_names'])  #변수이름 가져옴"
   ]
  },
  {
   "cell_type": "code",
   "execution_count": 5,
   "metadata": {},
   "outputs": [
    {
     "data": {
      "text/plain": [
       "(569, 30)"
      ]
     },
     "execution_count": 5,
     "metadata": {},
     "output_type": "execute_result"
    }
   ],
   "source": [
    "X.shape"
   ]
  },
  {
   "cell_type": "code",
   "execution_count": 6,
   "metadata": {},
   "outputs": [
    {
     "name": "stdout",
     "output_type": "stream",
     "text": [
      "['benign', 'malignant']\n"
     ]
    }
   ],
   "source": [
    "#반응변수\n",
    "Y = 1 - data['target']              #(1-파라미터)해서 0은 양성, 1은 악성으로 레이블 바꿈\n",
    "label = list(data['target_names'])  \n",
    "label.reverse()\n",
    "print(label)"
   ]
  },
  {
   "cell_type": "code",
   "execution_count": 7,
   "metadata": {},
   "outputs": [
    {
     "data": {
      "image/png": "[encoded data removed]",
      "text/plain": [
       "<Figure size 432x288 with 1 Axes>"
      ]
     },
     "metadata": {
      "needs_background": "light"
     },
     "output_type": "display_data"
    }
   ],
   "source": [
    "#도수분포표\n",
    "ser = pd.Series(Y)\n",
    "table = ser.value_counts()\n",
    "table = table.sort_index()                  # Has to be sorted for correct labeling.\n",
    "sns.barplot(label,table.values)\n",
    "plt.show()"
   ]
  },
  {
   "cell_type": "markdown",
   "metadata": {},
   "source": [
    "### 1.2. Train and test:"
   ]
  },
  {
   "cell_type": "code",
   "execution_count": 8,
   "metadata": {},
   "outputs": [],
   "source": [
    "#데이터세트를 train과 test로 쪼갬\n",
    "X_train, X_test, Y_train, Y_test = train_test_split(X, Y, test_size=0.4, random_state=1234)"
   ]
  },
  {
   "cell_type": "code",
   "execution_count": 9,
   "metadata": {},
   "outputs": [
    {
     "name": "stdout",
     "output_type": "stream",
     "text": [
      "(341, 30)\n",
      "(228, 30)\n",
      "(341,)\n",
      "(228,)\n"
     ]
    }
   ],
   "source": [
    "print(X_train.shape)\n",
    "print(X_test.shape)\n",
    "print(Y_train.shape)\n",
    "print(Y_test.shape)"
   ]
  },
  {
   "cell_type": "code",
   "execution_count": 10,
   "metadata": {},
   "outputs": [],
   "source": [
    "# Train and predict.\n",
    "LL = LogisticRegression(solver='liblinear',max_iter=200)    #객체만듬(식은 복붙), 최대반복 200회\n",
    "LL.fit(X_train,Y_train)   \n",
    "Y_pred_test = LL.predict(X_test)                            #Out-of-sample prediction. \n"
   ]
  },
  {
   "cell_type": "code",
   "execution_count": 11,
   "metadata": {},
   "outputs": [
    {
     "name": "stdout",
     "output_type": "stream",
     "text": [
      "[[139   5]\n",
      " [ 12  72]]\n"
     ]
    }
   ],
   "source": [
    "# 혼동행렬\n",
    "conf_mat = metrics.confusion_matrix(Y_test,Y_pred_test)  #실제 Y_test(행)와 예측된 Y_pred_test(열)로 혼동행렬 구함\n",
    "\n",
    "print(conf_mat)\n",
    "\n",
    "#행이 실제, 열이 예측(강의자료와 다름-내가 수정가능)\n",
    "#대각선값이 크다"
   ]
  },
  {
   "cell_type": "code",
   "execution_count": 12,
   "metadata": {},
   "outputs": [
    {
     "name": "stdout",
     "output_type": "stream",
     "text": [
      "Accuracy    = 0.925\n",
      "Sensitvity  = 0.857\n",
      "Specificity = 0.965\n",
      "Precision   = 0.935\n"
     ]
    }
   ],
   "source": [
    "#혼동행렬 사용해 정확도,민간도,특이도,정밀도 구함\n",
    "accuracy = (conf_mat[0,0] + conf_mat[1,1])/np.sum(conf_mat)  #정확도는 함수적용\n",
    "sensitivity = conf_mat[1,1]/(conf_mat[1,0]+conf_mat[1,1])    #나머지는 수식적용\n",
    "specificity = conf_mat[0,0]/(conf_mat[0,0]+conf_mat[0,1])\n",
    "precision = conf_mat[1,1]/(conf_mat[0,1]+conf_mat[1,1])\n",
    "print('Accuracy    = {}'.format(np.round(accuracy,3)))\n",
    "print('Sensitvity  = {}'.format(np.round(sensitivity,3)))\n",
    "print('Specificity = {}'.format(np.round(specificity,3)))\n",
    "print('Precision   = {}'.format(np.round(precision,3)))"
   ]
  },
  {
   "cell_type": "code",
   "execution_count": 13,
   "metadata": {},
   "outputs": [
    {
     "name": "stdout",
     "output_type": "stream",
     "text": [
      "Accuracy    = 0.925\n",
      "Sensitvity  = 0.857\n",
      "Precision   = 0.935\n"
     ]
    }
   ],
   "source": [
    "#혼동행렬 사용해 정확도,민간도,특이도,정밀도 구함(함수사용한 방법)  \n",
    "accuracy = metrics.accuracy_score(Y_test,Y_pred_test)                   \n",
    "sensitivity = metrics.recall_score(Y_test,Y_pred_test)   #민감도 recall이라고도 부름\n",
    "precision = metrics.precision_score(Y_test,Y_pred_test)  \n",
    "print('Accuracy    = {}'.format(np.round(accuracy,3)))\n",
    "print('Sensitvity  = {}'.format(np.round(sensitivity,3)))\n",
    "print('Precision   = {}'.format(np.round(precision,3)))"
   ]
  },
  {
   "cell_type": "markdown",
   "metadata": {},
   "source": [
    "### 1.3. Cutoff (threshold): 기준확률\n",
    "\n",
    "\n",
    "어느 기준점(cutoff 기준확률)을 두고 확률이 높으면 1, 높지 않으면 0으로 예측<br><br>\n",
    "\n",
    "\n",
    "기준확률은 얼마? 0.5\n",
    "\n",
    "기준확률 높이면?\n",
    "\n",
    "시험평가하는데 커트라인이 높아진다 = 더 높은 실력이 있어야 패스\n",
    "\n",
    "=>더 명확해야 1이 된다<br><br>\n",
    "\n",
    "상황에따라 기준을 높일 때도 낮을 때도 있다"
   ]
  },
  {
   "cell_type": "code",
   "execution_count": 14,
   "metadata": {},
   "outputs": [],
   "source": [
    "# Now, predict the probability of Y  = 1.\n",
    "Y_pred_test_prob=LL.predict_proba(X_test)[:,1]\n",
    "\n",
    "#위에서 기준확률이 0.5(디폴트)로 되있는걸 변경\n",
    "#predict_proba: 0이 될 확률, 1이 될 확률 2가지 계산"
   ]
  },
  {
   "cell_type": "code",
   "execution_count": 23,
   "metadata": {},
   "outputs": [
    {
     "data": {
      "text/plain": [
       "array([8.21347377e-02, 1.17182084e-04, 4.04323911e-02, 2.10904481e-02,\n",
       "       2.18919726e-03, 5.12417644e-03, 9.18728843e-01, 2.05657204e-03,\n",
       "       1.00000000e+00, 9.99979706e-01, 9.99999999e-01, 2.82284040e-02,\n",
       "       4.89448988e-03, 4.72467601e-02, 2.79814530e-03, 9.99999999e-01,\n",
       "       3.06760173e-04, 2.86495913e-03, 8.84455948e-04, 9.99993576e-01,\n",
       "       4.86609042e-03, 9.90292759e-01, 9.99999999e-01, 1.00000000e+00,\n",
       "       9.99999993e-01, 3.43673518e-01, 9.96928125e-01, 2.46519081e-03,\n",
       "       1.90880776e-03, 2.30313610e-03, 1.21292850e-02, 1.17889082e-03,\n",
       "       9.98581998e-01, 1.45728611e-02, 8.27375382e-02, 1.53303307e-02,\n",
       "       1.17610859e-02, 9.85923236e-01, 8.67743957e-01, 1.58522505e-03,\n",
       "       9.99952668e-01, 1.27282158e-02, 1.00000000e+00, 1.97204280e-01,\n",
       "       9.19342162e-02, 2.89305364e-03, 3.24233858e-03, 1.33773046e-01,\n",
       "       1.00000000e+00, 9.59058354e-02, 5.18901974e-02, 9.20024083e-03,\n",
       "       3.17127212e-03, 9.99999974e-01, 4.99096340e-01, 4.01968951e-04,\n",
       "       1.62597917e-03, 4.42385986e-05, 8.85224053e-03, 9.83658296e-01,\n",
       "       6.88569538e-03, 1.00573921e-02, 5.69537570e-02, 4.56809518e-04,\n",
       "       3.31275343e-03, 9.99825463e-01, 1.00000000e+00, 2.88677850e-03,\n",
       "       1.70973426e-03, 4.77817960e-01, 3.17834438e-04, 9.99999740e-01,\n",
       "       4.86074432e-04, 4.49927258e-01, 2.19655741e-03, 5.64154027e-03,\n",
       "       4.99412108e-04, 9.99999969e-01, 2.28041009e-03, 9.93362116e-01,\n",
       "       9.24846700e-04, 1.90006226e-03, 3.22811726e-03, 3.39260941e-02,\n",
       "       9.82694772e-01, 9.99872124e-01, 9.99974256e-01, 9.99989505e-01,\n",
       "       5.49861965e-02, 1.31248065e-01, 5.54367019e-04, 4.95858757e-02,\n",
       "       7.93638351e-04, 1.00000000e+00, 8.90024456e-01, 2.59940654e-02,\n",
       "       3.47335931e-03, 7.59608760e-02, 1.49435429e-03, 7.61687875e-03,\n",
       "       9.99999944e-01, 1.00000000e+00, 1.58252984e-03, 5.15382917e-04,\n",
       "       9.98275292e-01, 1.51409516e-03, 2.08753428e-04, 9.99167513e-01,\n",
       "       8.06621980e-01, 8.49529677e-02, 9.99987464e-01, 6.07861542e-01,\n",
       "       9.98876432e-01, 1.00000000e+00, 1.41888112e-01, 4.09249785e-03,\n",
       "       1.28266919e-03, 9.97947540e-01, 1.27038290e-04, 3.40930392e-01,\n",
       "       1.85359593e-04, 5.27281124e-02, 5.80998951e-03, 1.42600854e-03,\n",
       "       1.00000000e+00, 1.26543450e-02, 9.89366856e-01, 9.75394793e-01,\n",
       "       4.41187163e-03, 3.29779687e-02, 6.31613151e-01, 5.95877775e-03,\n",
       "       1.00000000e+00, 3.34097684e-03, 9.41319230e-01, 6.69296219e-03,\n",
       "       1.74390089e-02, 7.47315570e-01, 2.07585392e-03, 7.65928272e-01,\n",
       "       9.59381575e-06, 9.99999995e-01, 8.86852086e-01, 1.75810664e-03,\n",
       "       7.54369240e-01, 1.31425645e-02, 1.04037784e-01, 5.87528599e-03,\n",
       "       9.51710689e-01, 4.59435420e-01, 4.65322177e-02, 8.14546742e-04,\n",
       "       9.99998648e-01, 8.79087305e-02, 2.34258609e-03, 5.05594330e-01,\n",
       "       2.61431060e-02, 9.99983779e-01, 1.00000000e+00, 6.31128531e-01,\n",
       "       1.81054326e-02, 7.49969449e-03, 9.99999174e-01, 1.84364974e-02,\n",
       "       4.12762902e-02, 9.86239216e-01, 6.97484337e-03, 6.71092521e-02,\n",
       "       1.38926668e-03, 2.73894343e-03, 7.13097201e-01, 8.55736263e-03,\n",
       "       6.03494044e-01, 9.98342733e-01, 9.90754775e-01, 4.10402549e-04,\n",
       "       1.02132655e-01, 1.64231893e-02, 2.09668114e-02, 2.07680859e-01,\n",
       "       8.43349118e-03, 6.41447267e-03, 9.38986886e-04, 9.99940798e-01,\n",
       "       2.98567823e-03, 9.99999973e-01, 1.71839954e-03, 1.03757128e-02,\n",
       "       2.37585809e-02, 1.41754435e-03, 9.77465916e-01, 3.40646742e-04,\n",
       "       1.46439370e-03, 1.82866734e-01, 1.00000000e+00, 4.13226249e-03,\n",
       "       9.95653008e-01, 9.99999706e-01, 4.96109282e-04, 2.17859754e-01,\n",
       "       2.12445203e-02, 2.23853784e-04, 1.97315291e-03, 1.00000000e+00,\n",
       "       9.36041414e-03, 1.51270647e-03, 1.00000000e+00, 2.81845310e-01,\n",
       "       3.03784333e-03, 7.76710622e-02, 9.62055993e-03, 9.99434823e-01,\n",
       "       3.27284868e-03, 1.08782471e-03, 9.05136206e-02, 1.12397554e-02,\n",
       "       3.46096907e-03, 3.18945047e-02, 9.78671128e-01, 9.84988475e-02,\n",
       "       3.43978301e-02, 9.14445046e-02, 1.00000000e+00, 7.71014851e-01,\n",
       "       5.91509402e-05, 9.99999898e-01, 1.11045206e-03, 9.99999787e-01])"
      ]
     },
     "execution_count": 23,
     "metadata": {},
     "output_type": "execute_result"
    }
   ],
   "source": [
    "Y_pred_test_prob   #0이 될 확률, 1이 될 확률"
   ]
  },
  {
   "cell_type": "code",
   "execution_count": 15,
   "metadata": {},
   "outputs": [
    {
     "name": "stdout",
     "output_type": "stream",
     "text": [
      "[[143   1]\n",
      " [ 13  71]]\n"
     ]
    }
   ],
   "source": [
    "#기준확률 0.7로 변경 (0~1)\n",
    "cutoff = 0.7                           \n",
    "Y_pred_test_val = (Y_pred_test_prob > cutoff).astype(int)   #기준확률이 0.7 이상이면 1로, 아니면 0으로\n",
    "conf_mat = metrics.confusion_matrix(Y_test,Y_pred_test_val)\n",
    "print(conf_mat)"
   ]
  },
  {
   "cell_type": "code",
   "execution_count": 16,
   "metadata": {},
   "outputs": [
    {
     "name": "stdout",
     "output_type": "stream",
     "text": [
      "Accuracy    = 0.939\n",
      "Sensitvity  = 0.845\n",
      "Specificity = 0.993\n",
      "Precision   = 0.986\n"
     ]
    }
   ],
   "source": [
    "accuracy = (conf_mat[0,0] + conf_mat[1,1])/np.sum(conf_mat)\n",
    "sensitivity = conf_mat[1,1]/(conf_mat[1,0]+conf_mat[1,1])\n",
    "specificity = conf_mat[0,0]/(conf_mat[0,0]+conf_mat[0,1])\n",
    "precision = conf_mat[1,1]/(conf_mat[0,1]+conf_mat[1,1])\n",
    "print('Accuracy    = {}'.format(np.round(accuracy,3)))\n",
    "print('Sensitvity  = {}'.format(np.round(sensitivity,3)))\n",
    "print('Specificity = {}'.format(np.round(specificity,3)))\n",
    "print('Precision   = {}'.format(np.round(precision,3)))\n",
    "\n",
    "#기준확률 올리니 좀 향상되거나 떨어짐"
   ]
  },
  {
   "cell_type": "markdown",
   "metadata": {},
   "source": [
    "### 1.4. ROC curve: "
   ]
  },
  {
   "cell_type": "code",
   "execution_count": 17,
   "metadata": {},
   "outputs": [],
   "source": [
    "# Initialize.\n",
    "cutoff_grid = np.linspace(0.0,1.0,100)\n",
    "TPR = []         #세로                                     # True Positive Rate.\n",
    "FPR = []         #가로                                     # False Positive Rate."
   ]
  },
  {
   "cell_type": "code",
   "execution_count": 18,
   "metadata": {},
   "outputs": [],
   "source": [
    "# Populate the TP and FP lists.\n",
    "for cutoff in cutoff_grid:\n",
    "    Y_pred_test_val = (Y_pred_test_prob > cutoff).astype(int)     #기준확률을 0~1로 다시 배열(100개) \n",
    "    conf_mat = metrics.confusion_matrix(Y_test,Y_pred_test_val)   #혼동행렬 다시 계산하고\n",
    "    sensitivity = conf_mat[1,1]/(conf_mat[1,0]+conf_mat[1,1])     #평가척도 다시 계산\n",
    "    specificity = conf_mat[0,0]/(conf_mat[0,0]+conf_mat[0,1])\n",
    "    TPR.append(sensitivity)\n",
    "    FPR.append(1-specificity)                 "
   ]
  },
  {
   "cell_type": "code",
   "execution_count": 19,
   "metadata": {},
   "outputs": [
    {
     "data": {
      "image/png": "[encoded data removed]",
      "text/plain": [
       "<Figure size 432x288 with 1 Axes>"
      ]
     },
     "metadata": {
      "needs_background": "light"
     },
     "output_type": "display_data"
    }
   ],
   "source": [
    "#위에서만들어진 리스트를 가지고 시각화\n",
    "plt.plot(FPR,TPR,c='red',linewidth=1.0)\n",
    "plt.xlabel('False Positive Rate')\n",
    "plt.ylabel('True Positive Rate')\n",
    "plt.title('ROC Curve')\n",
    "plt.show()\n",
    "\n",
    "#왼쪽 상단에 가까울수록 좋음"
   ]
  },
  {
   "cell_type": "markdown",
   "metadata": {},
   "source": [
    "### 5) ROC curve (sklearn): 함수사용"
   ]
  },
  {
   "cell_type": "code",
   "execution_count": 20,
   "metadata": {},
   "outputs": [],
   "source": [
    "# Calculate the TPR and FPR using a Scikit Learn function.\n",
    "FPR, TPR, cutoffs = metrics.roc_curve(Y_test,Y_pred_test_prob,pos_label=1)      # positive label = 1.\n",
    "\n",
    "#metrics.roc_curve: roc 곡선함수"
   ]
  },
  {
   "cell_type": "code",
   "execution_count": 21,
   "metadata": {},
   "outputs": [
    {
     "data": {
      "image/png": "[encoded data removed]",
      "text/plain": [
       "<Figure size 432x288 with 1 Axes>"
      ]
     },
     "metadata": {
      "needs_background": "light"
     },
     "output_type": "display_data"
    }
   ],
   "source": [
    "# Visualize.\n",
    "plt.plot(FPR,TPR,c='red',linewidth=1.0)\n",
    "plt.xlabel('False Positive')\n",
    "plt.ylabel('True Positive')\n",
    "plt.title('ROC Curve')\n",
    "plt.show()"
   ]
  },
  {
   "cell_type": "code",
   "execution_count": 22,
   "metadata": {},
   "outputs": [
    {
     "name": "stdout",
     "output_type": "stream",
     "text": [
      "AUC  = 0.989\n"
     ]
    }
   ],
   "source": [
    "# AUC.\n",
    "auc = metrics.roc_auc_score(Y_test,Y_pred_test_prob)\n",
    "print('AUC  = {}'.format(np.round(auc,3)))"
   ]
  },
  {
   "cell_type": "code",
   "execution_count": null,
   "metadata": {},
   "outputs": [],
   "source": []
  }
 ],
 "metadata": {
  "kernelspec": {
   "display_name": "Python 3",
   "language": "python",
   "name": "python3"
  },
  "language_info": {
   "codemirror_mode": {
    "name": "ipython",
    "version": 3
   },
   "file_extension": ".py",
   "mimetype": "text/x-python",
   "name": "python",
   "nbconvert_exporter": "python",
   "pygments_lexer": "ipython3",
   "version": "3.7.4"
  }
 },
 "nbformat": 4,
 "nbformat_minor": 2
}
