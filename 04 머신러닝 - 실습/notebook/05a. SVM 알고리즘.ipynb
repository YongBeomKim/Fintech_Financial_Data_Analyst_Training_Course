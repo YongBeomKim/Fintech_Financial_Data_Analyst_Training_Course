{
 "cells": [
  {
   "cell_type": "markdown",
   "metadata": {},
   "source": [
    "## 1. Classification with SVM:"
   ]
  },
  {
   "cell_type": "code",
   "execution_count": 1,
   "metadata": {},
   "outputs": [],
   "source": [
    "import numpy as np\n",
    "import pandas as pd\n",
    "import matplotlib.pyplot as plt\n",
    "import seaborn as sns\n",
    "import warnings\n",
    "from sklearn.model_selection import train_test_split,GridSearchCV\n",
    "from sklearn.svm import SVC      #SVM에서 SVC(분류예측)가져옴 SVR(회귀)\n",
    "from sklearn import metrics\n",
    "from sklearn.datasets import load_iris\n",
    "warnings.filterwarnings(action='ignore')                  # Turn off the warnings.\n",
    "%matplotlib inline"
   ]
  },
  {
   "cell_type": "markdown",
   "metadata": {},
   "source": [
    "### 1.1. Read in data:"
   ]
  },
  {
   "cell_type": "code",
   "execution_count": 2,
   "metadata": {},
   "outputs": [],
   "source": [
    "#데이터 불러오기\n",
    "data = load_iris()"
   ]
  },
  {
   "cell_type": "code",
   "execution_count": 3,
   "metadata": {},
   "outputs": [
    {
     "name": "stdout",
     "output_type": "stream",
     "text": [
      "['sepal length (cm)', 'sepal width (cm)', 'petal length (cm)', 'petal width (cm)']\n"
     ]
    }
   ],
   "source": [
    "#설명변수\n",
    "X = data['data']\n",
    "columns = list(data['feature_names'])\n",
    "print(columns)"
   ]
  },
  {
   "cell_type": "code",
   "execution_count": 4,
   "metadata": {},
   "outputs": [
    {
     "name": "stdout",
     "output_type": "stream",
     "text": [
      "['setosa', 'versicolor', 'virginica']\n"
     ]
    }
   ],
   "source": [
    "#반응변수\n",
    "Y = data['target']\n",
    "labels = list(data['target_names'])\n",
    "print(labels)"
   ]
  },
  {
   "cell_type": "code",
   "execution_count": 5,
   "metadata": {},
   "outputs": [],
   "source": [
    "X_train, X_test, Y_train, Y_test = train_test_split(X, Y, test_size=0.3, random_state=1234)   #train,test 데이터로 쪼갬"
   ]
  },
  {
   "cell_type": "markdown",
   "metadata": {},
   "source": [
    "### 1.2. SVM hyperparameter optimization (RBF kernel): \n",
    "#### SVM 하이퍼 파라미터 최적화 (RBF kernel 사용)"
   ]
  },
  {
   "cell_type": "markdown",
   "metadata": {},
   "source": [
    "C     : Penalty parameter. <br>\n",
    "gamma : kernel parameter ($\\gamma$)."
   ]
  },
  {
   "cell_type": "code",
   "execution_count": 6,
   "metadata": {},
   "outputs": [],
   "source": [
    "C_grid = 0.02*np.arange(1,20)      #C: 최적화 유류의 최대허용범위(패널티 파라미터)\n",
    "gamma_grid = 0.02*np.arange(1,50)  #gamma: 커널 파리미터\n",
    "                                   #두개 리스트 만들어 그리드 \n",
    "\n",
    "parameters = {'C': C_grid, 'gamma' : gamma_grid}  #parameters 딕셔너리 생성\n",
    "\n",
    "gridCV = GridSearchCV(SVC(kernel='rbf'), parameters, cv=10, n_jobs=-1)     #GridSearchCV로 최적의 C,gamma,하이퍼 파라미터 조합 만듬       \n",
    "                                                                           #kernal은 rdf, parameters딕셔너리 넣음\n",
    "\n",
    "gridCV.fit(X_train, Y_train)\n",
    "best_C = gridCV.best_params_['C']                      #딕셔너리에서 C의 베스트 파라미터 뽑음\n",
    "best_gamma = gridCV.best_params_['gamma']              #gamma의 베스트 파라미터 뽑음"
   ]
  },
  {
   "cell_type": "code",
   "execution_count": 7,
   "metadata": {},
   "outputs": [
    {
     "name": "stdout",
     "output_type": "stream",
     "text": [
      "SVM best C : 0.22\n",
      "SVM best gamma : 0.58\n"
     ]
    }
   ],
   "source": [
    "print(\"SVM best C : \" + str(best_C))\n",
    "print(\"SVM best gamma : \" + str(best_gamma))"
   ]
  },
  {
   "cell_type": "code",
   "execution_count": 8,
   "metadata": {},
   "outputs": [
    {
     "name": "stdout",
     "output_type": "stream",
     "text": [
      "SVM best accuracy : 0.978\n"
     ]
    }
   ],
   "source": [
    "SVM_best = SVC(kernel='rbf', C=best_C,gamma=best_gamma)\n",
    "SVM_best.fit(X_train, Y_train);\n",
    "Y_pred = SVM_best.predict(X_test)\n",
    "print( \"SVM best accuracy : \" + str(np.round(metrics.accuracy_score(Y_test,Y_pred),3)))\n",
    "\n",
    "#97.8%의 정확도"
   ]
  },
  {
   "cell_type": "markdown",
   "metadata": {},
   "source": [
    "### 1.3. SVM hyperparameter optimization (Polynomial kernel):\n",
    "#### SVM 하이퍼 파라미터 최적화 (Polynomial kernel 사용)"
   ]
  },
  {
   "cell_type": "code",
   "execution_count": 9,
   "metadata": {},
   "outputs": [],
   "source": [
    "C_grid = 0.0001*np.arange(1,30)\n",
    "gamma_grid = 0.01*np.arange(1,30)\n",
    "parameters = {'C': C_grid, 'gamma' : gamma_grid}\n",
    "gridCV = GridSearchCV(SVC(kernel='poly'), parameters, cv=10, n_jobs=-1)             \n",
    "gridCV.fit(X_train, Y_train)\n",
    "best_C = gridCV.best_params_['C']\n",
    "best_gamma = gridCV.best_params_['gamma']"
   ]
  },
  {
   "cell_type": "code",
   "execution_count": 10,
   "metadata": {},
   "outputs": [
    {
     "name": "stdout",
     "output_type": "stream",
     "text": [
      "SVM best C : 0.0011\n",
      "SVM best gamma : 0.29\n"
     ]
    }
   ],
   "source": [
    "print(\"SVM best C : \" + str(best_C))\n",
    "print(\"SVM best gamma : \" + str(best_gamma))"
   ]
  },
  {
   "cell_type": "code",
   "execution_count": 11,
   "metadata": {},
   "outputs": [
    {
     "name": "stdout",
     "output_type": "stream",
     "text": [
      "SVM best accuracy : 1.0\n"
     ]
    }
   ],
   "source": [
    "SVM_best = SVC(kernel='poly', C=best_C,gamma=best_gamma)\n",
    "SVM_best.fit(X_train, Y_train);\n",
    "Y_pred = SVM_best.predict(X_test)\n",
    "print( \"SVM best accuracy : \" + str(np.round(metrics.accuracy_score(Y_test,Y_pred),3)))\n",
    "\n",
    "#100%로 나옴"
   ]
  },
  {
   "cell_type": "code",
   "execution_count": null,
   "metadata": {},
   "outputs": [],
   "source": []
  }
 ],
 "metadata": {
  "kernelspec": {
   "display_name": "Python 3",
   "language": "python",
   "name": "python3"
  },
  "language_info": {
   "codemirror_mode": {
    "name": "ipython",
    "version": 3
   },
   "file_extension": ".py",
   "mimetype": "text/x-python",
   "name": "python",
   "nbconvert_exporter": "python",
   "pygments_lexer": "ipython3",
   "version": "3.7.4"
  }
 },
 "nbformat": 4,
 "nbformat_minor": 2
}
