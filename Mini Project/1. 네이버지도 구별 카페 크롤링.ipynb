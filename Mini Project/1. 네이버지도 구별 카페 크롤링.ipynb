{
 "cells": [
  {
   "cell_type": "code",
   "execution_count": null,
   "metadata": {},
   "outputs": [],
   "source": [
    "# Selenium 설치.\n",
    "#!pip install selenium"
   ]
  },
  {
   "cell_type": "code",
   "execution_count": null,
   "metadata": {},
   "outputs": [],
   "source": [
    "from selenium import webdriver\n",
    "import bs4,re\n",
    "import pandas as pd\n",
    "import numpy as np\n",
    "import os\n",
    "import time"
   ]
  },
  {
   "cell_type": "code",
   "execution_count": null,
   "metadata": {},
   "outputs": [],
   "source": [
    "os.chdir(r\"C:\\Users\\Gram\\Desktop\\myPyCode\\프로젝트1\")"
   ]
  },
  {
   "cell_type": "code",
   "execution_count": null,
   "metadata": {},
   "outputs": [],
   "source": [
    "read_compare = pd.read_csv(\"data_coffee.csv\",encoding='cp949')"
   ]
  },
  {
   "cell_type": "code",
   "execution_count": null,
   "metadata": {},
   "outputs": [],
   "source": [
    "def grep(reg_exp,my_text):\n",
    "    result = []\n",
    "    reg_exp_compiled = re.compile(reg_exp)\n",
    "    for i in range(len(my_text)):\n",
    "        if reg_exp_compiled.search(my_text[i]):\n",
    "            result.append(my_text[i])\n",
    "    return result"
   ]
  },
  {
   "cell_type": "code",
   "execution_count": null,
   "metadata": {},
   "outputs": [],
   "source": [
    "driver1 = webdriver.Chrome(\"./chromedriver\")\n",
    "driver2 = webdriver.Chrome(\"./chromedriver\")"
   ]
  },
  {
   "cell_type": "code",
   "execution_count": null,
   "metadata": {},
   "outputs": [],
   "source": [
    "driver1.get(\"https://v4.map.naver.com\")"
   ]
  },
  {
   "cell_type": "code",
   "execution_count": null,
   "metadata": {},
   "outputs": [],
   "source": [
    "driver1.find_elements_by_css_selector(\"button.btn_close\")[1].click()"
   ]
  },
  {
   "cell_type": "code",
   "execution_count": null,
   "metadata": {},
   "outputs": [],
   "source": [
    "gu_list =['중랑구','성북구','강북구','도봉구','노원구','은평구']\n",
    "gu_list=['강북구']\n",
    "enter_gu='강북구'"
   ]
  },
  {
   "cell_type": "code",
   "execution_count": null,
   "metadata": {},
   "outputs": [],
   "source": [
    "for enter_gu in gu_list:\n",
    "    search_box = driver1.find_element_by_css_selector(\"input#search-input\")\n",
    "    search_box.send_keys(enter_gu+'커피전문점')\n",
    "    \n",
    "    # 검색버튼 누르기 // 검색버튼: button.spm\n",
    "    search_button = driver1.find_element_by_css_selector(\"button.spm\")\n",
    "    search_button.click()\n",
    "    \n",
    "    # 1초의 지연시간을 줍니다. \n",
    "    time.sleep(1)\n",
    "    \n",
    "    page = 1\n",
    "    cafe_name=[]        # 카페 이름\n",
    "    cafe_menu=[]        # 카페 메뉴들 리스트\n",
    "    cafe_price=[]       # 메뉴 가격들 리스트\n",
    "    cafe_gu=[]          # 지역\n",
    "    cafe_classify =[]\n",
    "    \n",
    "    while True : \n",
    "        time.sleep(2)\n",
    "    \n",
    "        html = driver1.page_source\n",
    "        soup = bs4.BeautifulSoup(html, 'html.parser')\n",
    "        \n",
    "        html_2 = driver2.page_source\n",
    "        soup_2 = bs4.BeautifulSoup(html_2, 'html.parser')\n",
    "    \n",
    "        page = page + 1\n",
    "        cafe_list = soup.select('ul.lst_site > li')\n",
    "        \n",
    "            \n",
    "            \n",
    "        for data in cafe_list:\n",
    "                \n",
    "            detail_url = data.select_one('a.spm_sw_detail').attrs['href']            \n",
    "            driver2.get('https://map.naver.com' + detail_url)\n",
    "            time.sleep(2)    \n",
    "            \n",
    "            #### 카페 이름\n",
    "            driver2.find_element_by_css_selector(\"#content > div\").text\n",
    "            name = driver2.find_element_by_class_name(\"name\").text\n",
    "            \n",
    "            ######## 카페 프렌차이즈vs개인\n",
    "            \n",
    "            for i in read_compare['store_name']:\n",
    "                if i in name:\n",
    "                    classify = 'F'\n",
    "                    break\n",
    "                else :\n",
    "                    classify = 'P'\n",
    "            \n",
    "            \n",
    "            ### 카페 메뉴 리스트\n",
    "            emprice=[]        # 가격들\n",
    "            spname=[]         # 메뉴 이름들\n",
    "            \n",
    "            try:\n",
    "                list_menu = driver2.find_elements_by_css_selector(\"div.list_menu_inner\")\n",
    "            \n",
    "                for i in range(len(list_menu)-1):\n",
    "                    # 세부 데이터 수집\n",
    "                    spname.append(list_menu[i].find_element_by_css_selector(\"span.name\").text)\n",
    "                    emprice.append(list_menu[i].find_element_by_css_selector(\"em.price\").text   )\n",
    "            ### nan 값이     \n",
    "            except:\n",
    "                spname.append(np.nan)\n",
    "                emprice.append(np.nan)\n",
    "                \n",
    "            if spname :\n",
    "                test=False\n",
    "                for i in range(len(spname)):\n",
    "                    if spname[i] !=[]:      ## 메뉴 리스트가 있다면\n",
    "                        if grep(\"아메리카노\",spname):     # True\n",
    "                            find_menu=grep(\"아메리카노\",spname)\n",
    "                            cafe_menu.append(find_menu[0])          # 메뉴 입력\n",
    "                            \n",
    "                            price_ind=spname.index(find_menu[0])\n",
    "                            expr=emprice[price_ind]                 ## 정규 표현식\n",
    "                            expr=expr.replace(\"원\",\"\")\n",
    "                            expr=expr.replace(\",\",\"\")\n",
    "                            if grep('~',expr):\n",
    "                                expr=expr.split('~')\n",
    "                                expr=expr[0]\n",
    "                            cafe_price.append(expr)   # 가격 입력\n",
    "                            test= True\n",
    "                        \n",
    "                        elif grep(\"카페라떼\",spname):     # True\n",
    "                            find_menu=grep(\"카페라떼\",spname)\n",
    "                            cafe_menu.append(find_menu[0])          # 메뉴 입력\n",
    "                            \n",
    "                            price_ind=spname.index(find_menu[0])\n",
    "                            expr=emprice[price_ind]                 ## 정규 표현식\n",
    "                            expr=expr.replace(\"원\",\"\")\n",
    "                            expr=expr.replace(\",\",\"\")\n",
    "                            if grep('~',expr):\n",
    "                                expr=expr.split('~')\n",
    "                                expr=expr[0]\n",
    "                            cafe_price.append(expr)   # 가격 입력\n",
    "                            test= True\n",
    "                        \n",
    "                        elif grep(\"블랙커피\",spname):     # True\n",
    "                            find_menu=grep(\"블랙커피\",spname)\n",
    "                            cafe_menu.append(find_menu[0])          # 메뉴 입력\n",
    "                            \n",
    "                            price_ind=spname.index(find_menu[0])\n",
    "                            expr=emprice[price_ind]                 ## 정규 표현식\n",
    "                            expr=expr.replace(\"원\",\"\")\n",
    "                            expr=expr.replace(\",\",\"\")\n",
    "                            if grep('~',expr):\n",
    "                                expr=expr.split('~')\n",
    "                                expr=expr[0]\n",
    "                            cafe_price.append(expr)   # 가격 입력\n",
    "                            test= True\n",
    "\n",
    "                        else :\n",
    "                            \n",
    "                            cafe_menu.append(spname[0])\n",
    "                            expr=emprice[0]                 ## 정규 표현식\n",
    "                            expr=expr.replace(\"원\",\"\")\n",
    "                            expr=expr.replace(\",\",\"\")\n",
    "                            if grep('~',expr):\n",
    "                                expr=expr.split('~')\n",
    "                                expr=expr[0]\n",
    "                            cafe_price.append(expr)   # 가격 입력\n",
    "                            test= True\n",
    "\n",
    "                    \n",
    "                    if test :\n",
    "                        cafe_name.append(name)\n",
    "                        cafe_gu.append(enter_gu)\n",
    "                        cafe_classify.append(classify)\n",
    "                        break\n",
    "            \n",
    "            else:\n",
    "                cafe_name.append(name)\n",
    "                cafe_gu.append(enter_gu)\n",
    "                cafe_menu.append(np.nan)\n",
    "                cafe_price.append(np.nan)\n",
    "                cafe_classify.append(classify)\n",
    "                \n",
    "                \n",
    "    \n",
    "            time.sleep(1)\n",
    "    \n",
    "            \n",
    "        try:\n",
    "            if page % 5 == 1:\n",
    "                driver1.find_element_by_class_name('next').click()\n",
    "            else:\n",
    "                driver1.find_element_by_xpath('//a[text()=' + str(page) + ']').click()\n",
    "    \n",
    "        except:\n",
    "            break"
   ]
  },
  {
   "cell_type": "code",
   "execution_count": null,
   "metadata": {},
   "outputs": [],
   "source": [
    "#데이터프레임으로 저장\n",
    "test={\"카페\":cafe_name,\"메뉴\":cafe_menu,\"가격\":cafe_price,\"지역\":cafe_gu,\"구분\":cafe_classify}\n",
    "df_test=pd.DataFrame(test,columns=['카페','메뉴','가격','지역',\"구분\"])    "
   ]
  },
  {
   "cell_type": "code",
   "execution_count": null,
   "metadata": {},
   "outputs": [],
   "source": [
    "#excel로 저장\n",
    "df_test.to_excel(enter_gu+\".xlsx\")"
   ]
  },
  {
   "cell_type": "code",
   "execution_count": null,
   "metadata": {},
   "outputs": [],
   "source": [
    "#test 불러오기\n",
    "#read_Test = pd.read_excel(\"test.xlsx\")"
   ]
  }
 ],
 "metadata": {
  "kernelspec": {
   "display_name": "Python 3",
   "language": "python",
   "name": "python3"
  },
  "language_info": {
   "codemirror_mode": {
    "name": "ipython",
    "version": 3
   },
   "file_extension": ".py",
   "mimetype": "text/x-python",
   "name": "python",
   "nbconvert_exporter": "python",
   "pygments_lexer": "ipython3",
   "version": "3.7.4"
  }
 },
 "nbformat": 4,
 "nbformat_minor": 2
}
