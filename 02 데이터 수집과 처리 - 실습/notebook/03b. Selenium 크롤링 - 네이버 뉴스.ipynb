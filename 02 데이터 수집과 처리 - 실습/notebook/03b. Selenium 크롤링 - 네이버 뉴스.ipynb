{
 "cells": [
  {
   "cell_type": "markdown",
   "metadata": {},
   "source": [
    "## Selenium 사용 동적 크롤링 - 네이버 뉴스"
   ]
  },
  {
   "cell_type": "code",
   "execution_count": 1,
   "metadata": {},
   "outputs": [
    {
     "name": "stdout",
     "output_type": "stream",
     "text": [
      "Requirement already satisfied: selenium in c:\\anaconda3\\lib\\site-packages (3.141.0)\n",
      "Requirement already satisfied: urllib3 in c:\\anaconda3\\lib\\site-packages (from selenium) (1.24.2)\n"
     ]
    }
   ],
   "source": [
    "# Selenium 설치.\n",
    "!pip install selenium"
   ]
  },
  {
   "cell_type": "code",
   "execution_count": 2,
   "metadata": {},
   "outputs": [],
   "source": [
    "from selenium import webdriver\n",
    "import bs4\n",
    "import re\n",
    "import os  #이부분 새로 작성    #cromedriver.exe새로 깔았음"
   ]
  },
  {
   "cell_type": "code",
   "execution_count": 3,
   "metadata": {},
   "outputs": [],
   "source": [
    "os.chdir(r\"C:\\Users\\Gram\\Desktop\\myPyCode\\02  데이터 수집과 처리 - 실습\") "
   ]
  },
  {
   "cell_type": "markdown",
   "metadata": {},
   "source": [
    "### 1. 사이트에 들어가서 탐색해 본다:"
   ]
  },
  {
   "cell_type": "markdown",
   "metadata": {},
   "source": [
    "1. 먼저 다음 사이트에 들어가서 살펴본다:  [네이버 뉴스](https://news.naver.com)\n",
    "2. 크롬에서 3점 메뉴 버튼을 누르고 **도구 더보기** ==> **개발자 도구**를 선택해서 개발자 도구를 연다.\n",
    "3. 개발자 도구 왼쪽 상단의 화살표 버튼을 눌러서 사이트 일부를 서택하고 해당 HTML코드를 볼 수 있다. \"[CTRL] + [SHIFT] + C\" 조합으로 대체할 수 있다."
   ]
  },
  {
   "cell_type": "markdown",
   "metadata": {},
   "source": [
    "### 2. 이제는 Selenium을 사용해서 내용을 가져와 본다:"
   ]
  },
  {
   "cell_type": "code",
   "execution_count": 4,
   "metadata": {},
   "outputs": [],
   "source": [
    "# 웹드라이버 로딩.\n",
    "my_driver = webdriver.Chrome('chromedriver.exe') "
   ]
  },
  {
   "cell_type": "code",
   "execution_count": 5,
   "metadata": {},
   "outputs": [],
   "source": [
    "# 사이트에 접속.\n",
    "my_driver.get(\"https://news.naver.com\")"
   ]
  },
  {
   "cell_type": "code",
   "execution_count": 6,
   "metadata": {},
   "outputs": [
    {
     "name": "stdout",
     "output_type": "stream",
     "text": [
      "안철수 \"보수통합 관심없다, 출마 안해\"…제3의 길 공식화\n",
      "'실종 사흘째' 안나푸르나 헬기 띄워 수색…\"관련 흔적 못찾아\"(종합)\n",
      "세입자 궁지로 모는 규제…전셋값 자극할듯\n",
      "돌아온 安 \"중도실용정당 창당…보수통합 관심없다\"\n",
      "'깃발만 꽂으면 당선' 한국당 TK 첫 불출마 선언한 정종섭\n"
     ]
    }
   ],
   "source": [
    "# CSS 셀렉터를 사용하여 헤드라인 타이틀 가져오기. \n",
    "res = my_driver.find_elements_by_css_selector('div.hdline_article_tit')\n",
    "for x in res:\n",
    "    print(x.text.strip())"
   ]
  },
  {
   "cell_type": "markdown",
   "metadata": {},
   "source": [
    "### 3. Parsing 부분은 BeautifulSoup로 처리하면 간편하다: Selenium은 iframe경우만 쓰자"
   ]
  },
  {
   "cell_type": "code",
   "execution_count": 7,
   "metadata": {},
   "outputs": [],
   "source": [
    "my_html = my_driver.page_source                      # 사이트 내용을 가져와서 BeautifulSoup로 처리\n",
    "soup = bs4.BeautifulSoup(my_html, 'html.parser')     # BeautifulSoup 객체 반환. 'html.parser' 사용."
   ]
  },
  {
   "cell_type": "markdown",
   "metadata": {},
   "source": [
    "링크 타이틀 중에서 볼드 처리 뉴스 타이틀과 하이퍼링크 가져오기:"
   ]
  },
  {
   "cell_type": "code",
   "execution_count": 8,
   "metadata": {},
   "outputs": [
    {
     "name": "stdout",
     "output_type": "stream",
     "text": [
      "1 : [카톡방담] 대통령, 사회 실력 뽐냈지만 북한... => /main/list.nhn?mode=LPOD&mid=sec&oid=469&listType=paper&date=20200119\n",
      "2 : 이동섭 \"손학규, 물러나지 않으면 신당 창당 할 수 밖에 없어\" => https://news.naver.com/main/read.nhn?mode=LSD&mid=shm&sid1=100&oid=421&aid=0004416273\n",
      "3 : 정부, 호르무즈 해협 ‘독자적 파병’으로 가닥 => https://news.naver.com/main/read.nhn?mode=LSD&mid=shm&sid1=100&oid=028&aid=0002482170\n",
      "4 : ‘미국통’ 리용호 경질, 강경파 리선권 외무상에…김정은 속내는? => https://news.naver.com/main/read.nhn?mode=LSD&mid=shm&sid1=100&oid=020&aid=0003265102\n",
      "5 : [TF현장] \"사랑해요 안철수!\"…安 \"더욱 간절해졌다\" => https://news.naver.com/main/read.nhn?mode=LSD&mid=shm&sid1=100&oid=629&aid=0000011152\n",
      "6 : \"새정치\" 공항 가득 채운 각양각색 기대 …'큰절' 화답한 안철수 => https://news.naver.com/main/read.nhn?mode=LSD&mid=shm&sid1=100&oid=421&aid=0004416269\n",
      "7 : ‘혈혈단신’ 대한해협 건너 롯데그룹 일군 신격호 명예회장 별세 => https://news.naver.com/main/read.nhn?mode=LSD&mid=shm&sid1=101&oid=021&aid=0002414484\n",
      "8 : 네번째 국토부 2차관, 이번엔 다를까 => https://news.naver.com/main/read.nhn?mode=LSD&mid=shm&sid1=101&oid=014&aid=0004359810\n",
      "9 : [단독] 도로·철도 사업비 20% 강남3구에… SOC예산 먹고 큰 강남 => https://news.naver.com/main/read.nhn?mode=LSD&mid=shm&sid1=101&oid=081&aid=0003059669\n",
      "10 : 삼성, 이번주 임원인사… `뉴 삼성` 신호탄 쏜다 => https://news.naver.com/main/read.nhn?mode=LSD&mid=shm&sid1=101&oid=029&aid=0002582213\n",
      "11 : “당장 애 교육은 어쩌나” 우수학군 전세살이 날벼락 => https://news.naver.com/main/read.nhn?mode=LSD&mid=shm&sid1=101&oid=029&aid=0002582197\n",
      "12 : 여군들 “성전환 男부사관과 생활 못해” => https://news.naver.com/main/read.nhn?mode=LSD&mid=shm&sid1=102&oid=022&aid=0003431588\n",
      "13 : 실종 3일째…혼선 빚는 충남교육청 => https://news.naver.com/main/read.nhn?mode=LSD&mid=shm&sid1=102&oid=469&aid=0000458933\n",
      "14 : 교육봉사 원점에서 재검토… 충남교육감 \"무사귀환 기원 국민께 감사\" => https://news.naver.com/main/read.nhn?mode=LSD&mid=shm&sid1=102&oid=025&aid=0002968883\n",
      "15 : “대검 기획관·과장들 유임시켜 달라”… 윤석열 총장, 법무부에 특별 요청 => https://news.naver.com/main/read.nhn?mode=LSD&mid=shm&sid1=102&oid=081&aid=0003059674\n",
      "16 : 명절 앞두고…저온창고 화재로 700여 톤 농산물 피해 => https://news.naver.com/main/read.nhn?mode=LSD&mid=shm&sid1=102&oid=448&aid=0000290370\n",
      "17 : \"너만 믿는다, SUV\"… 올해도 SUV 대전 => https://news.naver.com/main/read.nhn?mode=LSD&mid=shm&sid1=103&oid=029&aid=0002582227\n",
      "18 : 잘 나가는 K팝, 거꾸로 가는 K아트 => https://news.naver.com/main/read.nhn?mode=LSD&mid=shm&sid1=103&oid=028&aid=0002482166\n",
      "19 : 한국GM도 `화합` 선택했는데… 르노삼성 2년째 임단협 `꼴찌` => https://news.naver.com/main/read.nhn?mode=LSD&mid=shm&sid1=103&oid=029&aid=0002582162\n",
      "20 : 물가 비싼 보라카이, 헤어 커트는 단돈 1700원 => https://news.naver.com/main/read.nhn?mode=LSD&mid=shm&sid1=103&oid=047&aid=0002253694\n",
      "21 : 얼쑤~ 우리가 ‘줄광대 아이돌’이다! => https://news.naver.com/main/read.nhn?mode=LSD&mid=shm&sid1=103&oid=028&aid=0002482156\n",
      "22 : '안나푸르나 실종' 아직 구조 소식 없어…현지 상황은? => https://news.naver.com/main/read.nhn?mode=LSD&mid=shm&sid1=104&oid=437&aid=0000229184\n",
      "23 : \"트럼프, 사드비용 100억弗 주장하며 미군철수 언급\" => https://news.naver.com/main/read.nhn?mode=LSD&mid=shm&sid1=104&oid=011&aid=0003682846\n",
      "24 : 한미 갈등 ‘봉합’ 국면… “美, 남북관계 개선 지지” => https://news.naver.com/main/read.nhn?mode=LSD&mid=shm&sid1=104&oid=469&aid=0000458921\n",
      "25 : 숨 못쉬는 지구촌…\"경유차 퇴출\" \"미세먼지稅 도입\" 목소리 => https://news.naver.com/main/read.nhn?mode=LSD&mid=shm&sid1=104&oid=009&aid=0004503009\n",
      "26 : 中 여성 자금성에 벤츠 몰고 ‘찰칵’…“자수하라” 분노 => https://news.naver.com/main/read.nhn?mode=LSD&mid=shm&sid1=104&oid=005&aid=0001279679\n",
      "27 : 자력 발사체·발사대 구축 `순조`… 무르익는 `스페이스 강국의 꿈` => https://news.naver.com/main/read.nhn?mode=LSD&mid=shm&sid1=105&oid=029&aid=0002582224\n",
      "28 : 갤S20·V60씽큐… 5G폰 10종 이상 나온다 => https://news.naver.com/main/read.nhn?mode=LSD&mid=shm&sid1=105&oid=029&aid=0002582219\n",
      "29 : KT 새노조 “구현모 CEO 내정자 정치자금법 위반 혐의 건 조속 처리” 진정 => https://news.naver.com/main/read.nhn?mode=LSD&mid=shm&sid1=105&oid=028&aid=0002482165\n",
      "30 : MS, 클라우드 시장서 역전할까? => https://news.naver.com/main/read.nhn?mode=LSD&mid=shm&sid1=105&oid=031&aid=0000522336\n",
      "31 : 페북·인스타 제친 네이버밴드…2030도 홀렸다 => https://news.naver.com/main/read.nhn?mode=LSD&mid=shm&sid1=105&oid=009&aid=0004503032\n",
      "32 : 자동자막생성 서비스(STT) 적용 => https://news.naver.com/main/ombudsman/readView.nhn?notiId=474\n",
      "33 : 악플탐지 AI '클린봇' 뉴스댓글로 확대 => https://news.naver.com/main/ombudsman/readView.nhn?notiId=469\n"
     ]
    }
   ],
   "source": [
    "res_a = soup.find_all('a', class_=re.compile('clicks'))      # \"clicks\" 패턴 있는 클래스.\n",
    "n_count = 0\n",
    "news = []\n",
    "for x in res_a:\n",
    "    res = x.find('strong')                                   # 다시 검색.\n",
    "    if res:                                                  # None이 아닌 경우만.\n",
    "        an_article = res.text\n",
    "        if (len(an_article) > 10):                           # 길이가 10 이상인 경우만.\n",
    "            n_count += 1\n",
    "            print(n_count, end = \" : \")\n",
    "            print(an_article, end = \" => \")\n",
    "            print(x.get('href'))\n",
    "            news += [(an_article, x.get(\"href\"))]"
   ]
  },
  {
   "cell_type": "code",
   "execution_count": null,
   "metadata": {},
   "outputs": [],
   "source": []
  }
 ],
 "metadata": {
  "kernelspec": {
   "display_name": "Python 3",
   "language": "python",
   "name": "python3"
  },
  "language_info": {
   "codemirror_mode": {
    "name": "ipython",
    "version": 3
   },
   "file_extension": ".py",
   "mimetype": "text/x-python",
   "name": "python",
   "nbconvert_exporter": "python",
   "pygments_lexer": "ipython3",
   "version": "3.7.4"
  }
 },
 "nbformat": 4,
 "nbformat_minor": 2
}
