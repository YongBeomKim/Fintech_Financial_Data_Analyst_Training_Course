{
 "cells": [
  {
   "cell_type": "markdown",
   "metadata": {},
   "source": [
    "## XML과 JASON 파일을 다루어 본다"
   ]
  },
  {
   "cell_type": "code",
   "execution_count": 1,
   "metadata": {},
   "outputs": [],
   "source": [
    "import bs4, json\n",
    "import os"
   ]
  },
  {
   "cell_type": "code",
   "execution_count": 2,
   "metadata": {},
   "outputs": [],
   "source": [
    "os.chdir(r\"C:\\Users\\Gram\\Desktop\\myPyCode\\02  데이터 수집과 처리 - 실습\\data\")"
   ]
  },
  {
   "cell_type": "markdown",
   "metadata": {},
   "source": [
    "### 1. XML 파일을 읽어서 parsing해 본다:"
   ]
  },
  {
   "cell_type": "code",
   "execution_count": 3,
   "metadata": {},
   "outputs": [],
   "source": [
    "f = open(\"local.xml\", \"r\", encoding=\"utf8\")\n",
    "my_xml = f.read()\n",
    "f.close()"
   ]
  },
  {
   "cell_type": "code",
   "execution_count": 4,
   "metadata": {},
   "outputs": [
    {
     "name": "stdout",
     "output_type": "stream",
     "text": [
      "Name: Belgian Waffles\n",
      "Price: $5.95\n",
      "Description: Two of our famous Belgian Waffles with plenty of real maple syrup\n",
      "Calories: 650\n",
      "\n",
      "Name: Strawberry Belgian Waffles\n",
      "Price: $7.95\n",
      "Description: Light Belgian waffles covered with strawberries and whipped cream\n",
      "Calories: 900\n",
      "\n",
      "Name: Berry-Berry Belgian Waffles\n",
      "Price: $8.95\n",
      "Description: Light Belgian waffles covered with an assortment of fresh berries and whipped cream\n",
      "Calories: 900\n",
      "\n",
      "Name: French Toast\n",
      "Price: $4.50\n",
      "Description: Thick slices made from our homemade sourdough bread\n",
      "Calories: 600\n",
      "\n",
      "Name: Homestyle Breakfast\n",
      "Price: $6.95\n",
      "Description: Two eggs, bacon or sausage, toast, and our ever-popular hash browns\n",
      "Calories: 950\n",
      "\n"
     ]
    }
   ],
   "source": [
    "soup = bs4.BeautifulSoup(my_xml, \"lxml\")          # XML 데이터 parsing 하기.\n",
    "res = soup.find_all(\"food\")\n",
    "for x in res:\n",
    "    print(\"Name: \" + x.find('name').text)                      # x.name.text 않됨!\n",
    "    print(\"Price: \" + x.find('price').text)\n",
    "    print(\"Description: \" + x.find('description').text.strip())\n",
    "    print(\"Calories: \" + x.find('calories').text)\n",
    "    print()"
   ]
  },
  {
   "cell_type": "markdown",
   "metadata": {},
   "source": [
    "### 2.1 JSON 파일을 읽어서 parsing해 본다:"
   ]
  },
  {
   "cell_type": "code",
   "execution_count": 5,
   "metadata": {},
   "outputs": [],
   "source": [
    "f = open(\"local.json\", \"r\", encoding=\"utf8\")\n",
    "my_json = f.read()\n",
    "f.close() "
   ]
  },
  {
   "cell_type": "code",
   "execution_count": 6,
   "metadata": {},
   "outputs": [
    {
     "name": "stdout",
     "output_type": "stream",
     "text": [
      "PrimaXL\n",
      "FineAnalytics/PrimaXL\n"
     ]
    }
   ],
   "source": [
    "my_json_data = json.loads(my_json)                 # JSON 데이터 parsing 하기. loads() 메서드 사용.\n",
    "print(my_json_data[0][\"name\"])                     # 딕셔너리 같이 사용할 수 있다.\n",
    "print(my_json_data[0][\"full_name\"])                # 딕셔너리 같이 사용할 수 있다."
   ]
  },
  {
   "cell_type": "code",
   "execution_count": 7,
   "metadata": {},
   "outputs": [
    {
     "name": "stdout",
     "output_type": "stream",
     "text": [
      "dict_keys(['id', 'node_id', 'name', 'full_name', 'private', 'owner', 'html_url', 'description', 'fork', 'url', 'forks_url', 'keys_url', 'collaborators_url', 'teams_url', 'hooks_url', 'issue_events_url', 'events_url', 'assignees_url', 'branches_url', 'tags_url', 'blobs_url', 'git_tags_url', 'git_refs_url', 'trees_url', 'statuses_url', 'languages_url', 'stargazers_url', 'contributors_url', 'subscribers_url', 'subscription_url', 'commits_url', 'git_commits_url', 'comments_url', 'issue_comment_url', 'contents_url', 'compare_url', 'merges_url', 'archive_url', 'downloads_url', 'issues_url', 'pulls_url', 'milestones_url', 'notifications_url', 'labels_url', 'releases_url', 'deployments_url', 'created_at', 'updated_at', 'pushed_at', 'git_url', 'ssh_url', 'clone_url', 'svn_url', 'homepage', 'size', 'stargazers_count', 'watchers_count', 'language', 'has_issues', 'has_projects', 'has_downloads', 'has_wiki', 'has_pages', 'forks_count', 'mirror_url', 'archived', 'open_issues_count', 'license', 'forks', 'open_issues', 'watchers', 'default_branch'])\n"
     ]
    }
   ],
   "source": [
    "print(my_json_data[0].keys())"
   ]
  },
  {
   "cell_type": "markdown",
   "metadata": {},
   "source": [
    "### 2.2 JSON 파일을 만들고 변경 및 저장해 본다:"
   ]
  },
  {
   "cell_type": "code",
   "execution_count": 8,
   "metadata": {},
   "outputs": [],
   "source": [
    "# 먼저 JSON 파일 만들기.\n",
    "f = open(\"my_data.json\", \"w\")\n",
    "my_data = '[{\"Name\":\"John\", \"Age\":32, \"Height\":175, \"Weight\":73}, {\"Name\":\"Paul\", \"Age\":22, \"Height\":170, \"Weight\":63},{\"Name\":\"Norman\", \"Age\":26, \"Height\":180, \"Weight\":81}]'\n",
    "f.write(my_data)    \n",
    "f.close()"
   ]
  },
  {
   "cell_type": "code",
   "execution_count": 9,
   "metadata": {},
   "outputs": [],
   "source": [
    "# 불러오기.\n",
    "f = open(\"my_data.json\", \"r\", encoding=\"utf8\")\n",
    "my_json = f.read()\n",
    "f.close() \n",
    "my_json_data = json.loads(my_json)"
   ]
  },
  {
   "cell_type": "code",
   "execution_count": 10,
   "metadata": {},
   "outputs": [
    {
     "name": "stdout",
     "output_type": "stream",
     "text": [
      "Name: John\n",
      "Age: 32\n",
      "Height: 175\n",
      "Weight: 73\n",
      "\n",
      "Name: Paul\n",
      "Age: 22\n",
      "Height: 170\n",
      "Weight: 63\n",
      "\n",
      "Name: Norman\n",
      "Age: 26\n",
      "Height: 180\n",
      "Weight: 81\n",
      "\n"
     ]
    }
   ],
   "source": [
    "for x in my_json_data:\n",
    "    print(\"Name: \" + x['Name'])\n",
    "    print(\"Age: \" + str(x['Age']))\n",
    "    print(\"Height: \" + str(x['Height']))\n",
    "    print(\"Weight: \" + str(x['Weight']))\n",
    "    print()"
   ]
  },
  {
   "cell_type": "code",
   "execution_count": 11,
   "metadata": {},
   "outputs": [],
   "source": [
    "# 변경.\n",
    "my_json_data[0]['Age'] = 19\n",
    "my_json_data[1]['Weight'] = 79\n",
    "my_json_data[2]['Name'] = 'Greg'"
   ]
  },
  {
   "cell_type": "code",
   "execution_count": 12,
   "metadata": {},
   "outputs": [],
   "source": [
    "# 변경 저장.\n",
    "f = open(\"my_data.json\", \"w\")\n",
    "json.dump(my_json_data,f)\n",
    "f.close()"
   ]
  },
  {
   "cell_type": "code",
   "execution_count": 13,
   "metadata": {},
   "outputs": [
    {
     "name": "stdout",
     "output_type": "stream",
     "text": [
      "Name: John\n",
      "Age: 19\n",
      "Height: 175\n",
      "Weight: 73\n",
      "\n",
      "Name: Paul\n",
      "Age: 22\n",
      "Height: 170\n",
      "Weight: 79\n",
      "\n",
      "Name: Greg\n",
      "Age: 26\n",
      "Height: 180\n",
      "Weight: 81\n",
      "\n"
     ]
    }
   ],
   "source": [
    "# 다시 불러와서 변경 확인.\n",
    "f = open(\"my_data.json\", \"r\", encoding=\"utf8\")\n",
    "my_json = f.read()\n",
    "f.close() \n",
    "my_json_data = json.loads(my_json)\n",
    "for x in my_json_data:\n",
    "    print(\"Name: \" + x['Name'])\n",
    "    print(\"Age: \" + str(x['Age']))\n",
    "    print(\"Height: \" + str(x['Height']))\n",
    "    print(\"Weight: \" + str(x['Weight']))\n",
    "    print()"
   ]
  },
  {
   "cell_type": "code",
   "execution_count": null,
   "metadata": {},
   "outputs": [],
   "source": []
  }
 ],
 "metadata": {
  "kernelspec": {
   "display_name": "Python 3",
   "language": "python",
   "name": "python3"
  },
  "language_info": {
   "codemirror_mode": {
    "name": "ipython",
    "version": 3
   },
   "file_extension": ".py",
   "mimetype": "text/x-python",
   "name": "python",
   "nbconvert_exporter": "python",
   "pygments_lexer": "ipython3",
   "version": "3.7.4"
  }
 },
 "nbformat": 4,
 "nbformat_minor": 2
}
