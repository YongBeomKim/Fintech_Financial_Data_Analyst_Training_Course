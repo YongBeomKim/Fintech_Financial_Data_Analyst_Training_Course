{
 "cells": [
  {
   "cell_type": "markdown",
   "metadata": {},
   "source": [
    "## 한글 사용:"
   ]
  },
  {
   "cell_type": "markdown",
   "metadata": {},
   "source": [
    "파이썬에서 한글 사용하기 위한 절차: <br>\n",
    "\n",
    "1. Java SDK 다운로드 페이지에서 JDK를 다운로드 한다.\n",
    "2. jdk 폴더를 환경 변수로 설정해야 한다 (JAVA_HOME).\n",
    "3. KoNLPy 패키지 설치.\n",
    "4. Jype1 패키지 설치."
   ]
  },
  {
   "cell_type": "code",
   "execution_count": 1,
   "metadata": {},
   "outputs": [],
   "source": [
    "import konlpy"
   ]
  },
  {
   "cell_type": "markdown",
   "metadata": {},
   "source": [
    "KoNLPy 패키지는 꼬꼬마, 한나눔, 트위터 분석기를 제공한다. 서로 약간의 차이점이 있으니 다음과 같이 비교해 본다. "
   ]
  },
  {
   "cell_type": "markdown",
   "metadata": {},
   "source": [
    "#### 꼬꼬마 분석기:"
   ]
  },
  {
   "cell_type": "code",
   "execution_count": 2,
   "metadata": {},
   "outputs": [],
   "source": [
    "# 꼬꼬마 분석기 객체를 가져와서 분석 준비를 한다. 대문자 주의!!!\n",
    "kkma = konlpy.tag.Kkma()"
   ]
  },
  {
   "cell_type": "code",
   "execution_count": 3,
   "metadata": {},
   "outputs": [],
   "source": [
    "my_text = \"한국어를 사용해 봅시다 너무 재미있어요 함께 분석해 볼까요?\""
   ]
  },
  {
   "cell_type": "code",
   "execution_count": 4,
   "metadata": {},
   "outputs": [
    {
     "data": {
      "text/plain": [
       "['한국어를 사용해 봅시다', '너무 재미있어요', '함께 분석해 볼까요?']"
      ]
     },
     "execution_count": 4,
     "metadata": {},
     "output_type": "execute_result"
    }
   ],
   "source": [
    "# 문장으로 분리.\n",
    "kkma.sentences(my_text)"
   ]
  },
  {
   "cell_type": "code",
   "execution_count": 5,
   "metadata": {},
   "outputs": [
    {
     "data": {
      "text/plain": [
       "['한국어', '분석']"
      ]
     },
     "execution_count": 5,
     "metadata": {},
     "output_type": "execute_result"
    }
   ],
   "source": [
    "# 명사 추출.\n",
    "kkma.nouns(my_text)"
   ]
  },
  {
   "cell_type": "code",
   "execution_count": 6,
   "metadata": {},
   "outputs": [
    {
     "name": "stdout",
     "output_type": "stream",
     "text": [
      "['한국어', '를', '사용하', '어', '보', 'ㅂ시다', '너무', '재미있', '어요', '함께', '분석', '하', '어', '보', 'ㄹ까요', '?']\n"
     ]
    }
   ],
   "source": [
    "# 형태소.\n",
    "print(kkma.morphs(my_text))"
   ]
  },
  {
   "cell_type": "code",
   "execution_count": 7,
   "metadata": {},
   "outputs": [
    {
     "name": "stdout",
     "output_type": "stream",
     "text": [
      "[('한국어', 'NNG'), ('를', 'JKO'), ('사용하', 'VV'), ('어', 'ECS'), ('보', 'VV'), ('ㅂ시다', 'EFA'), ('너무', 'MAG'), ('재미있', 'VA'), ('어요', 'EFN'), ('함께', 'MAG'), ('분석', 'NNG'), ('하', 'XSV'), ('어', 'ECS'), ('보', 'VXV'), ('ㄹ까요', 'EFQ'), ('?', 'SF')]\n"
     ]
    }
   ],
   "source": [
    "# 품사 태깅.\n",
    "print(kkma.pos(my_text))"
   ]
  },
  {
   "cell_type": "markdown",
   "metadata": {},
   "source": [
    "#### 한나눔 분석기:"
   ]
  },
  {
   "cell_type": "code",
   "execution_count": 8,
   "metadata": {},
   "outputs": [],
   "source": [
    "# 한나눔 분석기 객체를 가져와서 분석 준비를 한다. 대문자 주의!\n",
    "hannanum = konlpy.tag.Hannanum()"
   ]
  },
  {
   "cell_type": "code",
   "execution_count": 9,
   "metadata": {},
   "outputs": [
    {
     "data": {
      "text/plain": [
       "['한국어', '사용', '분석']"
      ]
     },
     "execution_count": 9,
     "metadata": {},
     "output_type": "execute_result"
    }
   ],
   "source": [
    "# 명사 추출.\n",
    "hannanum.nouns(my_text)"
   ]
  },
  {
   "cell_type": "code",
   "execution_count": 10,
   "metadata": {},
   "outputs": [
    {
     "name": "stdout",
     "output_type": "stream",
     "text": [
      "['한국어', '를', '사용', '하', '어', '보', 'ㅂ시다', '너무', '재미있', '어', '요', '함께', '분석', '하', '어', '보', 'ㄹ까', '요', '?']\n"
     ]
    }
   ],
   "source": [
    "# 형태소.\n",
    "print(hannanum.morphs(my_text))"
   ]
  },
  {
   "cell_type": "code",
   "execution_count": 11,
   "metadata": {},
   "outputs": [
    {
     "name": "stdout",
     "output_type": "stream",
     "text": [
      "[('한국어', 'N'), ('를', 'J'), ('사용', 'N'), ('하', 'X'), ('어', 'E'), ('보', 'P'), ('ㅂ시다', 'E'), ('너무', 'M'), ('재미있', 'P'), ('어', 'E'), ('요', 'J'), ('함께', 'M'), ('분석', 'N'), ('하', 'X'), ('어', 'E'), ('보', 'P'), ('ㄹ까', 'E'), ('요', 'J'), ('?', 'S')]\n"
     ]
    }
   ],
   "source": [
    "# 품사 태깅.\n",
    "print(hannanum.pos(my_text))"
   ]
  },
  {
   "cell_type": "markdown",
   "metadata": {},
   "source": [
    "#### 트위터 분석기:"
   ]
  },
  {
   "cell_type": "code",
   "execution_count": 12,
   "metadata": {},
   "outputs": [],
   "source": [
    "# 트위터 분석기 객체를 가져와서 분석 준비를 한다. 대문자 주의!\n",
    "okt = konlpy.tag.Okt()"
   ]
  },
  {
   "cell_type": "code",
   "execution_count": 13,
   "metadata": {},
   "outputs": [
    {
     "data": {
      "text/plain": [
       "['한국어', '사용', '분석', '요']"
      ]
     },
     "execution_count": 13,
     "metadata": {},
     "output_type": "execute_result"
    }
   ],
   "source": [
    "# 명사 추출.\n",
    "okt.nouns(my_text)"
   ]
  },
  {
   "cell_type": "code",
   "execution_count": 14,
   "metadata": {},
   "outputs": [
    {
     "name": "stdout",
     "output_type": "stream",
     "text": [
      "['한국어', '를', '사용', '해', '봅시다', '너무', '재미있어요', '함께', '분석', '해', '볼까', '요', '?']\n"
     ]
    }
   ],
   "source": [
    "# 형태소.\n",
    "print(okt.morphs(my_text))"
   ]
  },
  {
   "cell_type": "code",
   "execution_count": 15,
   "metadata": {},
   "outputs": [
    {
     "name": "stdout",
     "output_type": "stream",
     "text": [
      "[('한국어', 'Noun'), ('를', 'Josa'), ('사용', 'Noun'), ('해', 'Verb'), ('봅시다', 'Verb'), ('너무', 'Adverb'), ('재미있어요', 'Adjective'), ('함께', 'Adverb'), ('분석', 'Noun'), ('해', 'Verb'), ('볼까', 'Verb'), ('요', 'Noun'), ('?', 'Punctuation')]\n"
     ]
    }
   ],
   "source": [
    "# 품사 태깅.\n",
    "print(okt.pos(my_text))"
   ]
  },
  {
   "cell_type": "code",
   "execution_count": null,
   "metadata": {},
   "outputs": [],
   "source": []
  }
 ],
 "metadata": {
  "kernelspec": {
   "display_name": "Python 3",
   "language": "python",
   "name": "python3"
  },
  "language_info": {
   "codemirror_mode": {
    "name": "ipython",
    "version": 3
   },
   "file_extension": ".py",
   "mimetype": "text/x-python",
   "name": "python",
   "nbconvert_exporter": "python",
   "pygments_lexer": "ipython3",
   "version": "3.7.4"
  }
 },
 "nbformat": 4,
 "nbformat_minor": 2
}
