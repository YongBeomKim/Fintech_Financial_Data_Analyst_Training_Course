{
 "cells": [
  {
   "cell_type": "markdown",
   "metadata": {},
   "source": [
    "## 워드클라우드"
   ]
  },
  {
   "cell_type": "markdown",
   "metadata": {},
   "source": [
    "#### 필요한 패키지 불러오기:"
   ]
  },
  {
   "cell_type": "code",
   "execution_count": 1,
   "metadata": {},
   "outputs": [
    {
     "name": "stdout",
     "output_type": "stream",
     "text": [
      "Requirement already satisfied: wordcloud in c:\\anaconda3\\lib\\site-packages (1.6.0)\n",
      "Requirement already satisfied: matplotlib in c:\\anaconda3\\lib\\site-packages (from wordcloud) (3.1.1)\n",
      "Requirement already satisfied: numpy>=1.6.1 in c:\\anaconda3\\lib\\site-packages (from wordcloud) (1.16.5)\n",
      "Requirement already satisfied: pillow in c:\\anaconda3\\lib\\site-packages (from wordcloud) (6.2.0)\n",
      "Requirement already satisfied: cycler>=0.10 in c:\\anaconda3\\lib\\site-packages (from matplotlib->wordcloud) (0.10.0)\n",
      "Requirement already satisfied: kiwisolver>=1.0.1 in c:\\anaconda3\\lib\\site-packages (from matplotlib->wordcloud) (1.1.0)\n",
      "Requirement already satisfied: pyparsing!=2.0.4,!=2.1.2,!=2.1.6,>=2.0.1 in c:\\anaconda3\\lib\\site-packages (from matplotlib->wordcloud) (2.4.2)\n",
      "Requirement already satisfied: python-dateutil>=2.1 in c:\\anaconda3\\lib\\site-packages (from matplotlib->wordcloud) (2.8.0)\n",
      "Requirement already satisfied: six in c:\\users\\gram\\appdata\\roaming\\python\\python37\\site-packages (from cycler>=0.10->matplotlib->wordcloud) (1.12.0)\n",
      "Requirement already satisfied: setuptools in c:\\anaconda3\\lib\\site-packages (from kiwisolver>=1.0.1->matplotlib->wordcloud) (41.4.0)\n"
     ]
    }
   ],
   "source": [
    "#처음엔 설치 필요!\n",
    "!pip install wordcloud\n",
    "from wordcloud import WordCloud\n",
    "import konlpy\n",
    "import numpy as np\n",
    "import pandas as pd\n",
    "import re, os\n",
    "import matplotlib.pyplot as plt\n",
    "from PIL import Image                         # Pillow 패키지의 영상 핸들링 클래스.\n",
    "%matplotlib inline"
   ]
  },
  {
   "cell_type": "markdown",
   "metadata": {},
   "source": [
    "#### 데이터 읽어오기:"
   ]
  },
  {
   "cell_type": "code",
   "execution_count": 2,
   "metadata": {},
   "outputs": [],
   "source": [
    "os.chdir(r\"C:\\Users\\Gram\\Desktop\\myPyCode\\02 데이터 수집과 처리 - 실습\\data\")\n",
    "f = open(\"./example_seoul_government.txt\",'r')\n",
    "my_text = f.readlines()\n",
    "f.close()"
   ]
  },
  {
   "cell_type": "code",
   "execution_count": 3,
   "metadata": {},
   "outputs": [
    {
     "data": {
      "text/plain": [
       "['305 무료법률상담에 대한 부탁의 말씀 입니다. 2014-09-27 2 \\n',\n",
       " '304 [교통불편접수] 6715 버스(신월동->상암동) 2014-09-26 2 \\n',\n",
       " '303 경기도 시흥시 아파트 화재~ 2014-09-22 145 \\n',\n",
       " '302 마곡지구 하자보수 관련 2014-09-22 57 \\n',\n",
       " '301 가깝고도 먼 강남(성수동에서 압구정역 방면) 2014-09-22 83 \\n',\n",
       " '300 청담나들목(제외지측)입구 주변지역안내도 정비 필요 2014-09-22 20 \\n',\n",
       " '299 전 제주도 시민입니다만.. 2014-09-16 2 \\n',\n",
       " '298 지방자치제 실시로 소요되는 비용 2014-09-16 0 \\n',\n",
       " '297 평생 살던 삶의 터전인 주택을 빼앗기게 생겼습니다ㅠ 2014-09-15 5 \\n',\n",
       " '296 불법확장노점상 이전 및 원상복구 시장님께 강력 요청 2014-09-15 1 \\n']"
      ]
     },
     "execution_count": 3,
     "metadata": {},
     "output_type": "execute_result"
    }
   ],
   "source": [
    "# 몇개만 출력해 본다.\n",
    "my_text[:10]"
   ]
  },
  {
   "cell_type": "markdown",
   "metadata": {},
   "source": [
    "#### 전처리:"
   ]
  },
  {
   "cell_type": "code",
   "execution_count": 4,
   "metadata": {},
   "outputs": [],
   "source": [
    "no_meaning = \"관련|요청|개선|건의|시장|민원|이용\"\n",
    "no_meaning += \"|관리|문제|불편|설치|불법|제안|필요\"\n",
    "no_meaning += \"|정책|언제|대책|서울시|서울|박원순|요망|부탁|주세요\"\n",
    "my_text_clean = []\n",
    "for a_line in my_text:\n",
    "    a_line = re.sub('\\d+',' ', a_line)           # 수치 스페이스로 대체.\n",
    "    a_line = re.sub('[-!?()>~.,]',' ',a_line)    # 특수문자 스페이스로 대체.\n",
    "    a_line = re.sub('\\n',' ',a_line)             # line return 스페이스로 대체.\n",
    "    a_line = re.sub('[\\[\\]]', ' ',a_line)        # 대괄호 스페이스로 대체.\n",
    "    a_line = re.sub('[a-zA-Z]',' ',a_line)       # 영문 스페이스로 대체.\n",
    "    a_line = re.sub('ㅜ|ㅠ', ' ', a_line)        # 단모음 스페이스로 대체.\n",
    "    a_line = re.sub(no_meaning, ' ', a_line)     # 특별한 의미 없는 단어 스페이스로 대체.\n",
    "    a_line = re.sub('\\s+', ' ', a_line)          # 잉여 스페이즈 줄임.\n",
    "    my_text_clean += [a_line]"
   ]
  },
  {
   "cell_type": "code",
   "execution_count": 5,
   "metadata": {},
   "outputs": [
    {
     "data": {
      "text/plain": [
       "[' 무료법률상담에 대한 의 말씀 입니다 ',\n",
       " ' 교통 접수 버스 신월동 상암동 ',\n",
       " ' 경기도 시흥시 아파트 화재 ',\n",
       " ' 마곡지구 하자보수 ',\n",
       " ' 가깝고도 먼 강남 성수동에서 압구정역 방면 ',\n",
       " ' 청담나들목 제외지측 입구 주변지역안내도 정비 ',\n",
       " ' 전 제주도 시민입니다만 ',\n",
       " ' 지방자치제 실시로 소요되는 비용 ',\n",
       " ' 평생 살던 삶의 터전인 주택을 빼앗기게 생겼습니다 ',\n",
       " ' 확장노점상 이전 및 원상복구 님께 강력 ']"
      ]
     },
     "execution_count": 5,
     "metadata": {},
     "output_type": "execute_result"
    }
   ],
   "source": [
    "# 몇개만 출력해 본다.\n",
    "my_text_clean[:10]"
   ]
  },
  {
   "cell_type": "markdown",
   "metadata": {},
   "source": [
    "#### 한글 단어(명사) 추출:"
   ]
  },
  {
   "cell_type": "code",
   "execution_count": null,
   "metadata": {},
   "outputs": [],
   "source": [
    "hannanum = konlpy.tag.Hannanum()"
   ]
  },
  {
   "cell_type": "code",
   "execution_count": null,
   "metadata": {},
   "outputs": [],
   "source": [
    "# 명사 추출.\n",
    "my_words = []\n",
    "for a_line in my_text_clean:\n",
    "    my_words += hannanum.nouns(a_line)"
   ]
  },
  {
   "cell_type": "code",
   "execution_count": null,
   "metadata": {},
   "outputs": [],
   "source": [
    "# 단음절 제거.\n",
    "my_words_2 = []\n",
    "for a_word in my_words:\n",
    "    if len(a_word) > 1:\n",
    "        my_words_2 += [a_word]"
   ]
  },
  {
   "cell_type": "markdown",
   "metadata": {},
   "source": [
    "#### 키워드 추출 (Option):"
   ]
  },
  {
   "cell_type": "code",
   "execution_count": null,
   "metadata": {},
   "outputs": [],
   "source": [
    "# Series 로 변환.\n",
    "my_series = pd.Series(my_words_2)"
   ]
  },
  {
   "cell_type": "code",
   "execution_count": null,
   "metadata": {},
   "outputs": [],
   "source": [
    "# 도수 분포표. Top 20\n",
    "my_word_counts = my_series.value_counts().sort_values(ascending=False)\n",
    "my_word_counts[:20]"
   ]
  },
  {
   "cell_type": "markdown",
   "metadata": {},
   "source": [
    "#### 워드 클라우드 기본형 생성:"
   ]
  },
  {
   "cell_type": "code",
   "execution_count": null,
   "metadata": {},
   "outputs": [],
   "source": [
    "# 다음은 워드클라우드의 요구사항.\n",
    "a_long_sentence = ' '.join(my_words_2)"
   ]
  },
  {
   "cell_type": "code",
   "execution_count": null,
   "metadata": {},
   "outputs": [],
   "source": [
    "wc = WordCloud(font_path=\"c:/Windows/Fonts/malgun.ttf\", background_color='white', max_words=30)     \n",
    "# 바탕색, 단어 개수 등 설정.\n",
    "wc.generate(a_long_sentence)\n",
    "wc.words_"
   ]
  },
  {
   "cell_type": "code",
   "execution_count": null,
   "metadata": {},
   "outputs": [],
   "source": [
    "plt.figure(figsize=(10,10))\n",
    "plt.imshow(wc, interpolation='bilinear')\n",
    "plt.axis(\"off\")                                    # 축을 꺼줌.\n",
    "plt.show()"
   ]
  },
  {
   "cell_type": "markdown",
   "metadata": {},
   "source": [
    "#### 워드 클라우드 매스크 사용형 생성:"
   ]
  },
  {
   "cell_type": "code",
   "execution_count": null,
   "metadata": {},
   "outputs": [],
   "source": [
    "# 백그라운드 마스크\n",
    "#img = Image.open('background_1.png')                    # 타원형.\n",
    "#img = Image.open('background_2.png')                    # 말풍선.\n",
    "img = Image.open('background_3.png')                     # 하트.\n",
    "back_mask = np.array(img)"
   ]
  },
  {
   "cell_type": "code",
   "execution_count": null,
   "metadata": {},
   "outputs": [],
   "source": [
    "wc = WordCloud(font_path=\"c:/Windows/Fonts/malgun.ttf\",background_color='white', max_words=30, mask=back_mask) \n",
    "# 바탕색, 단어 개수 등 설정\n",
    "wc.generate(a_long_sentence) "
   ]
  },
  {
   "cell_type": "code",
   "execution_count": null,
   "metadata": {},
   "outputs": [],
   "source": [
    "plt.figure(figsize=(10,10))\n",
    "plt.imshow(wc, interpolation='bilinear')\n",
    "plt.axis(\"off\")                          # 축을 꺼줌.\n",
    "plt.show()"
   ]
  },
  {
   "cell_type": "code",
   "execution_count": null,
   "metadata": {},
   "outputs": [],
   "source": []
  }
 ],
 "metadata": {
  "kernelspec": {
   "display_name": "Python 3",
   "language": "python",
   "name": "python3"
  },
  "language_info": {
   "codemirror_mode": {
    "name": "ipython",
    "version": 3
   },
   "file_extension": ".py",
   "mimetype": "text/x-python",
   "name": "python",
   "nbconvert_exporter": "python",
   "pygments_lexer": "ipython3",
   "version": "3.7.4"
  }
 },
 "nbformat": 4,
 "nbformat_minor": 2
}
