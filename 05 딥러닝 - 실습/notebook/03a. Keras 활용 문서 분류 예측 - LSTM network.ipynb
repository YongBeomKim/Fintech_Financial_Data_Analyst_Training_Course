{
 "cells": [
  {
   "cell_type": "markdown",
   "metadata": {},
   "source": [
    "### 1. Document classification with LSTM network: LSTM 신경망으로 문서 분류 예측"
   ]
  },
  {
   "cell_type": "code",
   "execution_count": 1,
   "metadata": {},
   "outputs": [],
   "source": [
    "import pandas as pd\n",
    "import numpy as np\n",
    "import warnings    \n",
    "import matplotlib.pyplot as plt\n",
    "from sklearn.model_selection import train_test_split\n",
    "from tensorflow.keras.datasets.reuters import load_data, get_word_index       # Reuters news data. \n",
    "from tensorflow.keras.models import Sequential\n",
    "from tensorflow.keras.layers import Dense, SimpleRNN, LSTM, Embedding\n",
    "from tensorflow.keras.utils import to_categorical\n",
    "from tensorflow.keras.preprocessing import sequence\n",
    "from tensorflow.keras.optimizers import Adam, RMSprop, SGD\n",
    "warnings.filterwarnings('ignore')                  # Turn the warnings off.\n",
    "%matplotlib inline"
   ]
  },
  {
   "cell_type": "markdown",
   "metadata": {},
   "source": [
    "#### 1.1. Read in the data:"
   ]
  },
  {
   "cell_type": "code",
   "execution_count": 2,
   "metadata": {},
   "outputs": [],
   "source": [
    "n_words = 1000                                        # Size of the vocabulary.\n",
    "(X_train, y_train), (X_test, y_test) = load_data(num_words = n_words, test_split = 0.3)\n",
    "n_train_size = X_train.shape[0]"
   ]
  },
  {
   "cell_type": "code",
   "execution_count": 3,
   "metadata": {},
   "outputs": [
    {
     "name": "stdout",
     "output_type": "stream",
     "text": [
      "--------------------------------------------------\n",
      "Training data X shape: (7859,)\n",
      "Training data y shape: (7859,)\n",
      "--------------------------------------------------\n",
      "Test data X shape: (3369,)\n",
      "Test data y shape: (3369,)\n",
      "--------------------------------------------------\n"
     ]
    }
   ],
   "source": [
    "# Check for the shapes.\n",
    "print(\"-\"*50)\n",
    "print(\"Training data X shape: {}\".format(X_train.shape))\n",
    "print(\"Training data y shape: {}\".format(y_train.shape))\n",
    "print(\"-\"*50)\n",
    "print(\"Test data X shape: {}\".format(X_test.shape))\n",
    "print(\"Test data y shape: {}\".format(y_test.shape))\n",
    "print(\"-\"*50)"
   ]
  },
  {
   "cell_type": "markdown",
   "metadata": {},
   "source": [
    "#### 1.2. Explore the data:"
   ]
  },
  {
   "cell_type": "code",
   "execution_count": 4,
   "metadata": {},
   "outputs": [
    {
     "data": {
      "text/plain": [
       "46"
      ]
     },
     "execution_count": 4,
     "metadata": {},
     "output_type": "execute_result"
    }
   ],
   "source": [
    "# Number of unique values of y = Number of categories of the newswires.\n",
    "n_cat = pd.Series(y_train).nunique()\n",
    "n_cat"
   ]
  },
  {
   "cell_type": "code",
   "execution_count": 5,
   "metadata": {},
   "outputs": [
    {
     "name": "stdout",
     "output_type": "stream",
     "text": [
      "[1, 2, 2, 8, 43, 10, 447, 5, 25, 207, 270, 5, 2, 111, 16, 369, 186, 90, 67, 7, 89, 5, 19, 102, 6, 19, 124, 15, 90, 67, 84, 22, 482, 26, 7, 48, 4, 49, 8, 864, 39, 209, 154, 6, 151, 6, 83, 11, 15, 22, 155, 11, 15, 7, 48, 9, 2, 2, 504, 6, 258, 6, 272, 11, 15, 22, 134, 44, 11, 15, 16, 8, 197, 2, 90, 67, 52, 29, 209, 30, 32, 132, 6, 109, 15, 17, 12]\n"
     ]
    }
   ],
   "source": [
    "# Print out an observation (document) contained in X.\n",
    "# It is encoded as integers (indices).\n",
    "print(X_train[0])"
   ]
  },
  {
   "cell_type": "code",
   "execution_count": 6,
   "metadata": {},
   "outputs": [
    {
     "name": "stdout",
     "output_type": "stream",
     "text": [
      "[87, 56, 139, 224, 101, 116, 100, 100, 82, 106, 31, 59, 65, 316, 527, 76, 114, 17, 91, 77, 231, 108, 83, 29, 95, 110, 23, 373, 114, 354, 133, 222, 571, 155, 83, 208, 170, 269, 74, 19, 23, 78, 21, 377, 104, 299, 89, 56, 94, 139, 118, 36, 137, 107, 83, 66, 70, 112, 88, 51, 83, 123, 17, 185, 84, 52, 102, 73, 106, 486, 107, 82, 263, 172, 491, 190, 143, 62, 26, 88, 114, 38, 85, 112, 793, 104, 25, 21, 101, 28, 25, 81, 135, 73, 62, 18, 90, 266, 91, 64]\n"
     ]
    }
   ],
   "source": [
    "# Let's check for length of the first 100 documents.\n",
    "# We notice that the length is not uniform.\n",
    "print([len(a) for a in X_train[0:100]])"
   ]
  },
  {
   "cell_type": "code",
   "execution_count": 7,
   "metadata": {},
   "outputs": [],
   "source": [
    "# Download the dictionary to translate the indices.\n",
    "my_dict = get_word_index(path='reuters_word_index.json')"
   ]
  },
  {
   "cell_type": "code",
   "execution_count": 8,
   "metadata": {},
   "outputs": [],
   "source": [
    "# To view the dictionary.\n",
    "# my_dict"
   ]
  },
  {
   "cell_type": "code",
   "execution_count": 9,
   "metadata": {},
   "outputs": [],
   "source": [
    "# Exchange the 'key' and 'value'.\n",
    "my_dict_inv = {v:k for k,v in my_dict.items()}"
   ]
  },
  {
   "cell_type": "code",
   "execution_count": 10,
   "metadata": {},
   "outputs": [
    {
     "name": "stdout",
     "output_type": "stream",
     "text": [
      "the federal gain only growth lt they meeting year reuter company did year an they of of reuter company of of 1987 had of of reuter had profits of pct dlrs\n"
     ]
    }
   ],
   "source": [
    "# Translate each document.\n",
    "i_news = 10                                        # Document number that can be changed at will.\n",
    "news = list(pd.Series(X_train[i_news]).apply(lambda x: my_dict_inv[x]))\n",
    "print(' '.join(news))"
   ]
  },
  {
   "cell_type": "markdown",
   "metadata": {},
   "source": [
    "#### 1.3. Data preprocessing:"
   ]
  },
  {
   "cell_type": "code",
   "execution_count": 11,
   "metadata": {},
   "outputs": [],
   "source": [
    "# Padding: newswire lengths are uniformly matched to maxlen.\n",
    "# Cut away if longer than maxlen and fill with 0s if shorter than maxlen.\n",
    "X_train = sequence.pad_sequences(X_train, maxlen = 100)\n",
    "X_test = sequence.pad_sequences(X_test, maxlen = 100)"
   ]
  },
  {
   "cell_type": "code",
   "execution_count": 12,
   "metadata": {},
   "outputs": [],
   "source": [
    "# Apply one-hot-encoding to the y variable.\n",
    "y = np.concatenate([y_train,y_test],axis=0)\n",
    "y = to_categorical(y,46)\n",
    "y_train = y[:n_train_size,:]\n",
    "y_test = y[n_train_size:,:]"
   ]
  },
  {
   "cell_type": "markdown",
   "metadata": {},
   "source": [
    "#### 1.4. Define the model:"
   ]
  },
  {
   "cell_type": "code",
   "execution_count": 13,
   "metadata": {},
   "outputs": [],
   "source": [
    "n_neurons = 100                   # Neurons within each memory cell.\n",
    "n_input = 100                     # Dimension of the embeding space. "
   ]
  },
  {
   "cell_type": "code",
   "execution_count": 14,
   "metadata": {},
   "outputs": [
    {
     "name": "stdout",
     "output_type": "stream",
     "text": [
      "WARNING:tensorflow:From C:\\Anaconda3\\lib\\site-packages\\tensorflow_core\\python\\keras\\initializers.py:119: calling RandomUniform.__init__ (from tensorflow.python.ops.init_ops) with dtype is deprecated and will be removed in a future version.\n",
      "Instructions for updating:\n",
      "Call initializer instance with the dtype argument instead of passing it to the constructor\n",
      "WARNING:tensorflow:From C:\\Anaconda3\\lib\\site-packages\\tensorflow_core\\python\\ops\\resource_variable_ops.py:1630: calling BaseResourceVariable.__init__ (from tensorflow.python.ops.resource_variable_ops) with constraint is deprecated and will be removed in a future version.\n",
      "Instructions for updating:\n",
      "If using Keras pass *_constraint arguments to layers.\n"
     ]
    }
   ],
   "source": [
    "# LSTM network model.\n",
    "my_model = Sequential()\n",
    "my_model.add(Embedding(n_words, n_input))           # n_words = vocabulary size, n_input = dimension of the embedding space.\n",
    "my_model.add(LSTM(units=n_neurons, return_sequences=False, input_shape=(None, n_input), activation='tanh'))\n",
    "my_model.add(Dense(n_cat, activation='softmax'))"
   ]
  },
  {
   "cell_type": "code",
   "execution_count": 15,
   "metadata": {},
   "outputs": [
    {
     "name": "stdout",
     "output_type": "stream",
     "text": [
      "Model: \"sequential\"\n",
      "_________________________________________________________________\n",
      "Layer (type)                 Output Shape              Param #   \n",
      "=================================================================\n",
      "embedding (Embedding)        (None, None, 100)         100000    \n",
      "_________________________________________________________________\n",
      "lstm (LSTM)                  (None, 100)               80400     \n",
      "_________________________________________________________________\n",
      "dense (Dense)                (None, 46)                4646      \n",
      "=================================================================\n",
      "Total params: 185,046\n",
      "Trainable params: 185,046\n",
      "Non-trainable params: 0\n",
      "_________________________________________________________________\n"
     ]
    }
   ],
   "source": [
    "# View the summary.\n",
    "my_model.summary()"
   ]
  },
  {
   "cell_type": "markdown",
   "metadata": {},
   "source": [
    "#### 1.5. Define the optimizer and compile:"
   ]
  },
  {
   "cell_type": "code",
   "execution_count": 16,
   "metadata": {},
   "outputs": [],
   "source": [
    "n_epochs = 20                      # Number of epochs.\n",
    "batch_size = 20                    # Size of each batch.\n",
    "learn_rate = 0.001                 # learning rate.  "
   ]
  },
  {
   "cell_type": "code",
   "execution_count": 17,
   "metadata": {},
   "outputs": [],
   "source": [
    "# Optimizer and compilation.\n",
    "my_optimizer=Adam(lr=learn_rate)\n",
    "my_model.compile(loss = \"categorical_crossentropy\", optimizer = my_optimizer, metrics=[\"accuracy\"])"
   ]
  },
  {
   "cell_type": "markdown",
   "metadata": {},
   "source": [
    "#### 1.6. Train the model and visualize the history:"
   ]
  },
  {
   "cell_type": "code",
   "execution_count": 18,
   "metadata": {},
   "outputs": [
    {
     "name": "stdout",
     "output_type": "stream",
     "text": [
      "WARNING:tensorflow:From C:\\Anaconda3\\lib\\site-packages\\tensorflow_core\\python\\ops\\math_grad.py:1424: where (from tensorflow.python.ops.array_ops) is deprecated and will be removed in a future version.\n",
      "Instructions for updating:\n",
      "Use tf.where in 2.0, which has the same broadcast rule as np.where\n",
      "Train on 6287 samples, validate on 1572 samples\n",
      "Epoch 1/20\n",
      "6287/6287 [==============================] - 38s 6ms/sample - loss: 2.3030 - acc: 0.4233 - val_loss: 1.9813 - val_acc: 0.5051\n",
      "Epoch 2/20\n",
      "6287/6287 [==============================] - 37s 6ms/sample - loss: 1.8672 - acc: 0.5243 - val_loss: 1.6966 - val_acc: 0.5662\n",
      "Epoch 3/20\n",
      "6287/6287 [==============================] - 36s 6ms/sample - loss: 1.7220 - acc: 0.5578 - val_loss: 1.6418 - val_acc: 0.5814\n",
      "Epoch 4/20\n",
      "6287/6287 [==============================] - 36s 6ms/sample - loss: 1.6221 - acc: 0.5898 - val_loss: 1.5223 - val_acc: 0.6132\n",
      "Epoch 5/20\n",
      "6287/6287 [==============================] - 37s 6ms/sample - loss: 1.4550 - acc: 0.6299 - val_loss: 1.4099 - val_acc: 0.6578\n",
      "Epoch 6/20\n",
      "6287/6287 [==============================] - 36s 6ms/sample - loss: 1.3349 - acc: 0.6556 - val_loss: 1.3505 - val_acc: 0.6597\n",
      "Epoch 7/20\n",
      "6287/6287 [==============================] - 36s 6ms/sample - loss: 1.2281 - acc: 0.6844 - val_loss: 1.2874 - val_acc: 0.6762\n",
      "Epoch 8/20\n",
      "6287/6287 [==============================] - 37s 6ms/sample - loss: 1.1429 - acc: 0.7002 - val_loss: 1.2575 - val_acc: 0.6826\n",
      "Epoch 9/20\n",
      "6287/6287 [==============================] - 38s 6ms/sample - loss: 1.0615 - acc: 0.7248 - val_loss: 1.2065 - val_acc: 0.6991\n",
      "Epoch 10/20\n",
      "6287/6287 [==============================] - 38s 6ms/sample - loss: 0.9844 - acc: 0.7446 - val_loss: 1.1896 - val_acc: 0.7017\n",
      "Epoch 11/20\n",
      "6287/6287 [==============================] - 38s 6ms/sample - loss: 0.9107 - acc: 0.7633 - val_loss: 1.2265 - val_acc: 0.6997\n",
      "Epoch 12/20\n",
      "6287/6287 [==============================] - 38s 6ms/sample - loss: 0.8587 - acc: 0.7780 - val_loss: 1.1849 - val_acc: 0.7156\n",
      "Epoch 13/20\n",
      "6287/6287 [==============================] - 38s 6ms/sample - loss: 0.8063 - acc: 0.7912 - val_loss: 1.1867 - val_acc: 0.7163\n",
      "Epoch 14/20\n",
      "6287/6287 [==============================] - 37s 6ms/sample - loss: 0.7361 - acc: 0.8125 - val_loss: 1.1891 - val_acc: 0.7182\n",
      "Epoch 15/20\n",
      "6287/6287 [==============================] - 36s 6ms/sample - loss: 0.7016 - acc: 0.8203 - val_loss: 1.2183 - val_acc: 0.7182\n",
      "Epoch 16/20\n",
      "6287/6287 [==============================] - 36s 6ms/sample - loss: 0.6604 - acc: 0.8303 - val_loss: 1.2080 - val_acc: 0.7220\n",
      "Epoch 17/20\n",
      "6287/6287 [==============================] - 36s 6ms/sample - loss: 0.5937 - acc: 0.8481 - val_loss: 1.2529 - val_acc: 0.7220\n",
      "Epoch 18/20\n",
      "6287/6287 [==============================] - 36s 6ms/sample - loss: 0.5421 - acc: 0.8610 - val_loss: 1.2739 - val_acc: 0.7214\n",
      "Epoch 19/20\n",
      "6287/6287 [==============================] - 36s 6ms/sample - loss: 0.5004 - acc: 0.8759 - val_loss: 1.3585 - val_acc: 0.7029\n",
      "Epoch 20/20\n",
      "6287/6287 [==============================] - 36s 6ms/sample - loss: 0.4576 - acc: 0.8853 - val_loss: 1.3272 - val_acc: 0.7239\n"
     ]
    }
   ],
   "source": [
    "my_summary = my_model.fit(X_train, y_train, epochs=n_epochs, batch_size = batch_size, validation_split=0.2, verbose = 1)"
   ]
  },
  {
   "cell_type": "code",
   "execution_count": 19,
   "metadata": {},
   "outputs": [
    {
     "data": {
      "image/png": "[encoded data removed]",
      "text/plain": [
       "<Figure size 432x288 with 1 Axes>"
      ]
     },
     "metadata": {
      "needs_background": "light"
     },
     "output_type": "display_data"
    }
   ],
   "source": [
    "plt.plot(my_summary.history['acc'], c=\"b\")\n",
    "plt.plot(my_summary.history['val_acc'], c=\"g\")\n",
    "plt.title('Training History')\n",
    "plt.ylabel('Accuracy')\n",
    "plt.xlabel('Epoch')\n",
    "plt.legend(['Train', 'Validation'], loc='lower right')\n",
    "plt.show()"
   ]
  },
  {
   "cell_type": "markdown",
   "metadata": {},
   "source": [
    "#### 1.7. Testing: "
   ]
  },
  {
   "cell_type": "code",
   "execution_count": 20,
   "metadata": {},
   "outputs": [
    {
     "name": "stdout",
     "output_type": "stream",
     "text": [
      "Test Accuracy : 0.699999988079071\n"
     ]
    }
   ],
   "source": [
    "ACC = my_model.evaluate(X_test, y_test, verbose=0)[1]    \n",
    "print(\"Test Accuracy : {}\".format(np.round(ACC,3)))"
   ]
  },
  {
   "cell_type": "code",
   "execution_count": null,
   "metadata": {},
   "outputs": [],
   "source": []
  }
 ],
 "metadata": {
  "kernelspec": {
   "display_name": "Python 3",
   "language": "python",
   "name": "python3"
  },
  "language_info": {
   "codemirror_mode": {
    "name": "ipython",
    "version": 3
   },
   "file_extension": ".py",
   "mimetype": "text/x-python",
   "name": "python",
   "nbconvert_exporter": "python",
   "pygments_lexer": "ipython3",
   "version": "3.7.4"
  }
 },
 "nbformat": 4,
 "nbformat_minor": 2
}
