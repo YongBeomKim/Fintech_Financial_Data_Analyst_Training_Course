{
 "cells": [
  {
   "cell_type": "markdown",
   "metadata": {},
   "source": [
    "### 1. Convolutional Neural Network with Keras (color images):"
   ]
  },
  {
   "cell_type": "code",
   "execution_count": 1,
   "metadata": {},
   "outputs": [],
   "source": [
    "import numpy as np\n",
    "import pandas as pd\n",
    "import matplotlib.pyplot as plt\n",
    "import warnings                   \n",
    "from sklearn.model_selection import train_test_split\n",
    "from tensorflow.keras.datasets.cifar10 import load_data\n",
    "from tensorflow.keras.models import Sequential\n",
    "from tensorflow.keras.layers import Dense, Conv2D, Dropout, Flatten, MaxPooling2D\n",
    "from tensorflow.keras.utils import to_categorical\n",
    "from tensorflow.keras.optimizers import Adam, RMSprop, SGD\n",
    "warnings.filterwarnings('ignore')                  # Turn the warnings off.\n",
    "%matplotlib inline"
   ]
  },
  {
   "cell_type": "markdown",
   "metadata": {},
   "source": [
    "#### 1.1. Read in the data:"
   ]
  },
  {
   "cell_type": "markdown",
   "metadata": {},
   "source": [
    "More information about the dataset can be found [here](https://www.cs.toronto.edu/~kriz/cifar.html)."
   ]
  },
  {
   "cell_type": "code",
   "execution_count": 2,
   "metadata": {},
   "outputs": [
    {
     "name": "stdout",
     "output_type": "stream",
     "text": [
      "Downloading data from https://www.cs.toronto.edu/~kriz/cifar-10-python.tar.gz\n",
      "170500096/170498071 [==============================] - 109s 1us/step\n"
     ]
    }
   ],
   "source": [
    "# Bring in the data.\n",
    "(X_train, y_train), (X_test, y_test) = load_data()\n",
    "n_train_size = X_train.shape[0]"
   ]
  },
  {
   "cell_type": "code",
   "execution_count": 3,
   "metadata": {},
   "outputs": [
    {
     "name": "stdout",
     "output_type": "stream",
     "text": [
      "--------------------------------------------------\n",
      "Training data X shape: (50000, 32, 32, 3)\n",
      "Training data y shape: (50000, 1)\n",
      "--------------------------------------------------\n",
      "Test data X shape: (10000, 32, 32, 3)\n",
      "Test data y shape: (10000, 1)\n",
      "--------------------------------------------------\n"
     ]
    }
   ],
   "source": [
    "# View the shapes.\n",
    "print(\"-\"*50)\n",
    "print(\"Training data X shape: {}\".format(X_train.shape))\n",
    "print(\"Training data y shape: {}\".format(y_train.shape))\n",
    "print(\"-\"*50)\n",
    "print(\"Test data X shape: {}\".format(X_test.shape))\n",
    "print(\"Test data y shape: {}\".format(y_test.shape))\n",
    "print(\"-\"*50)"
   ]
  },
  {
   "cell_type": "markdown",
   "metadata": {},
   "source": [
    "#### 1.2. Visualize the data:"
   ]
  },
  {
   "cell_type": "code",
   "execution_count": 4,
   "metadata": {},
   "outputs": [
    {
     "data": {
      "image/png": "[encoded data removed]",
      "text/plain": [
       "<Figure size 432x288 with 1 Axes>"
      ]
     },
     "metadata": {
      "needs_background": "light"
     },
     "output_type": "display_data"
    }
   ],
   "source": [
    "i_image = 123                                   # You may change this at will. \n",
    "plt.imshow(X_train[i_image,:,:])\n",
    "plt.show()"
   ]
  },
  {
   "cell_type": "markdown",
   "metadata": {},
   "source": [
    "#### 1.3. Prepare the data:"
   ]
  },
  {
   "cell_type": "code",
   "execution_count": 5,
   "metadata": {},
   "outputs": [],
   "source": [
    "# Scaling.\n",
    "X_train = X_train/255                   \n",
    "X_test = X_test/255                        "
   ]
  },
  {
   "cell_type": "code",
   "execution_count": 6,
   "metadata": {},
   "outputs": [],
   "source": [
    "# Reshaping.\n",
    "X_train = X_train.reshape(-1,32,32,3)\n",
    "X_test = X_test.reshape(-1,32,32,3)"
   ]
  },
  {
   "cell_type": "code",
   "execution_count": 7,
   "metadata": {},
   "outputs": [],
   "source": [
    "# One-hot-encoding.\n",
    "y = np.concatenate([y_train,y_test],axis=0)\n",
    "y = to_categorical(y,10)\n",
    "y_train = y[:n_train_size,:]\n",
    "y_test = y[n_train_size:,:]"
   ]
  },
  {
   "cell_type": "markdown",
   "metadata": {},
   "source": [
    "#### 1.4. Define a CNN model:"
   ]
  },
  {
   "cell_type": "code",
   "execution_count": 8,
   "metadata": {},
   "outputs": [
    {
     "name": "stdout",
     "output_type": "stream",
     "text": [
      "WARNING:tensorflow:From C:\\Anaconda3\\lib\\site-packages\\tensorflow_core\\python\\ops\\resource_variable_ops.py:1630: calling BaseResourceVariable.__init__ (from tensorflow.python.ops.resource_variable_ops) with constraint is deprecated and will be removed in a future version.\n",
      "Instructions for updating:\n",
      "If using Keras pass *_constraint arguments to layers.\n",
      "WARNING:tensorflow:Large dropout rate: 0.7 (>0.5). In TensorFlow 2.x, dropout() uses dropout rate instead of keep_prob. Please ensure that this is intended.\n"
     ]
    }
   ],
   "source": [
    "drop_prob = 0.7\n",
    "my_model = Sequential()\n",
    "# 1st convolution + pooling.\n",
    "my_model.add(Conv2D(input_shape=(32,32,3),filters=32,kernel_size=(5,5),padding='same',activation=\"relu\"))        # 3 channels of color.\n",
    "my_model.add(MaxPooling2D(pool_size=2))\n",
    "# 2nd convolution + pooling.\n",
    "my_model.add(Conv2D(filters=64,kernel_size=(5,5), padding='same',activation=\"relu\"))\n",
    "my_model.add(MaxPooling2D(pool_size=2))\n",
    "# Flattened fully connected layer.\n",
    "my_model.add(Flatten())\n",
    "my_model.add(Dense(units = 1024, activation=\"relu\"))\n",
    "# Apply dropout.\n",
    "my_model.add(Dropout(rate=drop_prob))\n",
    "# Output layer.\n",
    "my_model.add(Dense(units = 10, activation=\"softmax\"))"
   ]
  },
  {
   "cell_type": "code",
   "execution_count": 9,
   "metadata": {},
   "outputs": [
    {
     "name": "stdout",
     "output_type": "stream",
     "text": [
      "Model: \"sequential\"\n",
      "_________________________________________________________________\n",
      "Layer (type)                 Output Shape              Param #   \n",
      "=================================================================\n",
      "conv2d (Conv2D)              (None, 32, 32, 32)        2432      \n",
      "_________________________________________________________________\n",
      "max_pooling2d (MaxPooling2D) (None, 16, 16, 32)        0         \n",
      "_________________________________________________________________\n",
      "conv2d_1 (Conv2D)            (None, 16, 16, 64)        51264     \n",
      "_________________________________________________________________\n",
      "max_pooling2d_1 (MaxPooling2 (None, 8, 8, 64)          0         \n",
      "_________________________________________________________________\n",
      "flatten (Flatten)            (None, 4096)              0         \n",
      "_________________________________________________________________\n",
      "dense (Dense)                (None, 1024)              4195328   \n",
      "_________________________________________________________________\n",
      "dropout (Dropout)            (None, 1024)              0         \n",
      "_________________________________________________________________\n",
      "dense_1 (Dense)              (None, 10)                10250     \n",
      "=================================================================\n",
      "Total params: 4,259,274\n",
      "Trainable params: 4,259,274\n",
      "Non-trainable params: 0\n",
      "_________________________________________________________________\n"
     ]
    }
   ],
   "source": [
    "# View the summary.\n",
    "my_model.summary()"
   ]
  },
  {
   "cell_type": "markdown",
   "metadata": {},
   "source": [
    "#### 1.5. Define the hyperparameters and optimizer:"
   ]
  },
  {
   "cell_type": "code",
   "execution_count": 10,
   "metadata": {},
   "outputs": [],
   "source": [
    "# Hyperparameters.\n",
    "n_epochs = 20\n",
    "batch_size = 20\n",
    "learn_rate = 0.0001"
   ]
  },
  {
   "cell_type": "code",
   "execution_count": 11,
   "metadata": {},
   "outputs": [],
   "source": [
    "# Define the optimizer and then compile.\n",
    "my_optimizer=Adam(lr=learn_rate)\n",
    "my_model.compile(loss = \"categorical_crossentropy\", optimizer = my_optimizer, metrics=[\"accuracy\"])"
   ]
  },
  {
   "cell_type": "markdown",
   "metadata": {},
   "source": [
    "#### 1.6. Train the model and visualize the history:"
   ]
  },
  {
   "cell_type": "code",
   "execution_count": 13,
   "metadata": {},
   "outputs": [
    {
     "name": "stdout",
     "output_type": "stream",
     "text": [
      "Train on 35000 samples, validate on 15000 samples\n",
      "Epoch 1/20\n",
      "35000/35000 [==============================] - 144s 4ms/sample - loss: 1.4910 - acc: 0.4658 - val_loss: 1.3497 - val_acc: 0.5246\n",
      "Epoch 2/20\n",
      "35000/35000 [==============================] - 163s 5ms/sample - loss: 1.3226 - acc: 0.5271 - val_loss: 1.2231 - val_acc: 0.5751\n",
      "Epoch 3/20\n",
      "35000/35000 [==============================] - 148s 4ms/sample - loss: 1.2131 - acc: 0.5703 - val_loss: 1.1594 - val_acc: 0.6009\n",
      "Epoch 4/20\n",
      "35000/35000 [==============================] - 139s 4ms/sample - loss: 1.1254 - acc: 0.5997 - val_loss: 1.0696 - val_acc: 0.6290\n",
      "Epoch 5/20\n",
      "35000/35000 [==============================] - 133s 4ms/sample - loss: 1.0582 - acc: 0.6283 - val_loss: 1.0457 - val_acc: 0.6340\n",
      "Epoch 6/20\n",
      "35000/35000 [==============================] - 134s 4ms/sample - loss: 0.9998 - acc: 0.6471 - val_loss: 1.0003 - val_acc: 0.6513\n",
      "Epoch 7/20\n",
      "35000/35000 [==============================] - 133s 4ms/sample - loss: 0.9496 - acc: 0.6689 - val_loss: 0.9870 - val_acc: 0.6562\n",
      "Epoch 8/20\n",
      "35000/35000 [==============================] - 145s 4ms/sample - loss: 0.9032 - acc: 0.6858 - val_loss: 0.9481 - val_acc: 0.6675\n",
      "Epoch 9/20\n",
      "35000/35000 [==============================] - 153s 4ms/sample - loss: 0.8580 - acc: 0.6968 - val_loss: 0.9070 - val_acc: 0.6853\n",
      "Epoch 10/20\n",
      "35000/35000 [==============================] - 139s 4ms/sample - loss: 0.8188 - acc: 0.7155 - val_loss: 0.9214 - val_acc: 0.6792\n",
      "Epoch 11/20\n",
      "35000/35000 [==============================] - 141s 4ms/sample - loss: 0.7787 - acc: 0.7298 - val_loss: 0.8971 - val_acc: 0.6870\n",
      "Epoch 12/20\n",
      "35000/35000 [==============================] - 132s 4ms/sample - loss: 0.7439 - acc: 0.7419 - val_loss: 0.8526 - val_acc: 0.7029\n",
      "Epoch 13/20\n",
      "35000/35000 [==============================] - 146s 4ms/sample - loss: 0.7072 - acc: 0.7549 - val_loss: 0.9163 - val_acc: 0.6896\n",
      "Epoch 14/20\n",
      "35000/35000 [==============================] - 141s 4ms/sample - loss: 0.6770 - acc: 0.7658 - val_loss: 0.8373 - val_acc: 0.7143\n",
      "Epoch 15/20\n",
      "35000/35000 [==============================] - 139s 4ms/sample - loss: 0.6400 - acc: 0.7781 - val_loss: 0.8399 - val_acc: 0.7125\n",
      "Epoch 16/20\n",
      "35000/35000 [==============================] - 139s 4ms/sample - loss: 0.6035 - acc: 0.7909 - val_loss: 0.8575 - val_acc: 0.7079\n",
      "Epoch 17/20\n",
      "35000/35000 [==============================] - 148s 4ms/sample - loss: 0.5777 - acc: 0.8009 - val_loss: 0.8181 - val_acc: 0.7193\n",
      "Epoch 18/20\n",
      "35000/35000 [==============================] - 134s 4ms/sample - loss: 0.5447 - acc: 0.8119 - val_loss: 0.8213 - val_acc: 0.7235\n",
      "Epoch 19/20\n",
      "35000/35000 [==============================] - 134s 4ms/sample - loss: 0.5179 - acc: 0.8204 - val_loss: 0.8130 - val_acc: 0.7252\n",
      "Epoch 20/20\n",
      "35000/35000 [==============================] - 136s 4ms/sample - loss: 0.4908 - acc: 0.8299 - val_loss: 0.8093 - val_acc: 0.7323\n"
     ]
    }
   ],
   "source": [
    "# Train the model.\n",
    "# verbose = 0 means no output. verbose = 1 to view the epochs.\n",
    "my_summary = my_model.fit(X_train, y_train, epochs=n_epochs, batch_size = batch_size, validation_split = 0.3, verbose = 1)"
   ]
  },
  {
   "cell_type": "code",
   "execution_count": 14,
   "metadata": {},
   "outputs": [
    {
     "data": {
      "image/png": "[encoded data removed]",
      "text/plain": [
       "<Figure size 432x288 with 1 Axes>"
      ]
     },
     "metadata": {
      "needs_background": "light"
     },
     "output_type": "display_data"
    }
   ],
   "source": [
    "# Visualize the training history. \n",
    "n_skip = 0                 # Skip the first few steps.\n",
    "plt.plot(my_summary.history['acc'][n_skip:], c=\"b\")\n",
    "plt.plot(my_summary.history['val_acc'][n_skip:], c=\"g\")\n",
    "plt.title('Training History')\n",
    "plt.ylabel('Accuracy')\n",
    "plt.xlabel('Epoch')\n",
    "plt.legend(['Train', 'Validation'], loc='lower right')\n",
    "plt.show()"
   ]
  },
  {
   "cell_type": "markdown",
   "metadata": {},
   "source": [
    "#### 1.7. Testing: "
   ]
  },
  {
   "cell_type": "code",
   "execution_count": 15,
   "metadata": {},
   "outputs": [
    {
     "name": "stdout",
     "output_type": "stream",
     "text": [
      "Test Accuracy : 0.7250000238418579\n"
     ]
    }
   ],
   "source": [
    "ACC = my_model.evaluate(X_test, y_test, verbose=0)[1]    \n",
    "print(\"Test Accuracy : {}\".format(np.round(ACC,3)))"
   ]
  },
  {
   "cell_type": "code",
   "execution_count": null,
   "metadata": {},
   "outputs": [],
   "source": []
  }
 ],
 "metadata": {
  "kernelspec": {
   "display_name": "Python 3",
   "language": "python",
   "name": "python3"
  },
  "language_info": {
   "codemirror_mode": {
    "name": "ipython",
    "version": 3
   },
   "file_extension": ".py",
   "mimetype": "text/x-python",
   "name": "python",
   "nbconvert_exporter": "python",
   "pygments_lexer": "ipython3",
   "version": "3.7.4"
  }
 },
 "nbformat": 4,
 "nbformat_minor": 2
}
