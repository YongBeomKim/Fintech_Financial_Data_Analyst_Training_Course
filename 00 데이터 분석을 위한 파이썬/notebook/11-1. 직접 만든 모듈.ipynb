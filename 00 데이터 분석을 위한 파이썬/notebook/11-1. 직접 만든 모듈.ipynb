{
 "cells": [
  {
   "cell_type": "markdown",
   "metadata": {},
   "source": [
    "# 모듈이란?"
   ]
  },
  {
   "cell_type": "markdown",
   "metadata": {},
   "source": [
    "파이썬 코드를 작성한 후 파일로 저장하면 다른 코드에서도 변수, 함수 등을 불러와 이용할 수 있다.<br>\n",
    "\n",
    "따라서 모듈은 \"코드가 저장된 파일\" <br><br>\n",
    "\n",
    "\n",
    "코드를 작성할 때 이미 만들어진 모듈을 활용하면 편리함<br>\n",
    "\n",
    "\n",
    "11-1. 본인이 직접 만든 모듈<br>\n",
    "\n",
    "11-2. 파이썬에 기본적으로 내장되어 있는 모듈\n"
   ]
  },
  {
   "cell_type": "markdown",
   "metadata": {},
   "source": [
    "## 1. 모듈 간접 실행, 모듈을 import한 후 실행하기\n"
   ]
  },
  {
   "cell_type": "markdown",
   "metadata": {},
   "source": [
    "### 1.1 모듈 만들기"
   ]
  },
  {
   "cell_type": "code",
   "execution_count": null,
   "metadata": {},
   "outputs": [],
   "source": [
    "# my_first_module모듈을 C:\\myPyCode 작업 폴더에 만듬\n",
    "%%writefile C:\\myPyCode\\my_first_module.py            # 모듈이름.py  \n",
    "\n",
    "def my_function():\n",
    "    print(\"This is my first module.\") "
   ]
  },
  {
   "cell_type": "code",
   "execution_count": null,
   "metadata": {
    "scrolled": true
   },
   "outputs": [],
   "source": [
    "# 파일 생성 확인\n",
    "!type C:\\myPyCode\\my_first_module.py        "
   ]
  },
  {
   "cell_type": "markdown",
   "metadata": {},
   "source": [
    "### 1.2 모듈 불러오기"
   ]
  },
  {
   "cell_type": "code",
   "execution_count": null,
   "metadata": {},
   "outputs": [],
   "source": [
    "cd C:\\myPyCode                  # 모듈이 있는 작업 폴더로 이동"
   ]
  },
  {
   "cell_type": "code",
   "execution_count": null,
   "metadata": {},
   "outputs": [],
   "source": [
    "import my_first_module         # 'import.모듈명'으로 모듈 불러오기\n",
    "\n",
    "my_first_module.my_function()  # '모듈명.함수()'로  모듈의 함수 실행"
   ]
  },
  {
   "cell_type": "code",
   "execution_count": null,
   "metadata": {},
   "outputs": [],
   "source": [
    "!echo %PYTHONPATH%   # 환경변수 설정이 잘 됬는지 확인"
   ]
  },
  {
   "cell_type": "markdown",
   "metadata": {},
   "source": [
    "### 1.3 폴더에 코드를 작성해서 my_area 모듈 생성"
   ]
  },
  {
   "cell_type": "code",
   "execution_count": null,
   "metadata": {
    "scrolled": false
   },
   "outputs": [],
   "source": [
    "%%writefile C:\\myPyCode\\modules\\my_area.py   #  C:\\myPyCode\\modules에 my_area모듈 생성\n",
    "\n",
    "PI = 3.14\n",
    "def square_area(a): # 정사각형의 넓이 반환 함수\n",
    "    return a ** 2\n",
    "\n",
    "def circle_area(r): # 원의 넓이 반환 함수\n",
    "    return PI * r ** 2"
   ]
  },
  {
   "cell_type": "markdown",
   "metadata": {},
   "source": [
    "### 1.4 앞에서 생성한 my_area 모듈을 import로 불러와 my_area의 변수와 함수 호출"
   ]
  },
  {
   "cell_type": "code",
   "execution_count": null,
   "metadata": {},
   "outputs": [],
   "source": [
    "cd C:\\myPyCode \n",
    "    \n",
    "import my_area    # 앞에서 생성한 my_area모듈 불러오기\n",
    "\n",
    "print('pi =', my_area.PI) # my_area모듈에 있는 변수 호출\n",
    "print('square area =', my_area.square_area(5)) # my_area모듈에 있는 함수 호출 \n",
    "print('circle area =', my_area.circle_area(2))"
   ]
  },
  {
   "cell_type": "code",
   "execution_count": null,
   "metadata": {},
   "outputs": [],
   "source": [
    "dir(my_area)    # 불러온 모듈에서 사용할 수 있는 변수, 함수, 클래스를 볼 수 있음"
   ]
  },
  {
   "cell_type": "markdown",
   "metadata": {},
   "source": [
    "## 2. 모듈을 불러오는 다른 형식"
   ]
  },
  {
   "cell_type": "markdown",
   "metadata": {},
   "source": [
    "### 2.1 모듈의 내용 바로 선언"
   ]
  },
  {
   "cell_type": "markdown",
   "metadata": {},
   "source": [
    "from 모듈명 import 변수명 - 모듈의 변수를 바로 불러오기"
   ]
  },
  {
   "cell_type": "code",
   "execution_count": null,
   "metadata": {
    "scrolled": true
   },
   "outputs": [],
   "source": [
    "from my_area import PI \n",
    "\n",
    "print('pi =', PI)      # 모듈의 변수 이용"
   ]
  },
  {
   "cell_type": "markdown",
   "metadata": {},
   "source": [
    "from 모듈명 import 함수명 - 모듈의 함수를 바로 불러오기"
   ]
  },
  {
   "cell_type": "code",
   "execution_count": null,
   "metadata": {},
   "outputs": [],
   "source": [
    "from my_area import square_area\n",
    "from my_area import circle_area\n",
    "\n",
    "print('square area =', square_area(5)) # 모듈의 함수 이용      \n",
    "print('circle area =', circle_area(2))   "
   ]
  },
  {
   "cell_type": "markdown",
   "metadata": {},
   "source": [
    "from 모듈명 import 변수명/함수명/클래스명 - 여러 개 선언 가능"
   ]
  },
  {
   "cell_type": "code",
   "execution_count": null,
   "metadata": {},
   "outputs": [],
   "source": [
    "from my_area import PI, square_area, circle_area\n",
    "\n",
    "print('pi =', PI)                      # 모듈의 변수 이용\n",
    "print('square area =', square_area(5)) # 모듈의 함수 이용      \n",
    "print('circle area =', circle_area(2))  "
   ]
  },
  {
   "cell_type": "markdown",
   "metadata": {},
   "source": [
    "from 모듈명 import * - 변수, 함수, 클래스를 모듈명없이 바로 사용하고 싶을 때"
   ]
  },
  {
   "cell_type": "code",
   "execution_count": null,
   "metadata": {},
   "outputs": [],
   "source": [
    "from my_area import *     \n",
    "\n",
    "print('pi =', PI)                      # 모듈의 변수 이용\n",
    "print('square area =', square_area(5)) # 모듈의 함수 이용\n",
    "print('circle area =', circle_area(2)) "
   ]
  },
  {
   "cell_type": "markdown",
   "metadata": {},
   "source": [
    "from 모듈명 import * - 모듈을 두 개이상 사용할 때는 주의"
   ]
  },
  {
   "cell_type": "code",
   "execution_count": null,
   "metadata": {},
   "outputs": [],
   "source": [
    "%%writefile C:\\myPyCode\\modules\\my_module1.py    # my_module1 모듈 생성\n",
    "\n",
    "def func1():\n",
    "    print(\"func1 in  my_module1 \")\n",
    "\n",
    "def func2():\n",
    "    print(\"func2 in  my_module1 \")"
   ]
  },
  {
   "cell_type": "code",
   "execution_count": null,
   "metadata": {},
   "outputs": [],
   "source": [
    "%%writefile C:\\myPyCode\\modules\\my_module2.py   # my_module2 모듈 생성\n",
    "\n",
    "def func2():\n",
    "    print(\"func2 in  my_module2 \")\n",
    "\n",
    "def func3():\n",
    "    print(\"func3 in  my_module2 \")"
   ]
  },
  {
   "cell_type": "code",
   "execution_count": null,
   "metadata": {},
   "outputs": [],
   "source": [
    "from my_module1 import *    \n",
    "from my_module2 import *\n",
    "\n",
    "func1()      # my_module1\n",
    "func2()      # my_module1,2에 공통\n",
    "func3()      # my_module2 "
   ]
  },
  {
   "cell_type": "markdown",
   "metadata": {},
   "source": [
    "- 모듈1과 모듈2에만 존재하는 func 1,3은 오류 안남"
   ]
  },
  {
   "cell_type": "code",
   "execution_count": null,
   "metadata": {},
   "outputs": [],
   "source": [
    "from my_module2 import *\n",
    "from my_module1 import *\n",
    "\n",
    "func1()      # my_module1\n",
    "func2()      # my_module1,2에 공통\n",
    "func3()      # my_module2 "
   ]
  },
  {
   "cell_type": "markdown",
   "metadata": {},
   "source": [
    "- 모듈1,2에 공통인 func2를 호출하면 나중에 선언해 불러온 모듈의 함수가 호출됨(주의해야 함)\n",
    "- func2를 호출했을 때, 모듈1에서 함수 볼러온 것을 볼 수 있음"
   ]
  },
  {
   "cell_type": "markdown",
   "metadata": {},
   "source": [
    "### 2.2 모듈명을 별명으로 선언"
   ]
  },
  {
   "cell_type": "code",
   "execution_count": null,
   "metadata": {},
   "outputs": [],
   "source": [
    "import my_area as area # 모듈명(my_area)에 별명(area)을 붙임 \n",
    "\n",
    "print('pi =', area.PI) # 모듈명 대신 별명 이용\n",
    "print('square area =', area.square_area(5))     \n",
    "print('circle area =', area.circle_area(2))"
   ]
  },
  {
   "cell_type": "markdown",
   "metadata": {},
   "source": [
    "from 모듈명 import 변수명/함수명/클래스명 as 별명"
   ]
  },
  {
   "cell_type": "code",
   "execution_count": null,
   "metadata": {},
   "outputs": [],
   "source": [
    "from my_area import PI as pi                         # from 모듈명 import 변수명 as 별명\n",
    "from my_area import square_area as square            # from 모듈명 import 함수명 as 별명\n",
    "from my_area import circle_area as circle\n",
    "\n",
    "print('pi =', pi)                 # 모듈 변수의 별명 pi 이용\n",
    "print('square area =', square(5)) # 모듈 함수의 별명 square, circle 이용\n",
    "print('circle area =', circle(2))  "
   ]
  },
  {
   "cell_type": "markdown",
   "metadata": {},
   "source": [
    "## 3. 모듈 직접 실행, 모듈 내에서 함수나 클래스를 직접 호출"
   ]
  },
  {
   "cell_type": "markdown",
   "metadata": {},
   "source": [
    "- 위에서 작성한 모듈은 'import 모듈명'으로 볼러온 후에 코드 실행해야 결과를 확인할 수 있었음 = >번거러움<br>\n",
    "- 따라서, 모듈을 만들때는 모듈 내에서 함수나 클래스를 직접 호출함"
   ]
  },
  {
   "cell_type": "markdown",
   "metadata": {},
   "source": [
    "### 3.1 my_modules_test1 모듈에는 입력된 숫자를 출력하는 함수가 있다.\n",
    "### 함수가 잘 작성됬는지 확인하기 위해 모듈 안에서 함수를 호출해본다."
   ]
  },
  {
   "cell_type": "code",
   "execution_count": null,
   "metadata": {},
   "outputs": [],
   "source": [
    "%%writefile C:\\myPyCode\\modules\\my_module_test1.py\n",
    "    \n",
    "def func(a):\n",
    "    print(\"입력 숫자:\", a)\n",
    "    \n",
    "func(3)"
   ]
  },
  {
   "cell_type": "code",
   "execution_count": null,
   "metadata": {},
   "outputs": [],
   "source": [
    "%run C:\\myPyCode\\modules\\my_module_test1.py     # 저장된 모듈 실행  \n",
    "                                                # 모듈 내에서 호출한 함수 func3이 실행된 것 확인"
   ]
  },
  {
   "cell_type": "code",
   "execution_count": null,
   "metadata": {},
   "outputs": [],
   "source": [
    "import my_module_test1    # 이 모듈을 사용하기 위해 import 하면 모듈 내의 코드 실행"
   ]
  },
  {
   "cell_type": "markdown",
   "metadata": {},
   "source": [
    "## 4. 모듈을 import한 후 실행하는 경우와 직접 실행하는 경우 구분하기"
   ]
  },
  {
   "cell_type": "markdown",
   "metadata": {},
   "source": [
    "- 모듈 내 코드에서 func3은 작성한 함수가 잘 실행되는지 확인하기 위한 테스트용 \n",
    "- 따라서 모듈을 저장할 때는 테스트 코드는 삭제해야 함\n",
    "- 테스트 코드를 일일이 삭제하면 번거로움\n",
    "- 따라서 테스트하기위해 모듈을 import한 후 실행하는 경우와 직접 실행하는 경우를 구분해야 함\n"
   ]
  },
  {
   "cell_type": "markdown",
   "metadata": {},
   "source": [
    "### 4.1 모듈에서 import해서 사용하면  'if __name__ == \"__main__\":' 안의 코드가 실행되지 않음"
   ]
  },
  {
   "cell_type": "code",
   "execution_count": null,
   "metadata": {},
   "outputs": [],
   "source": [
    "%%writefile C:\\myPyCode\\modules\\my_module_test2.py   #앞에서 만든 모듈의 테스트 코드를 수정한 후, my_module_test2.py로 저장\n",
    "\n",
    "def func(a):\n",
    "    print(\"입력 숫자:\",a)\n",
    "\n",
    "if __name__ == \"__main__\":\n",
    "    print(\"모듈을 직접 실행\")\n",
    "    func(3)\n",
    "    func(4)"
   ]
  },
  {
   "cell_type": "code",
   "execution_count": null,
   "metadata": {},
   "outputs": [],
   "source": [
    "%run C:\\myPyCode\\modules\\my_module_test2.py   # my_module_test2 실행\n",
    "                                              # 'if __name__ == \"__main__\":' 내의 코드 잘 실행됨"
   ]
  },
  {
   "cell_type": "code",
   "execution_count": null,
   "metadata": {},
   "outputs": [],
   "source": [
    "import my_module_test2    # my_module_test2 모듈을 임포트\n",
    "                          # 아무것도 출력되지 않음"
   ]
  },
  {
   "cell_type": "markdown",
   "metadata": {},
   "source": [
    "### 4.2 모듈에서 직접 수행하면 'if __name__ == \"__main__\":' 안의 코드가 실행됨\n"
   ]
  },
  {
   "cell_type": "code",
   "execution_count": null,
   "metadata": {},
   "outputs": [],
   "source": [
    "%%writefile C:\\myPyCode\\modules\\my_module_test3.py     #my_module_test3.py로 저장\n",
    "\n",
    "def func(a):\n",
    "    print(\"입력 숫자:\",a)\n",
    "\n",
    "if __name__ == \"__main__\":\n",
    "    print(\"모듈을 직접 실행\")\n",
    "    func(3)\n",
    "    func(4)\n",
    "else:\n",
    "    print(\"모듈을 임포트해서 실행\")"
   ]
  },
  {
   "cell_type": "code",
   "execution_count": null,
   "metadata": {},
   "outputs": [],
   "source": [
    "%run C:\\myPyCode\\modules\\my_module_test3.py     # 저장된 모듈을 직접 실행\n",
    "                                                # 'if __name__ == \"__main__\":' 내의 코드 잘 실행됨"
   ]
  },
  {
   "cell_type": "code",
   "execution_count": null,
   "metadata": {},
   "outputs": [],
   "source": [
    "import my_module_test3                 # my_module_test3 모듈을 임포트\n",
    "                                       # 해당 모듈을 임포트한 경우에만 실행하게 만든 코드만 실행된 것을 볼 수 있음"
   ]
  }
 ],
 "metadata": {
  "anaconda-cloud": {},
  "kernelspec": {
   "display_name": "Python 3",
   "language": "python",
   "name": "python3"
  },
  "language_info": {
   "codemirror_mode": {
    "name": "ipython",
    "version": 3
   },
   "file_extension": ".py",
   "mimetype": "text/x-python",
   "name": "python",
   "nbconvert_exporter": "python",
   "pygments_lexer": "ipython3",
   "version": "3.7.4"
  },
  "latex_envs": {
   "LaTeX_envs_menu_present": true,
   "autoclose": false,
   "autocomplete": true,
   "bibliofile": "biblio.bib",
   "cite_by": "apalike",
   "current_citInitial": 1,
   "eqLabelWithNumbers": true,
   "eqNumInitial": 1,
   "hotkeys": {
    "equation": "Ctrl-E",
    "itemize": "Ctrl-I"
   },
   "labels_anchors": false,
   "latex_user_defs": false,
   "report_style_numbering": false,
   "user_envs_cfg": false
  },
  "nav_menu": {},
  "toc": {
   "nav_menu": {
    "height": "289px",
    "width": "252px"
   },
   "number_sections": false,
   "sideBar": true,
   "skip_h1_title": false,
   "toc_cell": false,
   "toc_position": {
    "height": "582px",
    "left": "0px",
    "right": "1135px",
    "top": "111px",
    "width": "231px"
   },
   "toc_section_display": "block",
   "toc_window_display": false
  },
  "toc_position": {
   "height": "533px",
   "left": "0px",
   "right": "979.167px",
   "top": "107px",
   "width": "273px"
  }
 },
 "nbformat": 4,
 "nbformat_minor": 1
}
