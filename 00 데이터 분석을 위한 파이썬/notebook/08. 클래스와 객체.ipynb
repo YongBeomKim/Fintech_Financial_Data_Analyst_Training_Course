{
 "cells": [
  {
   "cell_type": "markdown",
   "metadata": {},
   "source": [
    "\n",
    "## 1. 클래스와 객체"
   ]
  },
  {
   "cell_type": "markdown",
   "metadata": {},
   "source": [
    "- 클래스란? 붕어빵의 틀<br>\n",
    "\n",
    "- 객체란? 붕어빵<br>\n",
    "\n",
    "- 즉, 객체는 클래스의 속성(인스턴스)이다<br>"
   ]
  },
  {
   "cell_type": "markdown",
   "metadata": {},
   "source": [
    "### 1.1 Bicycle 클래스 선언과  my_bicycle 객체 생성\n",
    "\n",
    "\n"
   ]
  },
  {
   "cell_type": "markdown",
   "metadata": {},
   "source": [
    "- 자전거 속성 : wheel_size, color\n",
    "- 자전거 동작 : move, turn, stop"
   ]
  },
  {
   "cell_type": "code",
   "execution_count": 1,
   "metadata": {},
   "outputs": [],
   "source": [
    "class Bicycle():  # Bicycle 클래스 선언\n",
    "    pass"
   ]
  },
  {
   "cell_type": "code",
   "execution_count": 2,
   "metadata": {},
   "outputs": [],
   "source": [
    "my_bicycle = Bicycle()    # 객체명 = 클래스명()\n",
    "                          # my_bicycle 객체생성"
   ]
  },
  {
   "cell_type": "code",
   "execution_count": 3,
   "metadata": {},
   "outputs": [
    {
     "data": {
      "text/plain": [
       "<__main__.Bicycle at 0x1a6bfb142e8>"
      ]
     },
     "execution_count": 3,
     "metadata": {},
     "output_type": "execute_result"
    }
   ],
   "source": [
    "my_bicycle   # 객체를 실행하면 객체의 클래스와 메모리의 주솟값을 출력"
   ]
  },
  {
   "cell_type": "markdown",
   "metadata": {},
   "source": [
    "### 1.2 객체에 속성값 설정하고 출력"
   ]
  },
  {
   "cell_type": "markdown",
   "metadata": {},
   "source": [
    "- \"객체명.변수명 = 속성값\" 으로 속성값 설정\n",
    "- \"객체명.변수명\" 으로 속성값 출력\n",
    "\n",
    "\n"
   ]
  },
  {
   "cell_type": "code",
   "execution_count": 4,
   "metadata": {},
   "outputs": [],
   "source": [
    "my_bicycle.wheel_size = 26     # 객체에 속성 설정\n",
    "my_bicycle.color = 'black'     # 객체에 속성 설정"
   ]
  },
  {
   "cell_type": "markdown",
   "metadata": {},
   "source": [
    "- 객체명.변수명으로 속성값 출력"
   ]
  },
  {
   "cell_type": "code",
   "execution_count": 5,
   "metadata": {},
   "outputs": [
    {
     "name": "stdout",
     "output_type": "stream",
     "text": [
      "바퀴 크기: 26\n",
      "색상: black\n"
     ]
    }
   ],
   "source": [
    "print(\"바퀴 크기:\", my_bicycle.wheel_size)      # 객체의 속성 출력\n",
    "print(\"색상:\", my_bicycle.color)                # 객체의 속성 출력"
   ]
  },
  {
   "cell_type": "markdown",
   "metadata": {},
   "source": [
    "### 1.3 Bicycle 클래스에 함수 추가"
   ]
  },
  {
   "cell_type": "markdown",
   "metadata": {},
   "source": [
    "- 클래스의 함수 안에서는 \"self.변수명 = 속성값\" 으로 속성값 설정\n",
    "\n",
    "- \"self.변수명\" 으로 속성값 출력\n",
    "\n",
    "\n"
   ]
  },
  {
   "cell_type": "code",
   "execution_count": 6,
   "metadata": {},
   "outputs": [],
   "source": [
    "class Bicycle():                \n",
    "    \n",
    "    def move(self, speed):       # Bicycle 클래스에 move함수 추가     \n",
    "        print(\"자전거: 시속 {0}킬로미터로 전진\".format(speed))      \n",
    "        \n",
    "    def turn(self, direction):   # Bicycle 클래스에 turn함수 추가\n",
    "        print(\"자전거: {0}회전\".format(direction))\n",
    "        \n",
    "    def stop(self):              # Bicycle 클래스에 stop함수 추가\n",
    "        print(\"자전거({0}, {1}): 정지 \".format(self.wheel_size, self.color))   # self.wheel_size와 self.color로 객체 속성값 출력 "
   ]
  },
  {
   "cell_type": "markdown",
   "metadata": {},
   "source": [
    "### 1.4 객체의 메서드를 호출하기"
   ]
  },
  {
   "cell_type": "markdown",
   "metadata": {},
   "source": [
    "- 메서드명은 위에서 정의한 함수명 => move, turn, stop\n",
    "\n",
    "\n",
    "\n",
    "- 객체에서 메서드를 호출할 때 인자 수<br>\n",
    "\n",
    "   인자 수 = 클래스에서 정의한 함수의 인자 수 = 정의한 함수 move, turn 2가지\n",
    "\n",
    "\n",
    "- 단,  self를  인자로 갖은 함수 stop은 인자 필요없음\n",
    "\n",
    "\n"
   ]
  },
  {
   "cell_type": "code",
   "execution_count": 7,
   "metadata": {},
   "outputs": [
    {
     "name": "stdout",
     "output_type": "stream",
     "text": [
      "자전거: 시속 30킬로미터로 전진\n",
      "자전거: 좌회전\n",
      "자전거(26, black): 정지 \n"
     ]
    }
   ],
   "source": [
    "# Bicycle클래스로 my_bicycle객체 생성\n",
    "my_bicycle = Bicycle()      \n",
    "\n",
    "# 객체의 속성 설정\n",
    "my_bicycle.wheel_size = 26  \n",
    "my_bicycle.color = 'black' \n",
    "\n",
    "# 객체의 메서드 호출 \n",
    "my_bicycle.move(30)          # Bicyicle 클래스에서 self외의 인자가 있는 move, turn은 인자(30,'좌')를 입력 \n",
    "my_bicycle.turn('좌')    \n",
    "my_bicycle.stop()           # self인자만 있는 stop은 인자업이 객체의 메서드 호출"
   ]
  },
  {
   "cell_type": "markdown",
   "metadata": {},
   "source": [
    "**지금까지는 클래스와 객체를 만들고 따로 객체 속성을 설정한 후, 클래스에 함수를 넣어 객체를 실행했다<br>\n",
    "이제는 객체생성과 동시에 속성을 설정할 수 있도록 만들어보자**"
   ]
  },
  {
   "cell_type": "markdown",
   "metadata": {},
   "source": [
    "## 2. 객체 초기화 함수를 사용하여 객체생성과 동시에 객체속성 설정"
   ]
  },
  {
   "cell_type": "markdown",
   "metadata": {},
   "source": [
    "- 앞에서는 객체를 생성한 후에 따로 객체 속성을  설정했다\n",
    "\n",
    "- 하지만 클래스를 선언할 때 초기화 함수 \"__init__\"  구현하면 객체생성과 동시에 속성값이 설정된다\n",
    "\n",
    "\n",
    "\n",
    "\n",
    "\n"
   ]
  },
  {
   "cell_type": "markdown",
   "metadata": {},
   "source": [
    "### 2.1 Bycicle 클래스에 \"__inint__\" 함수 추가"
   ]
  },
  {
   "cell_type": "code",
   "execution_count": 10,
   "metadata": {},
   "outputs": [],
   "source": [
    "class Bicycle():    \n",
    "    \n",
    "    def __init__(self, wheel_size, color):    # wheel_size와 color를 인자로 받음\n",
    "        self.wheel_size = wheel_size          # 'self.변수명 = 인자명'로 객체속성 초기화\n",
    "        self.color = color\n",
    "        \n",
    "    def move(self, speed):\n",
    "        print(\"자전거: 시속 {0}킬로미터로 전진\".format(speed))\n",
    "        \n",
    "    def turn(self, direction):\n",
    "        print(\"자전거: {0}회전\".format(direction))\n",
    "        \n",
    "    def stop(self):\n",
    "        print(\"자전거({0}, {1}): 정지 \".format(self.wheel_size, self.color))"
   ]
  },
  {
   "cell_type": "markdown",
   "metadata": {},
   "source": [
    "### 2.2 객체를 생성할 때 속성값을 설정해 초기화\n",
    "\n",
    "\n"
   ]
  },
  {
   "cell_type": "code",
   "execution_count": 11,
   "metadata": {},
   "outputs": [
    {
     "name": "stdout",
     "output_type": "stream",
     "text": [
      "자전거: 시속 30킬로미터로 전진\n",
      "자전거: 좌회전\n",
      "자전거(26, black): 정지 \n"
     ]
    }
   ],
   "source": [
    "my_bicycle = Bicycle(26, 'black')   # 초기화 함수를 정의했으므로, 객체 생성과 동시에 속성값을 지정할 수 있게 됨\n",
    "\n",
    "my_bicycle.move(30)    # 객체 메서드 호출\n",
    "my_bicycle.turn('좌')\n",
    "my_bicycle.stop()"
   ]
  },
  {
   "cell_type": "markdown",
   "metadata": {},
   "source": [
    "## 3. 클래스에서 사용하는 변수"
   ]
  },
  {
   "cell_type": "markdown",
   "metadata": {},
   "source": [
    "클래스에서 사용하는 변수는 위치에 따라 클래스 변수, 인스턴스 변수로 나뉜다\n",
    "\n",
    "\n"
   ]
  },
  {
   "cell_type": "markdown",
   "metadata": {},
   "source": [
    "클래스 변수\n",
    "\n",
    "- 클래스 내에 있지만 함수 밖에서 '변수명 = 데이터' 로 정의한 변수\n",
    "\n",
    "- ' 클래스명.변수명' 으로 접근\n",
    "\n",
    "- 만약 클래스 변수만 정의되어 있다면, 객체생성 후 '객체명.변수명' 으로  접근\n",
    "\n",
    "- 클래스에서 생성한 모든 객체가 공통으로 사용 가능\n",
    "\n",
    "\n"
   ]
  },
  {
   "cell_type": "markdown",
   "metadata": {},
   "source": [
    "인스턴스 변수\n",
    "\n",
    "- 클래스 내의 함수 안에서 'self.변수명 = 데이터' 로 정의한 변수\n",
    "\n",
    "- 'self = 변수명' 으로 접근\n",
    "\n",
    "- 객체를 생성한 후에는 '객체명.변수명' 형식으로 접근\n",
    "\n",
    "- 인스턴스 변수는 각 객체에서 개별적으로 관리\n",
    "\n",
    "\n"
   ]
  },
  {
   "cell_type": "markdown",
   "metadata": {},
   "source": [
    "### 3.1 클래스 변수와 인스턴스 변수를 사용한 자동차 클래스"
   ]
  },
  {
   "cell_type": "code",
   "execution_count": 12,
   "metadata": {},
   "outputs": [],
   "source": [
    "class Car():\n",
    "    instance_count = 0       # 클래스변수인 instance_count를 __init__에서 Car.instance_count의 형식으로 사용\n",
    "\n",
    "    def __init__(self, size, color):   \n",
    "        self.size = size    # 인스턴스 변수 생성 및 초기화\n",
    "        self.color = color  # 인스턴스 변수 생성 및 초기화\n",
    "        Car.instance_count = Car.instance_count + 1       # 클래스 변수를 초기화함수에서  Car.instance_count의 형식으로 이용\n",
    "        print(\"자동차 객체의 수: {0}\".format(Car.instance_count))\n",
    "        \n",
    "    def move(self):\n",
    "        print(\"자동차({0} & {1})가 움직입니다.\".format(self.size, self.color))"
   ]
  },
  {
   "cell_type": "markdown",
   "metadata": {},
   "source": [
    "### 3.2 클래스 변수 동작시키기"
   ]
  },
  {
   "cell_type": "code",
   "execution_count": 13,
   "metadata": {},
   "outputs": [
    {
     "name": "stdout",
     "output_type": "stream",
     "text": [
      "자동차 객체의 수: 1\n",
      "자동차 객체의 수: 2\n"
     ]
    }
   ],
   "source": [
    "car1 = Car('small', 'white')   # 클래스 car이용해 car1, car2 두 개의 객체 생성\n",
    "car2 = Car('big', 'black')"
   ]
  },
  {
   "cell_type": "markdown",
   "metadata": {},
   "source": [
    "- 결과를 보면 객체를 생성할 때마다 클래스변수 instance_count가 1씩 증가해 car클래스의 객체가 몇 개 생성됬는지 확인 가능"
   ]
  },
  {
   "cell_type": "markdown",
   "metadata": {},
   "source": [
    "#### 클래스 변수는 객체를 생성한 후 '객체명.변수명' 형식으로 접근 가능"
   ]
  },
  {
   "cell_type": "code",
   "execution_count": 15,
   "metadata": {},
   "outputs": [
    {
     "name": "stdout",
     "output_type": "stream",
     "text": [
      "Car 클래스의 총 인스턴스 개수:2\n",
      "Car 클래스의 총 인스턴스 개수:2\n"
     ]
    }
   ],
   "source": [
    "print(\"Car 클래스의 총 인스턴스 개수:{}\".format(car1.instance_count))  # '객체명.변수명' \n",
    "print(\"Car 클래스의 총 인스턴스 개수:{}\".format(car2.instance_count))"
   ]
  },
  {
   "cell_type": "markdown",
   "metadata": {},
   "source": [
    "- 결과를 보면 car1, car2객체에서 사용한 클래스변수 instance_count는 값이 같은 걸 볼 수 있음\n",
    "- 이는 모든 객체에서 클래스 변수가 공통으로 사용되기 때문임\n"
   ]
  },
  {
   "cell_type": "markdown",
   "metadata": {},
   "source": [
    "### 3.3 인스턴스 변수 동작시키기"
   ]
  },
  {
   "cell_type": "code",
   "execution_count": 16,
   "metadata": {},
   "outputs": [
    {
     "name": "stdout",
     "output_type": "stream",
     "text": [
      "자동차(small & white)가 움직입니다.\n",
      "자동차(big & black)가 움직입니다.\n"
     ]
    }
   ],
   "source": [
    "car1.move()    #인스턴스 변수가 어떻게 동작하는지 보기위해 생성된 객체의 메서드를 실행\n",
    "car2.move()   "
   ]
  },
  {
   "cell_type": "markdown",
   "metadata": {},
   "source": [
    "- 인스턴스 변수(self.size와 self.color)는 각 객체에서 별도로 관리됨"
   ]
  },
  {
   "cell_type": "markdown",
   "metadata": {},
   "source": [
    "### 3.4 이름이 같은 클래스 변수와 인스턴스 변수가 있는 Car2 클래스 생성"
   ]
  },
  {
   "cell_type": "code",
   "execution_count": 17,
   "metadata": {},
   "outputs": [],
   "source": [
    "class Car2():\n",
    "    count = 0;    # 클래스 변수 생성 및 초기화\n",
    "\n",
    "    def __init__(self, size, num):  # 초기화 함수에서 클래스 변수 count(함수 내에서 Car2.count)와 인스턴스 변수 count(함수 내에서 self.count)이용\n",
    "                                    # count로 변수 이름은 같지만 별개로 동작함\n",
    "            \n",
    "        self.size = size    # 인스턴스 변수 생성 및 초기화\n",
    "        self.count = num    # 인스턴스 변수 생성 및 초기화\n",
    "        Car2.count = Car2.count + 1    # 클래스 변수 이용\n",
    "        print(\"자동차 객체의 수: Car2.count = {0}\".format(Car2.count))\n",
    "        print(\"인스턴스 변수 초기화: self.count = {0}\".format(self.count))\n",
    "        \n",
    "    def move(self):\n",
    "        print(\"자동차({0} & {1})가 움직입니다.\".format(self.size, self.count))"
   ]
  },
  {
   "cell_type": "markdown",
   "metadata": {},
   "source": [
    "### 3.5 객체를 생성해 각 객체에서 두 변수 동작시키기"
   ]
  },
  {
   "cell_type": "code",
   "execution_count": 18,
   "metadata": {},
   "outputs": [
    {
     "name": "stdout",
     "output_type": "stream",
     "text": [
      "자동차 객체의 수: Car2.count = 1\n",
      "인스턴스 변수 초기화: self.count = 20\n",
      "자동차 객체의 수: Car2.count = 2\n",
      "인스턴스 변수 초기화: self.count = 30\n"
     ]
    }
   ],
   "source": [
    "car1 = Car2(\"big\", 20)\n",
    "car2 = Car2(\"small\", 30)"
   ]
  },
  {
   "cell_type": "markdown",
   "metadata": {},
   "source": [
    "- 클래스 변수 count와 인스턴스 변수 count가 별개로 동작하는 것을 보여줌"
   ]
  },
  {
   "cell_type": "markdown",
   "metadata": {},
   "source": [
    "## 4. 클래스에서 사용하는 함수"
   ]
  },
  {
   "cell_type": "markdown",
   "metadata": {},
   "source": [
    "### 4.1 인스턴스 메서드"
   ]
  },
  {
   "cell_type": "markdown",
   "metadata": {},
   "source": [
    "- 각 객체에서 개별적으로 동작하는 함수 만들 때 사용하는 함수\n",
    "\n",
    "- 인스턴스 메서드는 함수를 정의할 때 첫 인자로 self가 필요함 (self는 객체 자신을 가르킴)\n",
    "\n",
    "- 따라서 인스턴스 메서드에서는 self를 이용해 인스턴스 변수를 만들어 사용\n",
    "\n",
    "- 인스턴스 메서드 안에서는 'self.함수명()' 형식으로 클래스 내의 다른 함수를 호출할 수 있음"
   ]
  },
  {
   "cell_type": "markdown",
   "metadata": {},
   "source": [
    "#### 인스턴스 메서드를 사용한 자동차 클래스의 예"
   ]
  },
  {
   "cell_type": "code",
   "execution_count": 19,
   "metadata": {},
   "outputs": [],
   "source": [
    "# Car 클래스 선언\n",
    "class Car():\n",
    "    instance_count = 0 # 클래스 변수 생성 및 초기화\n",
    "    \n",
    "    # 인스턴스 메서드 __init__\n",
    "    def __init__(self, size, color):\n",
    "        self.size = size    # 인스턴스 변수 생성 및 초기화\n",
    "        self.color = color  # 인스턴스 변수 생성 및 초기화\n",
    "        Car.instance_count = Car.instance_count + 1 # 클래스 변수 이용\n",
    "        print(\"자동차 객체의 수: {0}\".format(Car.instance_count))  \n",
    "       \n",
    "    # 인스턴스 메서드 move\n",
    "    def move(self, speed):\n",
    "        self.speed = speed  # 인스턴스 변수 생성    \n",
    "        print(\"자동차({0} & {1})가 \".format(self.size, self.color), end='')\n",
    "        print(\"시속 {0}킬로미터로 전진\".format(self.speed))\n",
    "        \n",
    "    # 인스턴스 메서드 auto_cruise\n",
    "    def auto_cruise(self):      # auto_cruise함수는 'self.함수명' 이용해 인스턴스 메서드 move호출\n",
    "        print(\"자율 주행 모드\")\n",
    "        self.move(self.speed)   # move() 함수의 인자로 인스턴스 변수를 입력"
   ]
  },
  {
   "cell_type": "markdown",
   "metadata": {},
   "source": [
    "#### 인스턴스 메서드를 실행하기 위해 객체를 생성하고 move, auto_cruise메서드 호출"
   ]
  },
  {
   "cell_type": "code",
   "execution_count": 20,
   "metadata": {},
   "outputs": [
    {
     "name": "stdout",
     "output_type": "stream",
     "text": [
      "자동차 객체의 수: 1\n",
      "자동차 객체의 수: 2\n",
      "자동차(small & red)가 시속 80킬로미터로 전진\n",
      "자동차(big & green)가 시속 100킬로미터로 전진\n",
      "자율 주행 모드\n",
      "자동차(small & red)가 시속 80킬로미터로 전진\n",
      "자율 주행 모드\n",
      "자동차(big & green)가 시속 100킬로미터로 전진\n"
     ]
    }
   ],
   "source": [
    "car1 = Car(\"small\", \"red\") # 객체 생성 (car1)\n",
    "car2 = Car(\"big\", \"green\") # 객체 생성 (car2)\n",
    "\n",
    "car1.move(80) #객체(car1)의 move() 메서드 호출\n",
    "car2.move(100) #객체(car2)의 move() 메서드 호출\n",
    "\n",
    "car1.auto_cruise() #객체(car1)의 auto_cruise() 메서드 호출\n",
    "car2.auto_cruise() #객체(car2)의 auto_cruise() 메서드 호출"
   ]
  },
  {
   "cell_type": "markdown",
   "metadata": {},
   "source": [
    "- 인스턴스 메서드인 move, auto_cruise는 두개의 객체 car1,car2에서 개별적으로 동작함"
   ]
  },
  {
   "cell_type": "markdown",
   "metadata": {},
   "source": [
    "### 4.2 정적 메서드"
   ]
  },
  {
   "cell_type": "markdown",
   "metadata": {},
   "source": [
    "- 정적 메서드는 날짜 및 시간정보 제공, 환율정보 제공 등 객체와 관계없이 독립적으로 동작하는 함수 만들 때 사용\n",
    "- 함수를 정의할 때 인자로 self를 사용하지 않으며, 인스턴스 메서드나 변수에 접근 못함\n",
    "- 함수 앞에 데코레이터인  @staticmethod를 선언해 정적 메세드임을 표시"
   ]
  },
  {
   "cell_type": "markdown",
   "metadata": {},
   "source": [
    "#### 앞에서 만든 car클래스에 정적 메서드인 check_type을 추가"
   ]
  },
  {
   "cell_type": "code",
   "execution_count": 21,
   "metadata": {},
   "outputs": [],
   "source": [
    "# Car 클래스 선언\n",
    "class Car():\n",
    "        \n",
    "    # def __init__(self, size, color): => 앞의 코드 활용\n",
    "    # def move(self, speed): => 앞의 코드 활용\n",
    "    # def auto_cruise(self): => 앞의 코드 활용\n",
    "    \n",
    "    # 정적 메서드\n",
    "    @staticmethod\n",
    "    def check_type(model_code):    # self인자 없이 일반 함수처럼 필요한 인자만 사용\n",
    "        if(model_code >= 20):\n",
    "            print(\"이 자동차는 전기차입니다.\")\n",
    "        elif(10 <= model_code < 20):\n",
    "            print(\"이 자동차는 가솔린차입니다.\")\n",
    "        else:\n",
    "            print(\"이 자동차는 디젤차입니다.\")"
   ]
  },
  {
   "cell_type": "markdown",
   "metadata": {},
   "source": [
    "#### '클래스명.정적메서드명' 형식으로 정적 메서드 호출"
   ]
  },
  {
   "cell_type": "code",
   "execution_count": 22,
   "metadata": {},
   "outputs": [
    {
     "name": "stdout",
     "output_type": "stream",
     "text": [
      "이 자동차는 전기차입니다.\n",
      "이 자동차는 디젤차입니다.\n"
     ]
    }
   ],
   "source": [
    "Car.check_type(25)\n",
    "Car.check_type(2)"
   ]
  },
  {
   "cell_type": "markdown",
   "metadata": {},
   "source": [
    "### 4.3 클래스 메서드"
   ]
  },
  {
   "cell_type": "markdown",
   "metadata": {},
   "source": [
    "- 클래스 변수를 사용하기 위한 함수\n",
    "- 함수를 정의할 때, 첫번째 인자로 클래스를 넘겨받는 cls가 필요\n",
    "- 이를 이용해 클래스 변수에 접근\n",
    "- 클래스 메서드를 사용하기 위해 데코레이터인  @classmethod를 지정"
   ]
  },
  {
   "cell_type": "markdown",
   "metadata": {},
   "source": [
    "#### 앞에서 만든 car클래스에 클래스 메서드인 count_instance 추가"
   ]
  },
  {
   "cell_type": "code",
   "execution_count": 23,
   "metadata": {},
   "outputs": [],
   "source": [
    "# Car 클래스 선언\n",
    "class Car():\n",
    "    instance_count = 0 # 클래스 변수는 초기화 함수에서 1씩 증가하므로 객체가 생성될 때마다 값이 1씩 증가함     \n",
    "  \n",
    "    # 초기화 함수(인스턴스 메서드)\n",
    "    def __init__(self, size, color):\n",
    "        self.size = size    # 인스턴스 변수\n",
    "        self.color = color  # 인스턴스 변수\n",
    "        Car.instance_count = Car.instance_count + 1\n",
    "       \n",
    "    # def move(self, speed): => 앞의 코드 활용\n",
    "    # def auto_cruise(self): => 앞의 코드 활용\n",
    "    # @staticmethod\n",
    "    # def check_type(model_code): => 앞의 코드 활용\n",
    "    \n",
    "    # 클래스 메서드\n",
    "    @classmethod\n",
    "    def count_instance(cls):  #클래스 변수 instance_coumt를 출력하는 클래스 메서드 count_instance를 호출하면 현재까지 생성된 객체의 개수를 알 수 있음\n",
    "        print(\"자동차 객체의 개수: {0}\".format(cls.instance_count))"
   ]
  },
  {
   "cell_type": "markdown",
   "metadata": {},
   "source": [
    "#### '클래스명.클래스메서드명()' 형식으로 클래스 메서드 호출"
   ]
  },
  {
   "cell_type": "code",
   "execution_count": 24,
   "metadata": {},
   "outputs": [
    {
     "name": "stdout",
     "output_type": "stream",
     "text": [
      "자동차 객체의 개수: 0\n",
      "자동차 객체의 개수: 1\n",
      "자동차 객체의 개수: 2\n"
     ]
    }
   ],
   "source": [
    "Car.count_instance() # 객체 생성 전에 클래스 메서드 호출\n",
    "\n",
    "car1 = Car(\"small\", \"red\") # 첫 번째 객체 생성\n",
    "Car.count_instance() # 클래스 메서드 호출\n",
    "\n",
    "car2 = Car(\"big\", \"green\") # 두 번째 객체 생성\n",
    "Car.count_instance() # 클래스 메서드 호출"
   ]
  },
  {
   "cell_type": "markdown",
   "metadata": {},
   "source": [
    "- 결과를 보면 객체를 생성할 때마다 클래스 변수 instance_count의 값이 1씩 증가하는 것을 알 수 있음"
   ]
  },
  {
   "cell_type": "markdown",
   "metadata": {},
   "source": [
    "**지금까지 클래스와 객체를 사용하는 방법을 알아보았다.이제는 클래스와 객체를 사용하는 이유를 알아보자**"
   ]
  },
  {
   "cell_type": "markdown",
   "metadata": {},
   "source": [
    "## 5. 클래스와 객체를 사용하는 이유"
   ]
  },
  {
   "cell_type": "markdown",
   "metadata": {},
   "source": [
    "### 5.1 클래스와 객체를 사용하지 않고 코드 작성"
   ]
  },
  {
   "cell_type": "markdown",
   "metadata": {},
   "source": [
    "한 대의 로봇을 구현하기 위해 2개의 변수(name,pos)와 1개의 함수(move) 만듬"
   ]
  },
  {
   "cell_type": "markdown",
   "metadata": {},
   "source": [
    "- 로봇의 속성: 이름, 위치\n",
    "- 로봇의 동작: 한 칸 이동"
   ]
  },
  {
   "cell_type": "markdown",
   "metadata": {},
   "source": [
    "#### 한 대의 로봇을 구현할 때는 변수와 함수 한 개만 필요함 = > 쉬움\n"
   ]
  },
  {
   "cell_type": "code",
   "execution_count": 25,
   "metadata": {},
   "outputs": [],
   "source": [
    "robot_name = 'R1'  # 로봇 이름\n",
    "robot_pos = 0      # 로봇의 초기 위치\n",
    "\n",
    "def robot_move():  # 로봇을 한 칸 이동한 후에 로봇의 이름과 위치를 출력\n",
    "    global robot_pos\n",
    "    robot_pos = robot_pos + 1\n",
    "    print(\"{0} position: {1}\".format(robot_name, robot_pos))"
   ]
  },
  {
   "cell_type": "code",
   "execution_count": 26,
   "metadata": {},
   "outputs": [
    {
     "name": "stdout",
     "output_type": "stream",
     "text": [
      "R1 position: 1\n"
     ]
    }
   ],
   "source": [
    "robot_move()"
   ]
  },
  {
   "cell_type": "markdown",
   "metadata": {},
   "source": [
    "#### 두 대의 로봇을 구현 하면 변수와 함수가 두 배로 늘어남 => 어려워짐\n"
   ]
  },
  {
   "cell_type": "code",
   "execution_count": 27,
   "metadata": {},
   "outputs": [],
   "source": [
    "robot1_name = 'R1' # 로봇 이름\n",
    "robot1_pos = 0     # 로봇의 초기 위치\n",
    "\n",
    "def robot1_move():\n",
    "    global robot1_pos\n",
    "    robot1_pos = robot1_pos + 1\n",
    "    print(\"{0} position: {1}\".format(robot1_name, robot1_pos))\n",
    "\n",
    "robot2_name = 'R2' # 로봇 이름\n",
    "robot2_pos = 10    # 로봇의 초기 위치\n",
    "\n",
    "def robot2_move():\n",
    "    global robot2_pos\n",
    "    robot2_pos = robot2_pos + 1\n",
    "    print(\"{0} position: {1}\".format(robot2_name, robot2_pos))"
   ]
  },
  {
   "cell_type": "code",
   "execution_count": 28,
   "metadata": {},
   "outputs": [
    {
     "name": "stdout",
     "output_type": "stream",
     "text": [
      "R1 position: 1\n",
      "R2 position: 11\n"
     ]
    }
   ],
   "source": [
    "robot1_move()\n",
    "robot2_move()"
   ]
  },
  {
   "cell_type": "markdown",
   "metadata": {},
   "source": [
    "### 5.2 클래스와 객체를 사용하여 코드 작성"
   ]
  },
  {
   "cell_type": "markdown",
   "metadata": {},
   "source": [
    "구현하려는 로봇 수가 늘어나더라도 변수와 함수도 같이 늘어나지 않음 => 쉬움\n"
   ]
  },
  {
   "cell_type": "code",
   "execution_count": 29,
   "metadata": {},
   "outputs": [],
   "source": [
    "class Robot():\n",
    "    def __init__(self, name, pos):   # self.name과 self.pos는 init에서 초기화\n",
    "        self.name = name    \n",
    "        self.pos = pos      \n",
    "       \n",
    "    def move(self):                 # move함수에 한 칸 이동하는 기능 구현\n",
    "        self.pos = self.pos + 1\n",
    "        print(\"{0} position: {1}\".format(self.name, self.pos))"
   ]
  },
  {
   "cell_type": "code",
   "execution_count": 30,
   "metadata": {},
   "outputs": [],
   "source": [
    "robot1 = Robot('R1', 0)     #robot1,2 객체 생성\n",
    "robot2 = Robot('R2', 10)"
   ]
  },
  {
   "cell_type": "code",
   "execution_count": 31,
   "metadata": {},
   "outputs": [
    {
     "name": "stdout",
     "output_type": "stream",
     "text": [
      "R1 position: 1\n",
      "R2 position: 11\n"
     ]
    }
   ],
   "source": [
    "robot1.move()    # 생성된 각 로봇 객체의 메서드 실행\n",
    "robot2.move()"
   ]
  },
  {
   "cell_type": "code",
   "execution_count": 32,
   "metadata": {},
   "outputs": [
    {
     "name": "stdout",
     "output_type": "stream",
     "text": [
      "R3 position: 31\n",
      "R4 position: 41\n"
     ]
    }
   ],
   "source": [
    "myRobot3 = Robot('R3', 30)    # 각 로봇 객체를 한 칸씩 움직임\n",
    "myRobot4 = Robot('R4', 40)\n",
    "\n",
    "myRobot3.move()\n",
    "myRobot4.move()"
   ]
  },
  {
   "cell_type": "markdown",
   "metadata": {},
   "source": [
    "## 6. 클래스 상속"
   ]
  },
  {
   "cell_type": "markdown",
   "metadata": {},
   "source": [
    "### 6.1 부모 클래스(Bicycle)에서 상속받아 자식 클래스(FoldingBicycle) 만들기"
   ]
  },
  {
   "cell_type": "code",
   "execution_count": 33,
   "metadata": {},
   "outputs": [],
   "source": [
    "class Bicycle():     # 앞에서 만든 Bicycle클래스 \n",
    "    \n",
    "    def __init__(self, wheel_size, color):\n",
    "        self.wheel_size = wheel_size\n",
    "        self.color = color\n",
    "        \n",
    "    def move(self, speed):\n",
    "        print(\"자전거: 시속 {0}킬로미터로 전진\".format(speed))\n",
    "        \n",
    "    def turn(self, direction):\n",
    "        print(\"자전거: {0}회전\".format(direction))\n",
    "        \n",
    "    def stop(self):\n",
    "        print(\"자전거({0}, {1}): 정지 \".format(self.wheel_size, self.color))"
   ]
  },
  {
   "cell_type": "markdown",
   "metadata": {},
   "source": [
    "### 6.2 Bicycle클래스(부모)를 상속해 FoldingBicycle클래스(자식)를 만듬"
   ]
  },
  {
   "cell_type": "code",
   "execution_count": 34,
   "metadata": {},
   "outputs": [],
   "source": [
    "class FoldingBicycle(Bicycle):  #Bicycle 클래스 상속받음\n",
    "        \n",
    "    def __init__(self, wheel_size, color, state): # 인자 2개(wheel_size, color)를 초기화하기위해\n",
    "        Bicycle.__init__(self, wheel_size, color) # 상속받은 초기화함수 Bicycle.__init__(self, wheel_size, color)를 사용\n",
    "        self.state = state                        # Bicycle클래스에 없는 self.state변수를 초기화하기 위해 이부분 추가\n",
    "        \n",
    "    def fold(self):    # 자전거를 접는 기능을 수행하는 함수\n",
    "        self.state = 'folding'\n",
    "        print(\"자전거: 접기, state = {0}\".format(self.state))\n",
    "\n",
    "    def unfold(self):  # 자전거를 펴는 기능을 수행하는 함수\n",
    "        self.state = 'unfolding'\n",
    "        print(\"자전거: 펴기, state = {0}\".format(self.state))"
   ]
  },
  {
   "cell_type": "markdown",
   "metadata": {},
   "source": [
    "### 6.3 FoldingBicycle클래스(자식)의 객체를 생성한 후에 메서드 호출"
   ]
  },
  {
   "cell_type": "code",
   "execution_count": 35,
   "metadata": {},
   "outputs": [
    {
     "name": "stdout",
     "output_type": "stream",
     "text": [
      "자전거: 시속 20킬로미터로 전진\n",
      "자전거: 접기, state = folding\n",
      "자전거: 펴기, state = unfolding\n"
     ]
    }
   ],
   "source": [
    "folding_bicycle = FoldingBicycle(27, 'white', 'unfolding') # 객체 생성\n",
    "\n",
    "folding_bicycle.move(20) # FoldingBicycle클래스에서 move를 구현하지 않았지만, Bicycle클래스에서 상속받아 메서드 호출 가능 (부모클래스)\n",
    "folding_bicycle.fold()   # FoldingBicycle클래스에서 추가로 구현 (자식클래스)\n",
    "folding_bicycle.unfold() # FoldingBicycle클래스에서 추가로 구현 (자식클래스)"
   ]
  }
 ],
 "metadata": {
  "kernelspec": {
   "display_name": "Python 3",
   "language": "python",
   "name": "python3"
  },
  "language_info": {
   "codemirror_mode": {
    "name": "ipython",
    "version": 3
   },
   "file_extension": ".py",
   "mimetype": "text/x-python",
   "name": "python",
   "nbconvert_exporter": "python",
   "pygments_lexer": "ipython3",
   "version": "3.7.4"
  }
 },
 "nbformat": 4,
 "nbformat_minor": 2
}
