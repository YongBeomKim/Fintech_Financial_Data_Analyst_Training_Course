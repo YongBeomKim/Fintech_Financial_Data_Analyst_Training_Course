{
 "cells": [
  {
   "cell_type": "markdown",
   "metadata": {},
   "source": [
    "## 1. 화면 출력 print"
   ]
  },
  {
   "cell_type": "markdown",
   "metadata": {},
   "source": [
    "### 1.1 print 사용"
   ]
  },
  {
   "cell_type": "code",
   "execution_count": 1,
   "metadata": {},
   "outputs": [
    {
     "name": "stdout",
     "output_type": "stream",
     "text": [
      "Hello Python!!\n"
     ]
    }
   ],
   "source": [
    "print(\"Hello Python!!\")"
   ]
  },
  {
   "cell_type": "code",
   "execution_count": 2,
   "metadata": {},
   "outputs": [
    {
     "name": "stdout",
     "output_type": "stream",
     "text": [
      "Best python book\n"
     ]
    }
   ],
   "source": [
    "print(\"Best\", \"python\", \"book\")     # 문자열 여러개 출력하려면 콤마로 구분\n",
    "                                    # 콤마로 구분하면 자동으로 빈칸이 함께 들어감"
   ]
  },
  {
   "cell_type": "code",
   "execution_count": 3,
   "metadata": {},
   "outputs": [
    {
     "name": "stdout",
     "output_type": "stream",
     "text": [
      "Best-:*:-python-:*:-book\n"
     ]
    }
   ],
   "source": [
    "print(\"Best\", \"python\", \"book\", sep = \"-:*:-\")    # (sep=' ') 사용하여 빈칸에 다른 문자열 넣기"
   ]
  },
  {
   "cell_type": "code",
   "execution_count": 4,
   "metadata": {},
   "outputs": [
    {
     "name": "stdout",
     "output_type": "stream",
     "text": [
      "abcdefg\n"
     ]
    }
   ],
   "source": [
    "print(\"abcd\" + \"efg\")    # 문자열끼리 빈칸없이 연결하려면 + 사용"
   ]
  },
  {
   "cell_type": "code",
   "execution_count": 5,
   "metadata": {},
   "outputs": [
    {
     "name": "stdout",
     "output_type": "stream",
     "text": [
      "Best python book: This book\n"
     ]
    }
   ],
   "source": [
    "print(\"Best\", \"python\", \"book\" + \":\", \"This book\")  #문자열끼리 연결 시 콤마와 + 동시 사용 가능"
   ]
  },
  {
   "cell_type": "code",
   "execution_count": 6,
   "metadata": {},
   "outputs": [
    {
     "name": "stdout",
     "output_type": "stream",
     "text": [
      "Name: James, ID Number: 789\n"
     ]
    }
   ],
   "source": [
    "name = \"James\"\n",
    "ID_num = 789\n",
    "print(\"Name:\", name + \",\", \"ID Number:\", ID_num )   #문자열과 숫자는 +로 연결불가하므로 콤마로 구분하기"
   ]
  },
  {
   "cell_type": "markdown",
   "metadata": {},
   "source": [
    "### 1.2 줄 바꾸기"
   ]
  },
  {
   "cell_type": "markdown",
   "metadata": {},
   "source": [
    "#### 개행문자"
   ]
  },
  {
   "cell_type": "code",
   "execution_count": 7,
   "metadata": {},
   "outputs": [
    {
     "name": "stdout",
     "output_type": "stream",
     "text": [
      "James is my friend.\n",
      "He is Korean.\n"
     ]
    }
   ],
   "source": [
    "print(\"James is my friend.\\nHe is Korean.\")      # 문자열을 여러 줄로 출력하려면 개행문자 사용"
   ]
  },
  {
   "cell_type": "code",
   "execution_count": 8,
   "metadata": {},
   "outputs": [
    {
     "name": "stdout",
     "output_type": "stream",
     "text": [
      "James is my friend.\n",
      "\n",
      "He is Korean.\n"
     ]
    }
   ],
   "source": [
    "print(\"James is my friend.\\n\\nHe is Korean.\")    # 개행문자 두개 입력하면 줄바꿈 2번 실행"
   ]
  },
  {
   "cell_type": "markdown",
   "metadata": {},
   "source": [
    "#### print 2번 사용"
   ]
  },
  {
   "cell_type": "code",
   "execution_count": 9,
   "metadata": {},
   "outputs": [
    {
     "name": "stdout",
     "output_type": "stream",
     "text": [
      "Welcome to \n",
      "python!\n"
     ]
    }
   ],
   "source": [
    "print(\"Welcome to \")       # print 2번 사용하면 두 줄로 출력\n",
    "print(\"python!\")"
   ]
  },
  {
   "cell_type": "code",
   "execution_count": 10,
   "metadata": {},
   "outputs": [
    {
     "name": "stdout",
     "output_type": "stream",
     "text": [
      "Welcome to python!\n"
     ]
    }
   ],
   "source": [
    "print(\"Welcome to \", end=\"\")   # 한줄로 출력하고 싶을 때 (end='')\n",
    "print(\"python!\")"
   ]
  },
  {
   "cell_type": "markdown",
   "metadata": {},
   "source": [
    "### 1.3 %이용해 데이터 형식 지정 "
   ]
  },
  {
   "cell_type": "markdown",
   "metadata": {},
   "source": [
    "#### 데이터 하나일 때"
   ]
  },
  {
   "cell_type": "code",
   "execution_count": 11,
   "metadata": {},
   "outputs": [
    {
     "name": "stdout",
     "output_type": "stream",
     "text": [
      "광재는 나의 친구입니다.\n"
     ]
    }
   ],
   "source": [
    "name = \"광재\"\n",
    "print(\"%s는 나의 친구입니다.\" % name)   # print('%type' % data)   #type다음에 공백있음\n",
    "                                        # %type이 문자열이면 %s, 정수면 %d, 실수면 %f"
   ]
  },
  {
   "cell_type": "markdown",
   "metadata": {},
   "source": [
    "#### 데이터 두 개이상일 때"
   ]
  },
  {
   "cell_type": "code",
   "execution_count": 12,
   "metadata": {},
   "outputs": [
    {
     "name": "stdout",
     "output_type": "stream",
     "text": [
      "반지름: 3, 원주율: 3.141593\n"
     ]
    }
   ],
   "source": [
    "r = 3                      # 정수 데이터 할당\n",
    "PI = 3.14159265358979      # 실수 데이터 할당\n",
    "print(\"반지름: %d, 원주율: %f\" % (r, PI))        # print('%type %type' % (data1, data2))"
   ]
  },
  {
   "cell_type": "markdown",
   "metadata": {},
   "source": [
    "### 1.4 {n}으로 format안의 데이터 출력위치 정하기 "
   ]
  },
  {
   "cell_type": "markdown",
   "metadata": {},
   "source": [
    "#### 문자열 출력"
   ]
  },
  {
   "cell_type": "code",
   "execution_count": 13,
   "metadata": {},
   "outputs": [
    {
     "name": "stdout",
     "output_type": "stream",
     "text": [
      "Animal: cat\n",
      "Animal: cat,dog,fox\n"
     ]
    }
   ],
   "source": [
    "animal_0 = \"cat\"\n",
    "animal_1 = \"dog\"\n",
    "animal_2 = \"fox\"\n",
    "                                              \n",
    "print(\"Animal: {0}\".format(animal_0))       # string.format()        # {0}의 위치에 출력\n",
    "print(\"Animal: {0},{1},{2}\".format(animal_0, animal_1, animal_2)) "
   ]
  },
  {
   "cell_type": "code",
   "execution_count": 14,
   "metadata": {},
   "outputs": [
    {
     "name": "stdout",
     "output_type": "stream",
     "text": [
      "Animal: dog,fox,cat\n"
     ]
    }
   ],
   "source": [
    "print(\"Animal: {1},{2},{0}\".format(animal_0, animal_1, animal_2))   # {n}으로 위치 변경\n",
    "                                                                    # 두번째, 세번째, 첫번째 순서로 출력해라"
   ]
  },
  {
   "cell_type": "code",
   "execution_count": 15,
   "metadata": {},
   "outputs": [
    {
     "name": "stdout",
     "output_type": "stream",
     "text": [
      "Animal: cat,fox\n"
     ]
    }
   ],
   "source": [
    "print(\"Animal: {0},{2}\".format(animal_0, animal_1, animal_2))       # 데이터의 일부만 출력\n",
    "                                                                    # 첫번째, 세번째 데이터만 출력됨 "
   ]
  },
  {
   "cell_type": "code",
   "execution_count": 16,
   "metadata": {},
   "outputs": [
    {
     "name": "stdout",
     "output_type": "stream",
     "text": [
      "Animal: cat, dog, fox\n"
     ]
    }
   ],
   "source": [
    "print(\"Animal: {}, {}, {}\".format(animal_0, animal_1, animal_2))    # 데이터를 순차적으로 지정하려면 {}만 써도 됨"
   ]
  },
  {
   "cell_type": "markdown",
   "metadata": {},
   "source": [
    "####  정수, 실수 출력"
   ]
  },
  {
   "cell_type": "code",
   "execution_count": 17,
   "metadata": {},
   "outputs": [
    {
     "name": "stdout",
     "output_type": "stream",
     "text": [
      "String: Tomas. Integer Number: 10. Floating Number: 0.12345678901234568\n"
     ]
    }
   ],
   "source": [
    "name = \"Tomas\"\n",
    "age = 10\n",
    "a = 0.1234567890123456789\n",
    "fmt_string = \"String: {0}. Integer Number: {1}. Floating Number: {2}\"   # 문자열을 fmt_string 변수에 대입\n",
    "print(fmt_string.format(name, age, a))       # {n}으로 위치만 지정하면 데이터 타입을 따로 지정할 필요 없음"
   ]
  },
  {
   "cell_type": "markdown",
   "metadata": {},
   "source": [
    "#### 숫자 출력"
   ]
  },
  {
   "cell_type": "code",
   "execution_count": 18,
   "metadata": {},
   "outputs": [
    {
     "name": "stdout",
     "output_type": "stream",
     "text": [
      "0.12, 0.12346\n"
     ]
    }
   ],
   "source": [
    "a = 0.1234567890123456789\n",
    "print(\"{0:.2f}, {0:.5f}\".format(a))    # 데이터가 문자열이 아닌 숫자인 경우 {N:'출력 형식'}사용해 다양하게 표현\n",
    "                                       # 2f, 5f 각각 소수점 둘째자리와 셋째자리까지 표시"
   ]
  },
  {
   "cell_type": "markdown",
   "metadata": {},
   "source": [
    "## 2. 키보드 입력 input "
   ]
  },
  {
   "cell_type": "code",
   "execution_count": 19,
   "metadata": {},
   "outputs": [
    {
     "name": "stdout",
     "output_type": "stream",
     "text": [
      "당신의 이름은? 김태희\n",
      "당신은 김태희이군요.\n"
     ]
    }
   ],
   "source": [
    "yourName = input(\"당신의 이름은? \")            # data=input(\"문자열\")\n",
    "print(\"당신은 {}이군요.\".format(yourName))     # input안의 '문자열'은 화면에 표시되고, 데이터를 입력하면 됨"
   ]
  },
  {
   "cell_type": "code",
   "execution_count": 20,
   "metadata": {},
   "outputs": [
    {
     "name": "stdout",
     "output_type": "stream",
     "text": [
      "숫자를 입력하세요: 5\n",
      "당신이 입력한 숫자는 5입니다.\n"
     ]
    }
   ],
   "source": [
    "num = input(\"숫자를 입력하세요: \")             # input함수로 입력받은 숫자를 연산하지 않고 그대로 출력해 오류 발생하지 않음\n",
    "print(\"당신이 입력한 숫자는 {}입니다.\".format(num))"
   ]
  },
  {
   "cell_type": "code",
   "execution_count": 21,
   "metadata": {},
   "outputs": [
    {
     "name": "stdout",
     "output_type": "stream",
     "text": [
      "정사각형 한 변의 길이는?: 5\n",
      "정사각형의 넓이: 25\n"
     ]
    }
   ],
   "source": [
    "a = input(\"정사각형 한 변의 길이는?: \")\n",
    "area = int(a) ** 2                             # int사용해 문자열을 정수로 변환\n",
    "print(\"정사각형의 넓이: {}\".format(area))      # 숫자를 연산에 이용한다면 정수나 실수로 변환해야 함\n",
    "                                               # input함수로부터 입력받은 데이터는 모두 문자열로 처리되기 때문"
   ]
  },
  {
   "cell_type": "code",
   "execution_count": 22,
   "metadata": {},
   "outputs": [
    {
     "name": "stdout",
     "output_type": "stream",
     "text": [
      "정사각형 한 변의 길이는?:5\n",
      "정사각형의 넓이: 25.0\n"
     ]
    }
   ],
   "source": [
    "b = input(\"정사각형 한 변의 길이는?:\")\n",
    "area = float(b) ** 2                          # 입력하려는 숫자가 정수인지 실수인지 모를 때는 실수로 변환\n",
    "print(\"정사각형의 넓이: {}\".format(area))"
   ]
  },
  {
   "cell_type": "markdown",
   "metadata": {},
   "source": [
    "## 3. 파일 읽고 쓰기"
   ]
  },
  {
   "cell_type": "markdown",
   "metadata": {},
   "source": [
    "### 3.1 파일 열기"
   ]
  },
  {
   "cell_type": "code",
   "execution_count": 23,
   "metadata": {},
   "outputs": [
    {
     "name": "stdout",
     "output_type": "stream",
     "text": [
      "[WinError 2] 지정된 파일을 찾을 수 없습니다: 'C:\\\\myPyCode # 먼저 폴더로 이동'\n",
      "c:\\myPyCode\n"
     ]
    }
   ],
   "source": [
    "cd C:\\myPyCode  # 먼저 폴더로 이동"
   ]
  },
  {
   "cell_type": "markdown",
   "metadata": {},
   "source": [
    "### 3.2 파일에 문자열 쓰기"
   ]
  },
  {
   "cell_type": "code",
   "execution_count": 24,
   "metadata": {},
   "outputs": [],
   "source": [
    "f = open('myFile.txt', 'w')           # (1) 'myFile.txt'를 쓰기 모드로 열기   # f=open('파일이름', 'mode')\n",
    "f.write('This is my first file.')     # (2) 연 파일에 문자열 쓰기             # f.write(str)\n",
    "f.close()                             # (3) 파일 닫기                         # f.close()"
   ]
  },
  {
   "cell_type": "code",
   "execution_count": 25,
   "metadata": {},
   "outputs": [
    {
     "name": "stdout",
     "output_type": "stream",
     "text": [
      "This is my first file.\n"
     ]
    },
    {
     "name": "stderr",
     "output_type": "stream",
     "text": [
      "\n",
      "myFile.txt\n",
      "\n",
      "\n",
      "지정된 파일을 찾을 수 없습니다.\n",
      "다음 내용 진행 중 오류 발생: #.\n",
      "지정된 파일을 찾을 수 없습니다.\n",
      "다음 내용 진행 중 오류 발생: (!type.\n",
      "지정된 파일을 찾을 수 없습니다.\n",
      "다음 내용 진행 중 오류 발생: 파일이름)으로.\n",
      "지정된 파일을 찾을 수 없습니다.\n",
      "다음 내용 진행 중 오류 발생: 파일.\n",
      "지정된 파일을 찾을 수 없습니다.\n",
      "다음 내용 진행 중 오류 발생: 만들어졌는지.\n",
      "지정된 파일을 찾을 수 없습니다.\n",
      "다음 내용 진행 중 오류 발생: 확인.\n"
     ]
    }
   ],
   "source": [
    "!type myFile.txt      # (!type 파일이름)으로 파일 만들어졌는지 확인"
   ]
  },
  {
   "cell_type": "markdown",
   "metadata": {},
   "source": [
    "### 3.3 파일 읽기"
   ]
  },
  {
   "cell_type": "code",
   "execution_count": 26,
   "metadata": {},
   "outputs": [
    {
     "name": "stdout",
     "output_type": "stream",
     "text": [
      "This is my first file.\n"
     ]
    }
   ],
   "source": [
    "f = open('myFile.txt', 'r') # (1)'myFile.txt' 파일 읽기 모드로 열기       # f=open('파일이름', 'mode')\n",
    "file_text = f.read()        # (2) 파일 내용 읽은 후에 변수에 저장         # data=f.read()\n",
    "f.close()                   # (3) 파일 닫기                               # f.close()\n",
    "\n",
    "print(file_text)            # 변수에 저장된 내용 출력        "
   ]
  },
  {
   "cell_type": "markdown",
   "metadata": {},
   "source": [
    "## 4. 반복문 이용해 파일 읽고 쓰기\n"
   ]
  },
  {
   "cell_type": "markdown",
   "metadata": {},
   "source": [
    "### 4.1 for문 "
   ]
  },
  {
   "cell_type": "code",
   "execution_count": 27,
   "metadata": {},
   "outputs": [],
   "source": [
    "f = open('two_times_table.txt','w')        # (1) 파일을 쓰기 모드로 열기    \n",
    "for num in range(1,6):                    # (2) for문 사용해 반복할 범위 지정\n",
    "    format_string = \"2 x {0} = {1}\\n\".format(num,2*num)      # 저장할 문자열 생성\n",
    "    f.write(format_string)                # (3) 파일에 쓰기\n",
    "f.close()                                 # (4) 파일 닫기"
   ]
  },
  {
   "cell_type": "code",
   "execution_count": 28,
   "metadata": {},
   "outputs": [
    {
     "name": "stdout",
     "output_type": "stream",
     "text": [
      "2 x 1 = 2\n",
      "2 x 2 = 4\n",
      "2 x 3 = 6\n",
      "2 x 4 = 8\n",
      "2 x 5 = 10\n"
     ]
    },
    {
     "name": "stderr",
     "output_type": "stream",
     "text": [
      "\n",
      "two_times_table.txt\n",
      "\n",
      "\n",
      "지정된 파일을 찾을 수 없습니다.\n",
      "다음 내용 진행 중 오류 발생: #.\n",
      "지정된 파일을 찾을 수 없습니다.\n",
      "다음 내용 진행 중 오류 발생: (!type.\n",
      "지정된 파일을 찾을 수 없습니다.\n",
      "다음 내용 진행 중 오류 발생: 파일이름)으로.\n",
      "지정된 파일을 찾을 수 없습니다.\n",
      "다음 내용 진행 중 오류 발생: 파일.\n",
      "지정된 파일을 찾을 수 없습니다.\n",
      "다음 내용 진행 중 오류 발생: 만들어졌는지.\n",
      "지정된 파일을 찾을 수 없습니다.\n",
      "다음 내용 진행 중 오류 발생: 확인.\n"
     ]
    }
   ],
   "source": [
    "!type two_times_table.txt    # (!type 파일이름)으로 파일 만들어졌는지 확인"
   ]
  },
  {
   "cell_type": "markdown",
   "metadata": {},
   "source": [
    "### 4.2  readline "
   ]
  },
  {
   "cell_type": "markdown",
   "metadata": {},
   "source": [
    "- 문자열을 한 줄씩 읽음"
   ]
  },
  {
   "cell_type": "code",
   "execution_count": 29,
   "metadata": {},
   "outputs": [
    {
     "name": "stdout",
     "output_type": "stream",
     "text": [
      "2 x 1 = 2\n",
      "2 x 2 = 4\n"
     ]
    }
   ],
   "source": [
    "f = open(\"two_times_table.txt\")   # 파일을 읽기 모드로 열기\n",
    "line1 = f.readline()              # 한 줄씩 문자열을 읽기\n",
    "line2 = f.readline()\n",
    "f.close()                         # 파일 닫기\n",
    "print(line1, end=\"\")              # 한줄로 출력하고 싶을 때 (end='')\n",
    "print(line2, end=\"\") "
   ]
  },
  {
   "cell_type": "code",
   "execution_count": 30,
   "metadata": {},
   "outputs": [
    {
     "name": "stdout",
     "output_type": "stream",
     "text": [
      "2 x 1 = 2\n",
      "2 x 2 = 4\n",
      "2 x 3 = 6\n",
      "2 x 4 = 8\n",
      "2 x 5 = 10\n"
     ]
    }
   ],
   "source": [
    "f = open(\"two_times_table.txt\")  # 파일을 읽기 모드로 열기\n",
    "line = f.readline()              # 문자열 한 줄 읽기\n",
    "while line:                      # line이 공백인지 검사해서 반복 여부 결정\n",
    "    print(line, end = \"\")        # 한줄로 출력하고 싶을 때 (end='') \n",
    "    line = f.readline()          # 문자열 한 줄 읽기\n",
    "f.close()                        # 파일 닫기"
   ]
  },
  {
   "cell_type": "markdown",
   "metadata": {},
   "source": [
    "### 4.3 readlines "
   ]
  },
  {
   "cell_type": "markdown",
   "metadata": {},
   "source": [
    "- 모든 줄을 읽어서 한 줄씩을 요소로 갖는 리스트 타입으로 반환"
   ]
  },
  {
   "cell_type": "code",
   "execution_count": 31,
   "metadata": {},
   "outputs": [
    {
     "name": "stdout",
     "output_type": "stream",
     "text": [
      "['2 x 1 = 2\\n', '2 x 2 = 4\\n', '2 x 3 = 6\\n', '2 x 4 = 8\\n', '2 x 5 = 10\\n']\n"
     ]
    }
   ],
   "source": [
    "f = open(\"two_times_table.txt\") # (1) 파일을 읽기 모드로 열기\n",
    "lines = f.readlines()           # (2) 파일 전체 읽어서 lines에 할당(readlines써서 리스트로 반환)\n",
    "f.close()                       # (3) 파일 닫기\n",
    "\n",
    "print(lines)                    # 리스트 변수 내용 출력"
   ]
  },
  {
   "cell_type": "code",
   "execution_count": 32,
   "metadata": {},
   "outputs": [
    {
     "name": "stdout",
     "output_type": "stream",
     "text": [
      "2 x 1 = 2\n",
      "2 x 2 = 4\n",
      "2 x 3 = 6\n",
      "2 x 4 = 8\n",
      "2 x 5 = 10\n"
     ]
    }
   ],
   "source": [
    "f = open(\"two_times_table.txt\")  # 파일을 읽기 모드로 열기\n",
    "lines = f.readlines()            # 파일 전체 읽어서 lines에 할당(readlines써서 리스트로 반환)\n",
    "f.close()                        # 파일 닫기\n",
    "for line in lines:               # lines 리스트를 <반복 범위>로 지정\n",
    "    print(line, end=\"\")          # 리스트 항목을 출력     # 한줄로 출력하고 싶을 때 (end='')"
   ]
  },
  {
   "cell_type": "code",
   "execution_count": 33,
   "metadata": {},
   "outputs": [
    {
     "name": "stdout",
     "output_type": "stream",
     "text": [
      "2 x 1 = 2\n",
      "2 x 2 = 4\n",
      "2 x 3 = 6\n",
      "2 x 4 = 8\n",
      "2 x 5 = 10\n"
     ]
    }
   ],
   "source": [
    "f = open(\"two_times_table.txt\")  # 파일을 읽기 모드로 열기\n",
    "for line in f.readlines():       # 파일 읽고, 리스트 항목을 line에 할당  \n",
    "                                 # for문의 반복범위에 위처럼 lines대신 f.readlines써서 간단해짐\n",
    "    print(line, end=\"\")          # 리스트 항목을 출력   # 한줄로 출력하고 싶을 때 (end='')\n",
    "f.close()   "
   ]
  },
  {
   "cell_type": "code",
   "execution_count": 34,
   "metadata": {},
   "outputs": [
    {
     "name": "stdout",
     "output_type": "stream",
     "text": [
      "2 x 1 = 2\n",
      "2 x 2 = 4\n",
      "2 x 3 = 6\n",
      "2 x 4 = 8\n",
      "2 x 5 = 10\n"
     ]
    }
   ],
   "source": [
    "f = open(\"two_times_table.txt\") # 파일을 읽기 모드로 열기\n",
    "for line in f:                  # 파일 전체를 읽고, 리스트 항목을 line에 할당    \n",
    "                                # f.readlines대신 f만 입력해도 됨\n",
    "    print(line, end=\"\")         # 리스트 항목을 출력   # 한줄로 출력하고 싶을 때 (end='')\n",
    "f.close()                       # 파일 닫기"
   ]
  },
  {
   "cell_type": "markdown",
   "metadata": {},
   "source": [
    "## 5. with문 이용해 파일 읽고 쓰기"
   ]
  },
  {
   "cell_type": "markdown",
   "metadata": {},
   "source": [
    "- 따로 close하지 않아도 됨"
   ]
  },
  {
   "cell_type": "markdown",
   "metadata": {},
   "source": [
    "### 5.1 with문 "
   ]
  },
  {
   "cell_type": "markdown",
   "metadata": {},
   "source": [
    "#### 파일에 문자열 쓰기"
   ]
  },
  {
   "cell_type": "code",
   "execution_count": 35,
   "metadata": {},
   "outputs": [],
   "source": [
    "with open('C:/myPyCode/myTextFile2.txt', 'w') as f:  # (1) 파일 열기     # with open('파일이름', 'mode') as f:\n",
    "    f.write('File read/write test2: line1\\n')        # (2) 파일 쓰기     # f.write(str)\n",
    "    f.write('File read/write test2: line2\\n')\n",
    "    f.write('File read/write test2: line3\\n')"
   ]
  },
  {
   "cell_type": "markdown",
   "metadata": {},
   "source": [
    "#### 파일 읽기"
   ]
  },
  {
   "cell_type": "code",
   "execution_count": 36,
   "metadata": {},
   "outputs": [
    {
     "name": "stdout",
     "output_type": "stream",
     "text": [
      "File read/write test2: line1\n",
      "File read/write test2: line2\n",
      "File read/write test2: line3\n",
      "\n"
     ]
    }
   ],
   "source": [
    "with open('C:/myPyCode/myTextFile2.txt') as f:  # (1) 파일 열기        # with open('파일이름', 'mode') as f:\n",
    "    file_string = f.read()                      # (2) 파일 읽기        # data=f.read()\n",
    "    print(file_string)"
   ]
  },
  {
   "cell_type": "markdown",
   "metadata": {},
   "source": [
    "### 5.2 with문과 for문"
   ]
  },
  {
   "cell_type": "markdown",
   "metadata": {},
   "source": [
    "#### 파일에 문자열 쓰기"
   ]
  },
  {
   "cell_type": "code",
   "execution_count": 37,
   "metadata": {},
   "outputs": [],
   "source": [
    "with open('C:/myPyCode/myTextFile3.txt', 'w') as f:           # 파일을 쓰기 모드로 열기\n",
    "    for num in range(1,6):                                    # for문에서 1~5까지 반복\n",
    "        format_string = \"3 x {0} = {1}\\n\".format(num,3*num)   # 문자열 생성\n",
    "        f.write(format_string)                                # 파일에 문자열 쓰기"
   ]
  },
  {
   "cell_type": "markdown",
   "metadata": {},
   "source": [
    "#### 파일 읽기"
   ]
  },
  {
   "cell_type": "code",
   "execution_count": 38,
   "metadata": {},
   "outputs": [
    {
     "name": "stdout",
     "output_type": "stream",
     "text": [
      "3 x 1 = 3\n",
      "3 x 2 = 6\n",
      "3 x 3 = 9\n",
      "3 x 4 = 12\n",
      "3 x 5 = 15\n"
     ]
    }
   ],
   "source": [
    "with open('C:/myPyCode/myTextFile3.txt', 'r') as f:     # 파일을 읽기 모드로 열기\n",
    "    for line in f:                                     # 파일 전체를 읽고 리스트 항목을 line에 할당\n",
    "        print(line, end=\"\")              # line에 할당된 문자열 출력   # 한줄로 출력하고 싶을 때 (end='')"
   ]
  },
  {
   "cell_type": "code",
   "execution_count": null,
   "metadata": {},
   "outputs": [],
   "source": []
  }
 ],
 "metadata": {
  "kernelspec": {
   "display_name": "Python 3",
   "language": "python",
   "name": "python3"
  },
  "language_info": {
   "codemirror_mode": {
    "name": "ipython",
    "version": 3
   },
   "file_extension": ".py",
   "mimetype": "text/x-python",
   "name": "python",
   "nbconvert_exporter": "python",
   "pygments_lexer": "ipython3",
   "version": "3.7.4"
  }
 },
 "nbformat": 4,
 "nbformat_minor": 2
}
