{
 "cells": [
  {
   "cell_type": "markdown",
   "metadata": {},
   "source": [
    "### 1.1 텍스트 데이터 파일 준비 및 읽기"
   ]
  },
  {
   "cell_type": "code",
   "execution_count": 7,
   "metadata": {},
   "outputs": [
    {
     "name": "stdout",
     "output_type": "stream",
     "text": [
      "날짜    에스프레소  아메리카노  카페라테  카푸치노\n",
      "10.15       10  \t50         45       20   \n",
      "10.16       12\t\t45         41       18\n",
      "10.17       11\t\t53         32       25\n",
      "10.18       15\t\t49         38       22\n"
     ]
    }
   ],
   "source": [
    "!type c:\\myPyCode\\data\\coffeeShopSales.txt    # type명령어 이용해 파일의 내용 출력"
   ]
  },
  {
   "cell_type": "markdown",
   "metadata": {},
   "source": [
    "### 1.2 텍스트 파일을 연 후, 한 줄씩 읽고 출력"
   ]
  },
  {
   "cell_type": "code",
   "execution_count": 8,
   "metadata": {},
   "outputs": [
    {
     "name": "stdout",
     "output_type": "stream",
     "text": [
      "날짜    에스프레소  아메리카노  카페라테  카푸치노\n",
      "10.15       10  \t50         45       20   \n",
      "10.16       12\t\t45         41       18\n",
      "10.17       11\t\t53         32       25\n",
      "10.18       15\t\t49         38       22"
     ]
    }
   ],
   "source": [
    "file_name = 'c:/myPyCode/data/coffeeShopSales.txt'  # 파일명을 경로와 함께 지정해 file_name변수에 할당\n",
    "\n",
    "f = open(file_name)      # 파일 열기\n",
    "for line in f:           # 한 줄씩 읽어 line변수에 할당   #line변수에는 문자열 한 줄 전체가 들어가 있음\n",
    "    print(line, end='')  # 한 줄씩 출력\n",
    "f.close()                # 파일 닫기"
   ]
  },
  {
   "cell_type": "markdown",
   "metadata": {},
   "source": [
    "## 2. 파일에서 읽어온 문자열 데이터 처리"
   ]
  },
  {
   "cell_type": "markdown",
   "metadata": {},
   "source": [
    "### 2.1 첫 번째 줄의 항목 이름을 가져옴"
   ]
  },
  {
   "cell_type": "code",
   "execution_count": 10,
   "metadata": {},
   "outputs": [
    {
     "data": {
      "text/plain": [
       "'날짜    에스프레소  아메리카노  카페라테  카푸치노\\n'"
      ]
     },
     "execution_count": 10,
     "metadata": {},
     "output_type": "execute_result"
    }
   ],
   "source": [
    "f=open(file_name)    # 파일열기\n",
    "header=f.readline()  # 데이터의 첫 번째 줄 읽음\n",
    "f.close()            # 파일닫기\n",
    "header"
   ]
  },
  {
   "cell_type": "markdown",
   "metadata": {},
   "source": [
    "- 첫 줄의 문자열을 분리해 리스트로 변환하려 했는데 단어사이 공백과, 개행문자가 보임"
   ]
  },
  {
   "cell_type": "markdown",
   "metadata": {},
   "source": [
    "### 2.2 공백과 개행문자 지우기위해 인자 없이 split 메서드로 첫 줄의 문자열에서 항목 이름을 분리해 리스트로 만듬"
   ]
  },
  {
   "cell_type": "code",
   "execution_count": 11,
   "metadata": {},
   "outputs": [
    {
     "data": {
      "text/plain": [
       "['날짜', '에스프레소', '아메리카노', '카페라테', '카푸치노']"
      ]
     },
     "execution_count": 11,
     "metadata": {},
     "output_type": "execute_result"
    }
   ],
   "source": [
    "header_list = header.split()    # 파일의 첫 번째 줄에 있는 항목이름을 리스트변수인 header_list에 할당\n",
    "header_list"
   ]
  },
  {
   "cell_type": "markdown",
   "metadata": {},
   "source": [
    "### 2.3 for문 이용해 2줄~마지막줄까지 데이터의 공백과 개행문자 제거해, 각 항목을 data_list에 넣음"
   ]
  },
  {
   "cell_type": "code",
   "execution_count": 12,
   "metadata": {},
   "outputs": [
    {
     "name": "stdout",
     "output_type": "stream",
     "text": [
      "['10.15', '10', '50', '45', '20']\n",
      "['10.16', '12', '45', '41', '18']\n",
      "['10.17', '11', '53', '32', '25']\n",
      "['10.18', '15', '49', '38', '22']\n"
     ]
    }
   ],
   "source": [
    "f = open(file_name)          # 파일 열기\n",
    "header = f.readline()        # 데이터의 첫 번째 줄을 읽음\n",
    "header_list = header.split() # 첫 줄의 문자열을 분리한 후 리스트로 변환\n",
    "\n",
    "for line in f:               # 두 번째 줄부터 데이터를 읽어서 반복적으로 처리\n",
    "    data_list = line.split() # 문자열을 분리해서 리스트로 변환\n",
    "    print(data_list)         # 결과 확인을 위해 리스트 출력\n",
    "    \n",
    "f.close()                    # 파일 닫기"
   ]
  },
  {
   "cell_type": "markdown",
   "metadata": {},
   "source": [
    "- 출력결과가 리스트 변수 data_list 의 각 항목이 문자열로 되어있음\n",
    "- 전체 판매량과 평균 계산하려면 문자열을 숫자로 바꿔야함"
   ]
  },
  {
   "cell_type": "markdown",
   "metadata": {},
   "source": [
    "### 2.4 문자열을 숫자열로 변환, append로 빈 리스트에 항목 추가"
   ]
  },
  {
   "cell_type": "markdown",
   "metadata": {},
   "source": [
    "- 판매량 데이터가 정수인 것을 이미 알고 있으므로 int이용해 판매량 데이터를 숫자로 변환\n",
    "- 커피 종류별로 생성한 빈 리스트에 항목을 추가하는 append 이용해 커피 종류별 판매량 데이터를 분류"
   ]
  },
  {
   "cell_type": "code",
   "execution_count": 15,
   "metadata": {},
   "outputs": [
    {
     "name": "stdout",
     "output_type": "stream",
     "text": [
      "에스프레소: [10, 12, 11, 15]\n",
      "아메리카노: [50, 45, 53, 49]\n",
      "카페라테: [45, 41, 32, 38]\n",
      "카푸치노: [20, 18, 25, 22]\n"
     ]
    }
   ],
   "source": [
    "f = open(file_name)         # 파일 열기\n",
    "header = f.readline()       # 데이터의 첫 번째 줄을 읽음\n",
    "headerList = header.split() # 첫 줄의 문자열을 분리한 후 리스트로 변환\n",
    "\n",
    "espresso = []               # 커피 종류별로 빈 리스트 생성\n",
    "americano = []\n",
    "cafelatte = []\n",
    "cappucino = []\n",
    "\n",
    "for line in f:              # 두 번째 줄부터 데이터를 읽어서 반복적으로 처리\n",
    "    dataList = line.split() # 문자열에서 공백을 제거해서 문자열 리스트로 변환\n",
    "    \n",
    "    \n",
    "    espresso.append(int(dataList[1]))    # 항목 값을 정수(숫자)로 변환, append() 사용해 커피 종류별로 판매량 데이터를 분류해 넣음    \n",
    "    americano.append(int(dataList[2]))\n",
    "    cafelatte.append(int(dataList[3]))\n",
    "    cappucino.append(int(dataList[4]))   \n",
    "    \n",
    "f.close() # 파일 닫기\n",
    "\n",
    "print(\"{0}: {1}\".format(headerList[1], espresso)) # 변수에 할당된 값을 출력\n",
    "print(\"{0}: {1}\".format(headerList[2], americano))\n",
    "print(\"{0}: {1}\".format(headerList[3], cafelatte))  \n",
    "print(\"{0}: {1}\".format(headerList[4], cappucino))"
   ]
  },
  {
   "cell_type": "markdown",
   "metadata": {},
   "source": [
    "### 2.5 리스트 이용해 나흘간 메뉴별 전체 판매량, 하루 평균 판매량 구하기"
   ]
  },
  {
   "cell_type": "markdown",
   "metadata": {},
   "source": [
    "- 리스트, 튜플, 세트 데이터에서 항목의 합을 구하는 sum, len 사용"
   ]
  },
  {
   "cell_type": "code",
   "execution_count": 16,
   "metadata": {},
   "outputs": [
    {
     "name": "stdout",
     "output_type": "stream",
     "text": [
      "[에스프레소] 판매량\n",
      "- 나흘 전체: 48, 하루 평균: 12.0\n",
      "[아메리카노] 판매량\n",
      "- 나흘 전체: 197, 하루 평균: 49.25\n",
      "[카페라테] 판매량\n",
      "- 나흘 전체: 156, 하루 평균: 39.0\n",
      "[카푸치노] 판매량\n",
      "- 나흘 전체: 85, 하루 평균: 21.25\n"
     ]
    }
   ],
   "source": [
    "total_sum = [sum(espresso), sum(americano), sum(cafelatte), sum(cappucino)]\n",
    "total_mean = [sum(espresso)/len(espresso), sum(americano)/len(americano),\n",
    "              sum(cafelatte)/len(cafelatte), sum(cappucino)/len(cappucino) ]\n",
    "\n",
    "for k in range(len(total_sum)):\n",
    "    print('[{0}] 판매량'.format(headerList[k+1]))\n",
    "    print('- 나흘 전체: {0}, 하루 평균: {1}'.format(total_sum[k], total_mean[k]))"
   ]
  },
  {
   "cell_type": "markdown",
   "metadata": {},
   "source": [
    "결론\n",
    "1. 날짜별로 커피 판매량 데이터가 저장된 텍스트 파일에서 메뉴별로 판매량 데이터를 읽어옴\n",
    "2. 숫자로 변환 후, 리스트의 합과 길이를 구하는 함수를 이용해 메뉴별 전체 판매량과 평균 판매량을 구함"
   ]
  },
  {
   "cell_type": "code",
   "execution_count": null,
   "metadata": {},
   "outputs": [],
   "source": []
  }
 ],
 "metadata": {
  "kernelspec": {
   "display_name": "Python 3",
   "language": "python",
   "name": "python3"
  },
  "language_info": {
   "codemirror_mode": {
    "name": "ipython",
    "version": 3
   },
   "file_extension": ".py",
   "mimetype": "text/x-python",
   "name": "python",
   "nbconvert_exporter": "python",
   "pygments_lexer": "ipython3",
   "version": "3.7.4"
  }
 },
 "nbformat": 4,
 "nbformat_minor": 2
}
